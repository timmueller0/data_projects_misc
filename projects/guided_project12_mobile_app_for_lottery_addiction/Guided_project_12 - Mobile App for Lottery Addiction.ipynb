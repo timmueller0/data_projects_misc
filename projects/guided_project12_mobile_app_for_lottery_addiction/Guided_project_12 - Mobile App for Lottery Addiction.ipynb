{
 "cells": [
  {
   "cell_type": "markdown",
   "metadata": {},
   "source": [
    "# Mobile App for Lottery Addiction\n",
    "\n",
    "Many people start playing the lottery for fun, but for some this activity turns into a habit which eventually escalates into addiction. Like other compulsive gamblers, lottery addicts soon begin spending from their savings and loans, they start to accumulate debts, and eventually engage in desperate behaviors like theft.\n",
    "\n",
    "A medical institute that aims to prevent and treat gambling addictions wants to build a dedicated mobile app to help lottery addicts better estimate their chances of winning. The institute has a team of engineers that will build the app, but they need us to create the logical core of the app and calculate probabilities.\n",
    "\n",
    "For the first version of the app, they want us to focus on the [6/49 lottery](https://en.wikipedia.org/wiki/Lotto_6/49) and build functions that enable users to answer questions like:\n",
    "\n",
    "- What is the probability of winning the big prize with a single ticket?\n",
    "- What is the probability of winning the big prize if we play 40 different tickets (or any other number)?\n",
    "- What is the probability of having at least five (or four, or three, or two) winning numbers on a single ticket?\n",
    "\n",
    "The institute also wants us to consider historical data coming from the national 6/49 lottery game in Canada. The [data set](https://www.kaggle.com/datascienceai/lottery-dataset) has data for 3,665 drawings, dating from 1982 to 2018."
   ]
  },
  {
   "cell_type": "markdown",
   "metadata": {},
   "source": [
    "## Preparing core functions\n",
    "\n",
    "Since we will use these functions a lot, we start by writing functions to calculate factorials, permutations, and combinations."
   ]
  },
  {
   "cell_type": "code",
   "execution_count": 1,
   "metadata": {
    "collapsed": false
   },
   "outputs": [
    {
     "data": {
      "text/plain": [
       "120"
      ]
     },
     "execution_count": 1,
     "metadata": {},
     "output_type": "execute_result"
    }
   ],
   "source": [
    "# Function to calculate factorials\n",
    "def factorial(n):\n",
    "    if n == 0:\n",
    "        return 1\n",
    "    else:\n",
    "        factors = []\n",
    "        for i in range(n):\n",
    "            factors.append(n - i)\n",
    "        product = 1\n",
    "        for factor in factors:\n",
    "            product *= factor\n",
    "        return product\n",
    "\n",
    "# Test function\n",
    "factorial(5)"
   ]
  },
  {
   "cell_type": "code",
   "execution_count": 2,
   "metadata": {
    "collapsed": false
   },
   "outputs": [
    {
     "data": {
      "text/plain": [
       "6.0"
      ]
     },
     "execution_count": 2,
     "metadata": {},
     "output_type": "execute_result"
    }
   ],
   "source": [
    "# Function to calculate permutations (order matters - Ordered sampling without replacement)\n",
    "def permutations(n, k):\n",
    "    if k > n:\n",
    "        return 0\n",
    "    else:\n",
    "        return factorial(n) / factorial(n - k)\n",
    "\n",
    "# Test function\n",
    "permutations(3, 2)"
   ]
  },
  {
   "cell_type": "code",
   "execution_count": 3,
   "metadata": {
    "collapsed": false
   },
   "outputs": [
    {
     "data": {
      "text/plain": [
       "13983816.0"
      ]
     },
     "execution_count": 3,
     "metadata": {},
     "output_type": "execute_result"
    }
   ],
   "source": [
    "# Function to calculate combinations (order doesn't matter - Unordered sampling without replacement)\n",
    "def combinations(n, k):\n",
    "    return permutations(n, k) / factorial(k)\n",
    "\n",
    "# Test function\n",
    "combinations(49, 6)"
   ]
  },
  {
   "cell_type": "markdown",
   "metadata": {},
   "source": [
    "## One-ticket probability\n",
    "\n",
    "In the 6/49 lottery, six numbers are drawn from a set of 49 numbers that range from 1 to 49. A player wins the big prize if the six numbers on their tickets match all the six numbers drawn. If a player has a ticket with the numbers {13, 22, 24, 27, 42, 44}, he only wins the big prize if the numbers drawn are {13, 22, 24, 27, 42, 44}. If only one number differs, he doesn't win.\n",
    "\n",
    "For the first version of the app, we want players to be able to calculate the probability of winning the big prize with the various numbers they play on a single ticket (for each ticket a player chooses six numbers out of 49). So, we'll start by building a function that calculates the probability of winning the big prize for any given ticket.\n",
    "\n",
    "The function will take in 6 numbers and return a winning probability for the big prize, i.e. six correct numbers."
   ]
  },
  {
   "cell_type": "code",
   "execution_count": 4,
   "metadata": {
    "collapsed": false
   },
   "outputs": [
    {
     "name": "stdout",
     "output_type": "stream",
     "text": [
      "Your chosen numbers are: [2, 3, 5, 8, 23, 40].\n"
     ]
    },
    {
     "data": {
      "text/plain": [
       "'The winning probability for your ticket is: 0.0000072 %.'"
      ]
     },
     "execution_count": 4,
     "metadata": {},
     "output_type": "execute_result"
    }
   ],
   "source": [
    "# One-ticket probability\n",
    "\n",
    "ticket = [2, 3, 5, 8, 23, 40]\n",
    "def one_ticket_probability(ticket):\n",
    "    ticket = ticket\n",
    "    combs = combinations(49, 6)\n",
    "    num_success = 1\n",
    "    prob_win = num_success / combs\n",
    "    print (\"Your chosen numbers are: {}.\".format(ticket))\n",
    "    message = \"The winning probability for your ticket is: {:.7f} %.\".format(prob_win * 100)\n",
    "    return message\n",
    "    \n",
    "one_ticket_probability(ticket)    "
   ]
  },
  {
   "cell_type": "markdown",
   "metadata": {},
   "source": [
    "## Historical data check for Canada Lottery\n",
    "\n",
    "For the first version of the app, however, users should also be able to compare their ticket against the historical lottery data in Canada and determine whether they would have ever won by now. The data set contains historical data for 3,665 drawings (each row shows data for a single drawing), dating from 1982 to 2018. \n",
    "\n",
    "Let's load and explore the data and write a function that compares the user's input with the historical data.\n"
   ]
  },
  {
   "cell_type": "code",
   "execution_count": 5,
   "metadata": {
    "collapsed": false
   },
   "outputs": [
    {
     "data": {
      "text/plain": [
       "(3665, 11)"
      ]
     },
     "execution_count": 5,
     "metadata": {},
     "output_type": "execute_result"
    }
   ],
   "source": [
    "import pandas as pd\n",
    "import numpy as np\n",
    "\n",
    "lotto = pd.read_csv('649.csv')\n",
    "lotto.shape"
   ]
  },
  {
   "cell_type": "code",
   "execution_count": 6,
   "metadata": {
    "collapsed": false
   },
   "outputs": [
    {
     "data": {
      "text/html": [
       "<div>\n",
       "<style scoped>\n",
       "    .dataframe tbody tr th:only-of-type {\n",
       "        vertical-align: middle;\n",
       "    }\n",
       "\n",
       "    .dataframe tbody tr th {\n",
       "        vertical-align: top;\n",
       "    }\n",
       "\n",
       "    .dataframe thead th {\n",
       "        text-align: right;\n",
       "    }\n",
       "</style>\n",
       "<table border=\"1\" class=\"dataframe\">\n",
       "  <thead>\n",
       "    <tr style=\"text-align: right;\">\n",
       "      <th></th>\n",
       "      <th>PRODUCT</th>\n",
       "      <th>DRAW NUMBER</th>\n",
       "      <th>SEQUENCE NUMBER</th>\n",
       "      <th>DRAW DATE</th>\n",
       "      <th>NUMBER DRAWN 1</th>\n",
       "      <th>NUMBER DRAWN 2</th>\n",
       "      <th>NUMBER DRAWN 3</th>\n",
       "      <th>NUMBER DRAWN 4</th>\n",
       "      <th>NUMBER DRAWN 5</th>\n",
       "      <th>NUMBER DRAWN 6</th>\n",
       "      <th>BONUS NUMBER</th>\n",
       "    </tr>\n",
       "  </thead>\n",
       "  <tbody>\n",
       "    <tr>\n",
       "      <th>0</th>\n",
       "      <td>649</td>\n",
       "      <td>1</td>\n",
       "      <td>0</td>\n",
       "      <td>6/12/1982</td>\n",
       "      <td>3</td>\n",
       "      <td>11</td>\n",
       "      <td>12</td>\n",
       "      <td>14</td>\n",
       "      <td>41</td>\n",
       "      <td>43</td>\n",
       "      <td>13</td>\n",
       "    </tr>\n",
       "    <tr>\n",
       "      <th>1</th>\n",
       "      <td>649</td>\n",
       "      <td>2</td>\n",
       "      <td>0</td>\n",
       "      <td>6/19/1982</td>\n",
       "      <td>8</td>\n",
       "      <td>33</td>\n",
       "      <td>36</td>\n",
       "      <td>37</td>\n",
       "      <td>39</td>\n",
       "      <td>41</td>\n",
       "      <td>9</td>\n",
       "    </tr>\n",
       "    <tr>\n",
       "      <th>2</th>\n",
       "      <td>649</td>\n",
       "      <td>3</td>\n",
       "      <td>0</td>\n",
       "      <td>6/26/1982</td>\n",
       "      <td>1</td>\n",
       "      <td>6</td>\n",
       "      <td>23</td>\n",
       "      <td>24</td>\n",
       "      <td>27</td>\n",
       "      <td>39</td>\n",
       "      <td>34</td>\n",
       "    </tr>\n",
       "  </tbody>\n",
       "</table>\n",
       "</div>"
      ],
      "text/plain": [
       "   PRODUCT  DRAW NUMBER  SEQUENCE NUMBER  DRAW DATE  NUMBER DRAWN 1  \\\n",
       "0      649            1                0  6/12/1982               3   \n",
       "1      649            2                0  6/19/1982               8   \n",
       "2      649            3                0  6/26/1982               1   \n",
       "\n",
       "   NUMBER DRAWN 2  NUMBER DRAWN 3  NUMBER DRAWN 4  NUMBER DRAWN 5  \\\n",
       "0              11              12              14              41   \n",
       "1              33              36              37              39   \n",
       "2               6              23              24              27   \n",
       "\n",
       "   NUMBER DRAWN 6  BONUS NUMBER  \n",
       "0              43            13  \n",
       "1              41             9  \n",
       "2              39            34  "
      ]
     },
     "execution_count": 6,
     "metadata": {},
     "output_type": "execute_result"
    }
   ],
   "source": [
    "lotto.head(3)"
   ]
  },
  {
   "cell_type": "code",
   "execution_count": 7,
   "metadata": {
    "collapsed": false
   },
   "outputs": [
    {
     "data": {
      "text/html": [
       "<div>\n",
       "<style scoped>\n",
       "    .dataframe tbody tr th:only-of-type {\n",
       "        vertical-align: middle;\n",
       "    }\n",
       "\n",
       "    .dataframe tbody tr th {\n",
       "        vertical-align: top;\n",
       "    }\n",
       "\n",
       "    .dataframe thead th {\n",
       "        text-align: right;\n",
       "    }\n",
       "</style>\n",
       "<table border=\"1\" class=\"dataframe\">\n",
       "  <thead>\n",
       "    <tr style=\"text-align: right;\">\n",
       "      <th></th>\n",
       "      <th>PRODUCT</th>\n",
       "      <th>DRAW NUMBER</th>\n",
       "      <th>SEQUENCE NUMBER</th>\n",
       "      <th>DRAW DATE</th>\n",
       "      <th>NUMBER DRAWN 1</th>\n",
       "      <th>NUMBER DRAWN 2</th>\n",
       "      <th>NUMBER DRAWN 3</th>\n",
       "      <th>NUMBER DRAWN 4</th>\n",
       "      <th>NUMBER DRAWN 5</th>\n",
       "      <th>NUMBER DRAWN 6</th>\n",
       "      <th>BONUS NUMBER</th>\n",
       "    </tr>\n",
       "  </thead>\n",
       "  <tbody>\n",
       "    <tr>\n",
       "      <th>3662</th>\n",
       "      <td>649</td>\n",
       "      <td>3589</td>\n",
       "      <td>0</td>\n",
       "      <td>6/13/2018</td>\n",
       "      <td>6</td>\n",
       "      <td>22</td>\n",
       "      <td>24</td>\n",
       "      <td>31</td>\n",
       "      <td>32</td>\n",
       "      <td>34</td>\n",
       "      <td>16</td>\n",
       "    </tr>\n",
       "    <tr>\n",
       "      <th>3663</th>\n",
       "      <td>649</td>\n",
       "      <td>3590</td>\n",
       "      <td>0</td>\n",
       "      <td>6/16/2018</td>\n",
       "      <td>2</td>\n",
       "      <td>15</td>\n",
       "      <td>21</td>\n",
       "      <td>31</td>\n",
       "      <td>38</td>\n",
       "      <td>49</td>\n",
       "      <td>8</td>\n",
       "    </tr>\n",
       "    <tr>\n",
       "      <th>3664</th>\n",
       "      <td>649</td>\n",
       "      <td>3591</td>\n",
       "      <td>0</td>\n",
       "      <td>6/20/2018</td>\n",
       "      <td>14</td>\n",
       "      <td>24</td>\n",
       "      <td>31</td>\n",
       "      <td>35</td>\n",
       "      <td>37</td>\n",
       "      <td>48</td>\n",
       "      <td>17</td>\n",
       "    </tr>\n",
       "  </tbody>\n",
       "</table>\n",
       "</div>"
      ],
      "text/plain": [
       "      PRODUCT  DRAW NUMBER  SEQUENCE NUMBER  DRAW DATE  NUMBER DRAWN 1  \\\n",
       "3662      649         3589                0  6/13/2018               6   \n",
       "3663      649         3590                0  6/16/2018               2   \n",
       "3664      649         3591                0  6/20/2018              14   \n",
       "\n",
       "      NUMBER DRAWN 2  NUMBER DRAWN 3  NUMBER DRAWN 4  NUMBER DRAWN 5  \\\n",
       "3662              22              24              31              32   \n",
       "3663              15              21              31              38   \n",
       "3664              24              31              35              37   \n",
       "\n",
       "      NUMBER DRAWN 6  BONUS NUMBER  \n",
       "3662              34            16  \n",
       "3663              49             8  \n",
       "3664              48            17  "
      ]
     },
     "execution_count": 7,
     "metadata": {},
     "output_type": "execute_result"
    }
   ],
   "source": [
    "lotto.tail(3)"
   ]
  },
  {
   "cell_type": "markdown",
   "metadata": {},
   "source": [
    "## Function for historical data check\n",
    "\n",
    "Now we write the function for the data check. We first write a function that takes as input a rownumber from the dataset and returns the corresponding six winning numbers."
   ]
  },
  {
   "cell_type": "code",
   "execution_count": 8,
   "metadata": {
    "collapsed": false
   },
   "outputs": [
    {
     "data": {
      "text/plain": [
       "{2, 15, 21, 31, 38, 49}"
      ]
     },
     "execution_count": 8,
     "metadata": {},
     "output_type": "execute_result"
    }
   ],
   "source": [
    "# Function to extract numbers\n",
    "def extract_numbers(rownum):\n",
    "    draw = set(lotto.iloc[rownum, 4:10])\n",
    "    return draw\n",
    "\n",
    "# Test function\n",
    "extract_numbers(3663)\n",
    "    "
   ]
  },
  {
   "cell_type": "markdown",
   "metadata": {},
   "source": [
    "Now we extract all numbers and write all the sets into a series object. But in order to make that work in combination with the `apply()` method, we need to not use explicit `iloc` indexing in the function. (Each row is automatically passed to the function when using `apply()`.)"
   ]
  },
  {
   "cell_type": "code",
   "execution_count": 9,
   "metadata": {
    "collapsed": false
   },
   "outputs": [
    {
     "data": {
      "text/plain": [
       "0    {3, 41, 11, 12, 43, 14}\n",
       "1    {33, 36, 37, 39, 8, 41}\n",
       "2     {1, 6, 39, 23, 24, 27}\n",
       "3     {3, 9, 10, 43, 13, 20}\n",
       "4    {34, 5, 14, 47, 21, 31}\n",
       "dtype: object"
      ]
     },
     "execution_count": 9,
     "metadata": {},
     "output_type": "execute_result"
    }
   ],
   "source": [
    "# Function to extract numbers\n",
    "def extract_numbers(rownum):\n",
    "    draw = set(num for num in rownum[4:10])\n",
    "    return draw\n",
    "\n",
    "# Write all sets into a series\n",
    "winning_draws = lotto.apply(extract_numbers, axis=1)\n",
    "winning_draws.head()"
   ]
  },
  {
   "cell_type": "markdown",
   "metadata": {},
   "source": [
    "Next we will write the function that checks the list of six numbers supplied by the user against the extracted numbers."
   ]
  },
  {
   "cell_type": "code",
   "execution_count": 10,
   "metadata": {
    "collapsed": false
   },
   "outputs": [
    {
     "name": "stdout",
     "output_type": "stream",
     "text": [
      "Your chosen numbers are: {2, 3, 5, 8, 40, 23}.\n",
      "In past draws the numbers that you provided won the big prize 0 times.\n",
      "The winning probability for your ticket in the next drawing is: 0.0000072 %.\n",
      "The chances of winning with your numbers remain the same, regardless of how many times a combination was drawn in the past.\n"
     ]
    }
   ],
   "source": [
    "# Function to check the historical occurrence of numbers\n",
    "def check_historical_occurrence(ticket, winning_draws):\n",
    "    ticket = set(ticket)\n",
    "    match = ticket == winning_draws\n",
    "    combs = combinations(49, 6)\n",
    "    num_success = 1\n",
    "    prob_win = num_success / combs\n",
    "    num_occur = match.sum()\n",
    "    print (\"Your chosen numbers are: {}.\".format(ticket))\n",
    "    message_1 = \"In past draws the numbers that you provided won the big prize {} times.\".format(num_occur)\n",
    "    message_2 = \"The winning probability for your ticket in the next drawing is: {:.7f} %.\".format(prob_win * 100)\n",
    "    print(message_1)\n",
    "    print(message_2)\n",
    "    print(\"The chances of winning with your numbers remain the same, regardless of how many times a combination was drawn in the past.\")\n",
    "    \n",
    "check_historical_occurrence(ticket, winning_draws)    "
   ]
  },
  {
   "cell_type": "markdown",
   "metadata": {},
   "source": [
    "Since each lottery drawing is independent from previous drawings, the probability of winning the big prize at any given drawing remains the same: 0.0000072 %. We could in theory write the function in a simpler way, by just hard-coding that probability in. However, writing the function this way allows us to adjust the function further in later steps. For example to check the possibility of winning 3 out of 49, etc."
   ]
  },
  {
   "cell_type": "markdown",
   "metadata": {},
   "source": [
    "## Multi-ticket probability\n",
    "\n",
    "Lottery addicts usually play more than one ticket on a single drawing, thinking that this might increase their chances of winning significantly. Our purpose is to help them better estimate their chances of winning — hence, we're going to write a function that will allow the users to calculate the chances of winning for any number of different tickets.\n",
    "We've talked with the engineering team and they gave us the following information:\n",
    "\n",
    "- The user will input the number of different tickets they want to play (without inputting the specific combinations they intend to play).\n",
    "- Our function will see an integer between 1 and 13,983,816 (the maximum number of different tickets).\n",
    "- The function should print information about the probability of winning the big prize depending on the number of different tickets played."
   ]
  },
  {
   "cell_type": "code",
   "execution_count": 12,
   "metadata": {
    "collapsed": false
   },
   "outputs": [
    {
     "name": "stdout",
     "output_type": "stream",
     "text": [
      "Number of tickets that you are playing: 1.\n",
      "The winning probability for playing this number of tickets is: 0.0000072 %.\n",
      "Number of tickets that you are playing: 10.\n",
      "The winning probability for playing this number of tickets is: 0.0000715 %.\n",
      "Number of tickets that you are playing: 100.\n",
      "The winning probability for playing this number of tickets is: 0.0007151 %.\n",
      "Number of tickets that you are playing: 10000.\n",
      "The winning probability for playing this number of tickets is: 0.0715112 %.\n",
      "Number of tickets that you are playing: 1000000.\n",
      "The winning probability for playing this number of tickets is: 7.1511238 %.\n",
      "Number of tickets that you are playing: 6991908.\n",
      "The winning probability for playing this number of tickets is: 50.0000000 %.\n",
      "Number of tickets that you are playing: 13983816.\n",
      "The winning probability for playing this number of tickets is: 100.0000000 %.\n"
     ]
    }
   ],
   "source": [
    "# Multi-ticket probability\n",
    "def multi_ticket_probability(num_tickets):\n",
    "    combs = combinations(49, 6)\n",
    "    num_success = num_tickets\n",
    "    prob_win = num_success / combs\n",
    "    print(\"Number of tickets that you are playing: {}.\".format(num_tickets))\n",
    "    message = \"The winning probability for playing this number of tickets is: {:.7f} %.\".format(prob_win * 100)\n",
    "    return message\n",
    "\n",
    "ticket_nums = [1, 10, 100, 10000, 1000000, 6991908, 13983816]\n",
    "for num_tickets in ticket_nums:\n",
    "    output = multi_ticket_probability(num_tickets)\n",
    "    print(output)"
   ]
  },
  {
   "cell_type": "markdown",
   "metadata": {},
   "source": [
    "When testing the function with several inputs, we can see that increasing the number of tickets barely changes the winning probabilities in a meaningful way. Even with 1 Million tickets played, the winning probability for the big prize is only a modest 7.15%. Playing 6,991,908 tickets will have a 50% of winning. Playing 13,983,816 tickets - one for each possible combination - will guarantee winning the jackpot. Just that the jackpot will never yield enough winnings to pay for the number of tickets needed. So essentially, if a lotto addict might think that he or she needs to just increase the number of tickets to win, then this will not matter for the probability unless that person buys a prohibitively high number of tickets."
   ]
  },
  {
   "cell_type": "markdown",
   "metadata": {},
   "source": [
    "## Writing a function for less than six winning numbers\n",
    "\n",
    "In most 6/49 lotteries there are smaller prizes if a player's ticket match two, three, four, or five of the six numbers drawn. As a consequence, the users might be interested in knowing the probability of having two, three, four, or five winning numbers.\n",
    "\n",
    "These are the engineering details we'll need to be aware of:\n",
    "\n",
    "- Inside the app, the user inputs:\n",
    "    - six different numbers from 1 to 49; and\n",
    "    - an integer between 2 and 5 that represents the number of winning numbers expected\n",
    "- Our function prints information about the probability of having the inputted number of winning numbers.\n",
    "\n",
    "To calculate the probabilities, we tell the engineering team that the specific combination on the ticket is irrelevant behind the scenes, and we only need the integer between 2 and 5 representing the number of winning numbers expected.\n",
    "So we will code heare a function that just takes in the number of winning numbers expected and that will return the probability of getting exactly this many numbers correct."
   ]
  },
  {
   "cell_type": "code",
   "execution_count": 13,
   "metadata": {
    "collapsed": false
   },
   "outputs": [
    {
     "name": "stdout",
     "output_type": "stream",
     "text": [
      "Expected correct numbers: 1.\n",
      "The winning probability for getting this many numbers right is: 41.3019450 %.\n",
      "Expected correct numbers: 2.\n",
      "The winning probability for getting this many numbers right is: 13.2378029 %.\n",
      "Expected correct numbers: 3.\n",
      "The winning probability for getting this many numbers right is: 1.7650404 %.\n",
      "Expected correct numbers: 4.\n",
      "The winning probability for getting this many numbers right is: 0.0968620 %.\n",
      "Expected correct numbers: 5.\n",
      "The winning probability for getting this many numbers right is: 0.0018450 %.\n",
      "Expected correct numbers: 6.\n",
      "The winning probability for getting this many numbers right is: 0.0000072 %.\n"
     ]
    }
   ],
   "source": [
    "# Function to calculate winning probabilities for less than six numbers\n",
    "def probability_less_6(exp_win):\n",
    "    combs = combinations(49, 6)\n",
    "    pos_combs = combinations(6, exp_win)\n",
    "    remaining_combs = combinations(43, 6 - exp_win)\n",
    "    num_success = pos_combs * remaining_combs\n",
    "    prob_win = num_success / combs\n",
    "    print(\"Expected correct numbers: {}.\".format(exp_win))\n",
    "    message = \"The winning probability for getting this many numbers right is: {:.7f} %.\".format(prob_win * 100)\n",
    "    return message\n",
    "\n",
    "expected_wins = [1, 2, 3, 4, 5, 6]\n",
    "for exp_wins in expected_wins:\n",
    "    output = probability_less_6(exp_wins)\n",
    "    print(output)"
   ]
  },
  {
   "cell_type": "markdown",
   "metadata": {},
   "source": [
    "While we are basically only interested in the winning probabilities for the number 2, 3, 4, 5, our function can handle all inputs from 1 to 6. So just to get an idea what the probability is to get 1 or 6 numbers right, I added them here as well."
   ]
  },
  {
   "cell_type": "markdown",
   "metadata": {},
   "source": [
    "## Next steps\n",
    "\n",
    "For the first version of the app, we coded four main functions:\n",
    "- `one_ticket_probability()` — calculates the probability of winning the big prize with a single ticket\n",
    "- `check_historical_occurrence()` — checks whether a certain combination has occurred in the Canada lottery data set\n",
    "- `multi_ticket_probability()` — calculates the probability for any number of of tickets between 1 and 13,983,816\n",
    "- `probability_less_6()` — calculates the probability of having two, three, four or five winning numbers exactly\n",
    "\n",
    "Possible features for a second version of the app include:\n",
    "\n",
    "- Making the outputs even easier to understand by adding fun analogies (for example, we can find probabilities for strange events and compare with the chances of winning in lottery; for instance, we can output something along the lines \"You are 100 times more likely to be the victim of a shark attack than winning the lottery\")\n",
    "- Combining the one_ticket_probability() and check_historical_occurrence() to output information on probability and historical occurrence at the same time\n",
    "- Create a function similar to probability_less_6() which calculates the probability of having at least two, three, four or five winning numbers. The number of successful outcomes for having at least four winning numbers is the sum of these three numbers:\n",
    "    - The number of successful outcomes for having four winning numbers exactly\n",
    "    - The number of successful outcomes for having five winning numbers exactly\n",
    "    - The number of successful outcomes for having six winning numbers exactly"
   ]
  },
  {
   "cell_type": "code",
   "execution_count": null,
   "metadata": {
    "collapsed": true
   },
   "outputs": [],
   "source": []
  }
 ],
 "metadata": {
  "kernelspec": {
   "display_name": "Python 3",
   "language": "python",
   "name": "python3"
  },
  "language_info": {
   "codemirror_mode": {
    "name": "ipython",
    "version": 3
   },
   "file_extension": ".py",
   "mimetype": "text/x-python",
   "name": "python",
   "nbconvert_exporter": "python",
   "pygments_lexer": "ipython3",
   "version": "3.4.3"
  }
 },
 "nbformat": 4,
 "nbformat_minor": 2
}
