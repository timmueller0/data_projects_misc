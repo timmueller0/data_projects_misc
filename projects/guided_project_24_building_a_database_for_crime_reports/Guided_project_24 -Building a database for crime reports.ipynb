{
 "cells": [
  {
   "cell_type": "markdown",
   "metadata": {},
   "source": [
    "#  Building a database for crime reports\n",
    "\n",
    "In this project, we will build a database for storing data related to crimes that occurred in Boston. We will use Postgres, and in the process we will\n",
    "- create a database and manage database roles\n",
    "- create database schemas and tables with the proper datatypes\n",
    "- load data from CSV files into database tables.\n",
    "\n",
    "We use the dataset `boston.csv` which has seven columns:\n",
    "1. `incident_number` (ID of the crime)\n",
    "2. `offense_code` (numeric identifier code, offense)\n",
    "3. `description` (description of the incident)\n",
    "4. `date` (date in YY-MM-DD format)\n",
    "5. `day_of_the_week` (weekday)\n",
    "6. `lat` (location, latitude)\n",
    "7. (`lon`) (location, longitude)\n",
    "\n",
    "The goal of this guided project is to create a database named `crimes_db` with a table – `boston_crimes` – with appropriate datatypes for storing the data from the `boston.csv` file. We will be creating the table inside a schema named `crimes`. We will also create the `readonly` and `readwrite` groups with the appropriate privileges. Finally, we will also need to create one user for each of these groups. "
   ]
  },
  {
   "cell_type": "markdown",
   "metadata": {},
   "source": [
    "## Creating the Crime Database\n",
    "\n",
    "We will start by creating a database for storing our crime data as well as a schema for containing the tables. "
   ]
  },
  {
   "cell_type": "code",
   "execution_count": 1,
   "metadata": {
    "collapsed": false
   },
   "outputs": [
    {
     "ename": "ProgrammingError",
     "evalue": "database \"crime_db\" already exists\n",
     "output_type": "error",
     "traceback": [
      "\u001b[1;31m\u001b[0m",
      "\u001b[1;31mProgrammingError\u001b[0mTraceback (most recent call last)",
      "\u001b[1;32m<ipython-input-1-0e8ab5b82596>\u001b[0m in \u001b[0;36m<module>\u001b[1;34m()\u001b[0m\n\u001b[0;32m      5\u001b[0m \u001b[0mconn\u001b[0m\u001b[1;33m.\u001b[0m\u001b[0mautocommit\u001b[0m \u001b[1;33m=\u001b[0m \u001b[1;32mTrue\u001b[0m\u001b[1;33m\u001b[0m\u001b[0m\n\u001b[0;32m      6\u001b[0m \u001b[0mcur\u001b[0m \u001b[1;33m=\u001b[0m \u001b[0mconn\u001b[0m\u001b[1;33m.\u001b[0m\u001b[0mcursor\u001b[0m\u001b[1;33m(\u001b[0m\u001b[1;33m)\u001b[0m\u001b[1;33m\u001b[0m\u001b[0m\n\u001b[1;32m----> 7\u001b[1;33m \u001b[0mcur\u001b[0m\u001b[1;33m.\u001b[0m\u001b[0mexecute\u001b[0m\u001b[1;33m(\u001b[0m\u001b[1;34m\"CREATE DATABASE crime_db;\"\u001b[0m\u001b[1;33m)\u001b[0m\u001b[1;33m\u001b[0m\u001b[0m\n\u001b[0m\u001b[0;32m      8\u001b[0m \u001b[0mconn\u001b[0m\u001b[1;33m.\u001b[0m\u001b[0mautocommit\u001b[0m \u001b[1;33m=\u001b[0m \u001b[1;32mFalse\u001b[0m\u001b[1;33m\u001b[0m\u001b[0m\n\u001b[0;32m      9\u001b[0m \u001b[0mconn\u001b[0m\u001b[1;33m.\u001b[0m\u001b[0mclose\u001b[0m\u001b[1;33m(\u001b[0m\u001b[1;33m)\u001b[0m\u001b[1;33m\u001b[0m\u001b[0m\n",
      "\u001b[1;31mProgrammingError\u001b[0m: database \"crime_db\" already exists\n"
     ]
    }
   ],
   "source": [
    "import psycopg2\n",
    "import csv\n",
    "\n",
    "conn = psycopg2.connect(dbname=\"dq\", user=\"dq\")\n",
    "conn.autocommit = True\n",
    "cur = conn.cursor()\n",
    "cur.execute(\"CREATE DATABASE crime_db;\")\n",
    "conn.autocommit = False\n",
    "conn.close()"
   ]
  },
  {
   "cell_type": "markdown",
   "metadata": {},
   "source": [
    "In the next step, we will add a schema called `crimes`."
   ]
  },
  {
   "cell_type": "code",
   "execution_count": 2,
   "metadata": {
    "collapsed": false
   },
   "outputs": [],
   "source": [
    "conn = psycopg2.connect(dbname=\"crime_db\", user=\"dq\")\n",
    "cur = conn.cursor()\n",
    "cur.execute(\"CREATE SCHEMA IF NOT EXISTS crimes;\")\n",
    "conn.commit()\n",
    "conn.close()"
   ]
  },
  {
   "cell_type": "markdown",
   "metadata": {},
   "source": [
    "## Obtaining the Column Names and Sample\n",
    "\n",
    "We now have a database and a schema — we're ready to start creating tables. Before we do that, let's gather some data about our crime dataset so that we can easily select the right datatypes to use in our table. Let's create the header row and sperate it from the rest of the data."
   ]
  },
  {
   "cell_type": "code",
   "execution_count": 3,
   "metadata": {
    "collapsed": false
   },
   "outputs": [
    {
     "name": "stdout",
     "output_type": "stream",
     "text": [
      "['incident_number', 'offense_code', 'description', 'date', 'day_of_the_week', 'lat', 'long']\n",
      "['1', '619', 'LARCENY ALL OTHERS', '2018-09-02', 'Sunday', '42.35779134', '-71.13937053']\n"
     ]
    }
   ],
   "source": [
    "with open('boston.csv') as file:\n",
    "    reader = csv.reader(file)\n",
    "    col_headers = next(reader)\n",
    "    first_row = next(reader)\n",
    "\n",
    "print(col_headers)\n",
    "print(first_row)"
   ]
  },
  {
   "cell_type": "markdown",
   "metadata": {},
   "source": [
    "## Creating an Auxiliary Function\n",
    "\n",
    "We now have access to the column headers and the first row of data. This will help us when we create the table. We won't have to remember the names of the columns, and using the first row of data, we can easily recall what kind of data is in each column.\n",
    "\n",
    "Before we create a table to store the crime data, we need to identify the proper datatypes for the columns. To help us with that, let's create a function — `get_col_set()` — that, given the name of a CSV file and a column index (starting at 0), computes a Python set with all distinct values contained in that column. "
   ]
  },
  {
   "cell_type": "code",
   "execution_count": 4,
   "metadata": {
    "collapsed": true
   },
   "outputs": [],
   "source": [
    "def get_col_set(csv_filename, col_index):\n",
    "    \"\"\"Takes in a CSV file and a column index, fetches the distinct values in a column\n",
    "    and returns them as a set.\"\"\"\n",
    "    with open(csv_filename) as file:  # open the file\n",
    "        reader = csv.reader(file)  # create a reader object\n",
    "        next(reader)  # skip the header row\n",
    "        return {row[col_index] for row in reader}  # return a set of the distinct values in the column        "
   ]
  },
  {
   "cell_type": "code",
   "execution_count": 5,
   "metadata": {
    "collapsed": false
   },
   "outputs": [
    {
     "data": {
      "text/plain": [
       "{'A&B HANDS, FEET, ETC.  - MED. ATTENTION REQ.',\n",
       " 'A&B ON POLICE OFFICER',\n",
       " 'ABDUCTION - INTICING',\n",
       " 'AFFRAY',\n",
       " 'AIRCRAFT INCIDENTS',\n",
       " 'ANIMAL ABUSE',\n",
       " 'ANIMAL CONTROL - DOG BITES - ETC.',\n",
       " 'ANIMAL INCIDENTS',\n",
       " 'ANNOYING AND ACCOSTIN',\n",
       " 'ANNOYING AND ACCOSTING',\n",
       " 'ARSON',\n",
       " 'ASSAULT & BATTERY',\n",
       " 'ASSAULT & BATTERY D/W - KNIFE',\n",
       " 'ASSAULT & BATTERY D/W - OTHER',\n",
       " 'ASSAULT & BATTERY D/W - OTHER ON POLICE OFFICER',\n",
       " 'ASSAULT - AGGRAVATED',\n",
       " 'ASSAULT - AGGRAVATED - BATTERY',\n",
       " 'ASSAULT - SIMPLE',\n",
       " 'ASSAULT D/W - KNIFE ON POLICE OFFICER',\n",
       " 'ASSAULT D/W - OTHER',\n",
       " 'ASSAULT SIMPLE - BATTERY',\n",
       " 'AUTO THEFT',\n",
       " 'AUTO THEFT - LEASED/RENTED VEHICLE',\n",
       " 'AUTO THEFT - MOTORCYCLE / SCOOTER',\n",
       " 'AUTO THEFT - OUTSIDE - RECOVERED IN BOSTON',\n",
       " 'AUTO THEFT - RECOVERED IN BY POLICE',\n",
       " 'AUTO THEFT LEASE/RENT VEHICLE',\n",
       " 'AUTO THEFT OTHER',\n",
       " 'B&E NON-RESIDENCE DAY - FORCIBLE',\n",
       " 'B&E NON-RESIDENCE DAY - NO FORCE',\n",
       " 'B&E NON-RESIDENCE DAY - NO PROP TAKEN',\n",
       " 'B&E NON-RESIDENCE NIGHT - FORCE',\n",
       " 'B&E RESIDENCE DAY - NO FORCE',\n",
       " 'B&E RESIDENCE DAY - NO PROP TAKEN',\n",
       " 'B&E RESIDENCE NIGHT - ATTEMPT FORCE',\n",
       " 'BALLISTICS EVIDENCE/FOUND',\n",
       " 'BIOLOGICAL THREATS',\n",
       " 'BOMB THREAT',\n",
       " 'BURGLARY - COMMERICAL - ATTEMPT',\n",
       " 'BURGLARY - COMMERICAL - FORCE',\n",
       " 'BURGLARY - COMMERICAL - NO FORCE',\n",
       " 'BURGLARY - OTHER - ATTEMPT',\n",
       " 'BURGLARY - OTHER - FORCE',\n",
       " 'BURGLARY - OTHER - NO FORCE',\n",
       " 'BURGLARY - RESIDENTIAL - ATTEMPT',\n",
       " 'BURGLARY - RESIDENTIAL - FORCE',\n",
       " 'BURGLARY - RESIDENTIAL - NO FORCE',\n",
       " 'CHILD ABANDONMENT (NO ASSAULT)',\n",
       " 'CHILD ABUSE',\n",
       " 'CHILD ENDANGERMENT',\n",
       " 'CHILD ENDANGERMENT (NO ASSAULT)',\n",
       " 'CHINS',\n",
       " 'CONSPIRACY EXCEPT DRUG LAW',\n",
       " 'CONTRIBUTING TO DELINQUENCY OF MINOR',\n",
       " 'CRIMINAL HARASSMENT',\n",
       " 'CUSTODIAL KIDNAPPING',\n",
       " 'DANGEROUS OR HAZARDOUS CONDITION',\n",
       " 'DEATH INVESTIGATION',\n",
       " 'DEMONSTRATIONS/RIOT',\n",
       " 'DISORDERLY CONDUCT',\n",
       " 'DISORDERLY PERSON',\n",
       " 'DISTURBING THE PEACE',\n",
       " 'DRUGS - CLASS A TRAFFICKING OVER 18 GRAMS',\n",
       " 'DRUGS - CLASS B TRAFFICKING OVER 18 GRAMS',\n",
       " 'DRUGS - CLASS D TRAFFICKING OVER 50 GRAMS',\n",
       " 'DRUGS - CONSP TO VIOL CONTROLLED SUBSTANCE',\n",
       " 'DRUGS - GLUE INHALATION',\n",
       " 'DRUGS - OTHER',\n",
       " 'DRUGS - POSS CLASS A - HEROIN, ETC.',\n",
       " 'DRUGS - POSS CLASS A - HEROIN, ETC. ',\n",
       " 'DRUGS - POSS CLASS A - INTENT TO MFR DIST DISP',\n",
       " 'DRUGS - POSS CLASS B - COCAINE, ETC.',\n",
       " 'DRUGS - POSS CLASS B - INTENT TO MFR DIST DISP',\n",
       " 'DRUGS - POSS CLASS C',\n",
       " 'DRUGS - POSS CLASS C - INTENT TO MFR DIST DISP',\n",
       " 'DRUGS - POSS CLASS D',\n",
       " 'DRUGS - POSS CLASS D - INTENT MFR DIST DISP',\n",
       " 'DRUGS - POSS CLASS D - INTENT TO MFR DIST DISP',\n",
       " 'DRUGS - POSS CLASS D - MARIJUANA, ETC.',\n",
       " 'DRUGS - POSS CLASS E',\n",
       " 'DRUGS - POSS CLASS E - INTENT TO MFR DIST DISP',\n",
       " 'DRUGS - POSS CLASS E INTENT TO MF DIST DISP',\n",
       " 'DRUGS - POSSESSION',\n",
       " 'DRUGS - POSSESSION OF DRUG PARAPHANALIA',\n",
       " 'DRUGS - SALE / MANUFACTURING',\n",
       " 'DRUGS - SICK ASSIST - HEROIN',\n",
       " 'DRUGS - SICK ASSIST - OTHER HARMFUL DRUG',\n",
       " 'DRUGS - SICK ASSIST - OTHER NARCOTIC',\n",
       " 'EMBEZZLEMENT',\n",
       " 'EVADING FARE',\n",
       " 'EXPLOSIVES - POSSESSION OR USE',\n",
       " 'EXPLOSIVES - TURNED IN OR FOUND',\n",
       " 'EXTORTION OR BLACKMAIL',\n",
       " 'FIRE REPORT - CAR, BRUSH, ETC.',\n",
       " 'FIRE REPORT - HOUSE, BUILDING, ETC.',\n",
       " 'FIRE REPORT/ALARM - FALSE',\n",
       " 'FIREARM/WEAPON - ACCIDENTAL INJURY / DEATH',\n",
       " 'FIREARM/WEAPON - CARRY - SELL - RENT',\n",
       " 'FIREARM/WEAPON - FOUND OR CONFISCATED',\n",
       " 'FIREARM/WEAPON - LOST',\n",
       " 'FIREARM/WEAPON - POSSESSION OF DANGEROUS',\n",
       " 'FORGERY / COUNTERFEITING',\n",
       " 'FORGERY OR UTTERING',\n",
       " 'FRAUD - CREDIT CARD / ATM FRAUD',\n",
       " 'FRAUD - FALSE PRETENSE',\n",
       " 'FRAUD - FALSE PRETENSE / SCHEME',\n",
       " 'FRAUD - IMPERSONATION',\n",
       " 'FRAUD - WELFARE',\n",
       " 'FRAUD - WIRE',\n",
       " 'FRAUDS - ALL OTHER',\n",
       " 'FUGITIVE FROM JUSTICE',\n",
       " 'GAMBLING - BETTING / WAGERING',\n",
       " 'GATHERING CAUSING ANNOYANCE',\n",
       " 'GRAFFITI',\n",
       " 'HARASSMENT',\n",
       " 'HARBOR INCIDENT / VIOLATION',\n",
       " 'HOME INVASION',\n",
       " 'HUMAN TRAFFICKING - COMMERCIAL SEX ACTS',\n",
       " 'HUMAN TRAFFICKING - INVOLUNTARY SERVITUDE',\n",
       " 'INJURY BICYCLE NO M/V INVOLVED',\n",
       " 'INTIMIDATING WITNESS',\n",
       " 'INVESTIGATE PERSON',\n",
       " 'INVESTIGATE PROPERTY',\n",
       " 'INVESTIGATION FOR ANOTHER AGENCY',\n",
       " 'KIDNAPPING - ENTICING OR ATTEMPTED',\n",
       " 'KIDNAPPING/CUSTODIAL KIDNAPPING',\n",
       " 'KILLING OF FELON BY POLICE',\n",
       " 'LANDLORD - TENANT SERVICE',\n",
       " 'LARCENY ALL OTHERS',\n",
       " 'LARCENY BICYCLE $200 & OVER',\n",
       " 'LARCENY IN A BUILDING $200 & OVER',\n",
       " 'LARCENY IN A BUILDING $50 TO $199',\n",
       " 'LARCENY IN A BUILDING UNDER $50',\n",
       " 'LARCENY NON-ACCESSORY FROM VEH. $50 TO $199',\n",
       " 'LARCENY OTHER $200 & OVER',\n",
       " 'LARCENY OTHER $50 TO $199',\n",
       " 'LARCENY OTHER UNDER $50',\n",
       " 'LARCENY PICK-POCKET',\n",
       " 'LARCENY PURSE SNATCH - NO FORCE ',\n",
       " 'LARCENY SHOPLIFTING',\n",
       " 'LARCENY SHOPLIFTING $200 & OVER',\n",
       " 'LARCENY SHOPLIFTING $50 TO $199',\n",
       " 'LARCENY SHOPLIFTING UNDER $50',\n",
       " 'LARCENY THEFT FROM BUILDING',\n",
       " 'LARCENY THEFT FROM COIN-OP MACHINE',\n",
       " 'LARCENY THEFT FROM MV - NON-ACCESSORY',\n",
       " 'LARCENY THEFT OF BICYCLE',\n",
       " 'LARCENY THEFT OF MV PARTS & ACCESSORIES',\n",
       " 'LICENSE PREMISE VIOLATION',\n",
       " 'LIQUOR - DRINKING IN PUBLIC',\n",
       " 'LIQUOR LAW VIOLATION',\n",
       " 'M/V - LEAVING SCENE - PERSONAL INJURY',\n",
       " 'M/V - LEAVING SCENE - PROPERTY DAMAGE',\n",
       " 'M/V ACCIDENT - INVOLVING BICYCLE - NO INJURY',\n",
       " 'M/V ACCIDENT - INVOLVING PEDESTRIAN - NO INJURY',\n",
       " 'M/V ACCIDENT - INVOLVING \\xa0BICYCLE - INJURY',\n",
       " 'M/V ACCIDENT - OTHER',\n",
       " 'M/V ACCIDENT - OTHER CITY VEHICLE',\n",
       " 'M/V ACCIDENT - PERSONAL INJURY',\n",
       " 'M/V ACCIDENT - POLICE VEHICLE',\n",
       " 'M/V ACCIDENT - PROPERTY \\xa0DAMAGE',\n",
       " 'M/V ACCIDENT INVOLVING PEDESTRIAN - INJURY',\n",
       " 'M/V PLATES - LOST',\n",
       " 'MANSLAUGHTER - NON-VEHICLE - NEGLIGENCE',\n",
       " 'MANSLAUGHTER - VEHICLE - NEGLIGENCE',\n",
       " 'MISSING PERSON',\n",
       " 'MISSING PERSON - LOCATED',\n",
       " 'MISSING PERSON - NOT REPORTED - LOCATED',\n",
       " 'MURDER, NON-NEGLIGIENT MANSLAUGHTER',\n",
       " 'NOISY PARTY/RADIO-ARREST',\n",
       " 'NOISY PARTY/RADIO-NO ARREST',\n",
       " 'OBSCENE MATERIALS - PORNOGRAPHY',\n",
       " 'OBSCENE PHONE CALLS',\n",
       " 'OPERATING UNDER THE INFLUENCE ALCOHOL',\n",
       " 'OPERATING UNDER THE INFLUENCE DRUGS',\n",
       " 'OTHER OFFENSE',\n",
       " 'POSSESSION OF BURGLARIOUS TOOLS',\n",
       " 'PRISONER - SUICIDE / SUICIDE ATTEMPT',\n",
       " 'PRISONER ATTEMPT TO RESCUE',\n",
       " 'PRISONER ESCAPE / ESCAPE & RECAPTURE',\n",
       " 'PROPERTY - ACCIDENTAL DAMAGE',\n",
       " 'PROPERTY - CONCEALING LEASED',\n",
       " 'PROPERTY - FOUND',\n",
       " 'PROPERTY - LOST',\n",
       " 'PROPERTY - LOST THEN LOCATED',\n",
       " 'PROPERTY - MISSING',\n",
       " 'PROPERTY - RECEIVING STOLEN',\n",
       " 'PROPERTY - STOLEN THEN RECOVERED',\n",
       " 'PROSTITUTE - COMMON NIGHTWALKER',\n",
       " 'PROSTITUTION',\n",
       " 'PROSTITUTION - ASSISTING OR PROMOTING',\n",
       " 'PROSTITUTION - COMMON NIGHTWALKER',\n",
       " 'PROSTITUTION - SOLICITING',\n",
       " 'PROTECTIVE CUSTODY / SAFEKEEPING',\n",
       " 'RECOVERED - MV RECOVERED IN BOSTON (STOLEN OUTSIDE BOSTON)',\n",
       " 'RECOVERED STOLEN PLATE',\n",
       " 'REPORT AFFECTING OTHER DEPTS.',\n",
       " 'ROBBERY - BANK',\n",
       " 'ROBBERY - CAR JACKING',\n",
       " 'ROBBERY - COMMERCIAL',\n",
       " 'ROBBERY - HOME INVASION',\n",
       " 'ROBBERY - KNIFE - STREET',\n",
       " 'ROBBERY - OTHER',\n",
       " 'ROBBERY - STREET',\n",
       " 'ROBBERY - UNARMED - CHAIN STORE',\n",
       " 'ROBBERY - UNARMED - STREET',\n",
       " 'ROBBERY ATTEMPT - KNIFE - BANK',\n",
       " 'SEARCH WARRANT',\n",
       " 'SERVICE TO OTHER PD INSIDE OF MA.',\n",
       " 'SERVICE TO OTHER PD OUTSIDE OF MA.',\n",
       " 'SICK/INJURED/MEDICAL - PERSON',\n",
       " 'SICK/INJURED/MEDICAL - POLICE',\n",
       " 'STALKING',\n",
       " 'STOLEN PROPERTY - BUYING / RECEIVING / POSSESSING',\n",
       " 'SUDDEN DEATH',\n",
       " 'SUICIDE / SUICIDE ATTEMPT',\n",
       " 'THREATS TO DO BODILY HARM',\n",
       " 'TOWED MOTOR VEHICLE',\n",
       " 'TRESPASSING',\n",
       " 'TRUANCY / RUNAWAY',\n",
       " 'VAL - OPERATING AFTER REV/SUSP.',\n",
       " 'VAL - OPERATING UNREG/UNINS \\xa0CAR',\n",
       " 'VAL - OPERATING W/O AUTHORIZATION LAWFUL',\n",
       " 'VAL - OPERATING WITHOUT LICENSE',\n",
       " 'VAL - VIOLATION OF AUTO LAW - OTHER',\n",
       " 'VANDALISM',\n",
       " 'VERBAL DISPUTE',\n",
       " 'VIOL. OF RESTRAINING ORDER W ARREST',\n",
       " 'VIOL. OF RESTRAINING ORDER W NO ARREST',\n",
       " 'VIOLATION - CITY ORDINANCE',\n",
       " 'VIOLATION - CITY ORDINANCE CONSTRUCTION PERMIT',\n",
       " 'VIOLATION - HAWKER AND PEDDLER',\n",
       " 'VIOLATION - RESTRAINING ORDER',\n",
       " 'WARRANT ARREST',\n",
       " 'WEAPON - FIREARM - CARRYING / POSSESSING, ETC',\n",
       " 'WEAPON - FIREARM - OTHER VIOLATION',\n",
       " 'WEAPON - FIREARM - SALE / TRAFFICKING',\n",
       " 'WEAPON - OTHER - CARRYING / POSSESSING, ETC',\n",
       " 'WEAPON - OTHER - OTHER VIOLATION'}"
      ]
     },
     "execution_count": 5,
     "metadata": {},
     "output_type": "execute_result"
    }
   ],
   "source": [
    "# Test the function\n",
    "get_col_set(\"boston.csv\", 2)"
   ]
  },
  {
   "cell_type": "markdown",
   "metadata": {},
   "source": [
    "It seems to work. Now we will compute for each column how many distinct values it contains by measuring the length of each set."
   ]
  },
  {
   "cell_type": "code",
   "execution_count": 6,
   "metadata": {
    "collapsed": false
   },
   "outputs": [
    {
     "name": "stdout",
     "output_type": "stream",
     "text": [
      "[298329, 219, 239, 1177, 7, 18177, 18177]\n"
     ]
    }
   ],
   "source": [
    "set_lengths = []\n",
    "for index in range(7):\n",
    "    length = len(get_col_set(\"boston.csv\", index))\n",
    "    set_lengths.append(length)\n",
    "    \n",
    "print(set_lengths)"
   ]
  },
  {
   "cell_type": "markdown",
   "metadata": {},
   "source": [
    "We find that there are 298,329 incidents, 219 offense codes, 239 descriptions, 1177 dates, 7 weekdays, 18177 latitudes, and 18177 longitudes."
   ]
  },
  {
   "cell_type": "markdown",
   "metadata": {},
   "source": [
    "## Finding the Maximum Length\n",
    "\n",
    "With the auxilliary function, we can compute the number of distinct values for each column. Columns with a low number of distinct values tend to be good candidates for enumerated datatypes.\n",
    "\n",
    "Another important aspect is to know the longest word in any column containing textual data. We can actually use the previous function for computing this. Let's compute the maximum length of each value in the description column."
   ]
  },
  {
   "cell_type": "code",
   "execution_count": 7,
   "metadata": {
    "collapsed": false
   },
   "outputs": [
    {
     "name": "stdout",
     "output_type": "stream",
     "text": [
      "['incident_number', 'offense_code', 'description', 'date', 'day_of_the_week', 'lat', 'long']\n"
     ]
    }
   ],
   "source": [
    "print(col_headers)"
   ]
  },
  {
   "cell_type": "code",
   "execution_count": 8,
   "metadata": {
    "collapsed": false
   },
   "outputs": [
    {
     "name": "stdout",
     "output_type": "stream",
     "text": [
      "[42, 40, 11, 33]\n",
      "58\n"
     ]
    }
   ],
   "source": [
    "col_values = get_col_set(\"boston.csv\", 2)  # run the function on the second column, assign to col_values\n",
    "item_lengths = [len(_) for _ in col_values]  # go through col_values, determine the length of each item and assign it to the list\n",
    "max_length = max(item_lengths)  # calculate the maximum length of an item in col_values\n",
    "print(item_lengths[:4])  # print first 5 item lengths\n",
    "print(max_length)  # print the maximum item length"
   ]
  },
  {
   "cell_type": "markdown",
   "metadata": {},
   "source": [
    "Ok, so the longest item in the `description` column can have a length of 58 characters."
   ]
  },
  {
   "cell_type": "markdown",
   "metadata": {},
   "source": [
    "## Creating the Table\n",
    "\n",
    "We will now create a table named `boston_crimes` inside the `crimes` schema of the `crime_db` database. We will use the information about the unique items and maximum lengths to select the appropriate datatypes."
   ]
  },
  {
   "cell_type": "code",
   "execution_count": null,
   "metadata": {
    "collapsed": false
   },
   "outputs": [],
   "source": [
    "print(col_headers)\n",
    "print(first_row)"
   ]
  },
  {
   "cell_type": "markdown",
   "metadata": {},
   "source": [
    "Given the data that we have and each of the lengths, the following datatypes make sense:\n",
    "\n",
    "- `incident_number` - integer\n",
    "- `offense_code` - integer; too many distinct codes to be useful for the enumerated type\n",
    "- `description`- varchar(60); the maximum item length is 58, and 60 will give a ssmall buffer\n",
    "- `date` date (YYYY-MM-DD)\n",
    "- `day_of_the_week` - enumerated type; only 7 distinct days makes it suited for enumerated\n",
    "- `lat` - decimal(10,8); 10 digits in total, 8 after the decimal point\n",
    "- `long` - decimal(10,8); 10 digits in total, 8 after the decimal point"
   ]
  },
  {
   "cell_type": "code",
   "execution_count": 9,
   "metadata": {
    "collapsed": false
   },
   "outputs": [],
   "source": [
    "conn = psycopg2.connect(dbname=\"crime_db\", user=\"dq\")\n",
    "cur = conn.cursor()\n",
    "\n",
    "# Drop the existing weekday_enum type if it exists\n",
    "cur.execute(\"DROP TYPE IF EXISTS weekday_enum CASCADE;\")\n",
    "\n",
    "# create enumerated datatype\n",
    "cur.execute(\"CREATE TYPE weekday_enum AS ENUM ('Monday', 'Tuesday', 'Wednesday', 'Thursday', 'Friday', 'Saturday', 'Sunday');\")\n",
    "\n",
    "# Create the table\n",
    "cur.execute(\"\"\"\n",
    "CREATE TABLE IF NOT EXISTS crimes.boston_crimes (\n",
    "    incident_number INTEGER PRIMARY KEY,\n",
    "    offense_code INTEGER,\n",
    "    description VARCHAR(60),\n",
    "    date DATE,\n",
    "    day_of_the_week weekday_enum,\n",
    "    lat DECIMAL(10, 8),\n",
    "    long DECIMAL(10, 8));\n",
    "\"\"\")\n",
    "\n",
    "conn.commit()\n",
    "conn.close()"
   ]
  },
  {
   "cell_type": "markdown",
   "metadata": {},
   "source": [
    "## Loading the Data\n",
    "\n",
    "Now that we have created the table, we can load the data into it. We will use the `cursor.copy_expert()` method. First, though, we have to remove duplicate rows from the csv file."
   ]
  },
  {
   "cell_type": "code",
   "execution_count": 10,
   "metadata": {
    "collapsed": false,
    "scrolled": true
   },
   "outputs": [
    {
     "name": "stdout",
     "output_type": "stream",
     "text": [
      "Error: extra data after last expected column\n",
      "CONTEXT:  COPY boston_crimes, line 2: \"1,619,LARCENY ALL OTHERS,2018-09-02,Sunday,42.35779134,-71.13937053\"\n",
      "\n",
      "0\n"
     ]
    }
   ],
   "source": [
    "conn = psycopg2.connect(\"dbname=crime_db user=dq\")\n",
    "cur = conn.cursor()\n",
    "\n",
    "# Remove duplicates from the CSV file\n",
    "unique_rows = {}\n",
    "with open(\"boston.csv\", \"r\") as infile, open(\"boston_unique.csv\", \"w\", newline='') as outfile:\n",
    "    reader = csv.DictReader(infile)\n",
    "    writer = csv.DictWriter(outfile, fieldnames=reader.fieldnames)\n",
    "    writer.writeheader()\n",
    "    for row in reader:\n",
    "        if row['incident_number'] not in unique_rows:\n",
    "            unique_rows[row['incident_number']] = row\n",
    "            writer.writerow(row)\n",
    "\n",
    "with open(\"boston_unique.csv\", \"r\") as f:\n",
    "    try:\n",
    "        cur.copy_expert(\"COPY crimes.boston_crimes FROM STDIN WITH CSV HEADER;\", f)\n",
    "    except psycopg2.Error as e:\n",
    "        print(\"Error: {}\".format(e))\n",
    "        conn.rollback()\n",
    "    else:\n",
    "        conn.commit()\n",
    "\n",
    "cur.execute(\"SELECT COUNT(*) FROM crimes.boston_crimes\")\n",
    "row_count = cur.fetchone()[0]\n",
    "print(row_count)\n",
    "\n",
    "conn.close()"
   ]
  },
  {
   "cell_type": "markdown",
   "metadata": {},
   "source": [
    "## Revoking Public Privileges\n",
    "\n",
    "Our database is starting to look good! We have created a database with a schema inside it to hold data about crimes. We selected the right datatypes for storing the data, created a table, and loaded the CSV containing crimes about Boston.\n",
    "\n",
    "Now it's time to handle users. Our goal is to create the two user groups that we have learned about: `readonly` and `readwrite`. By following the least privilege principle, the first step in doing so is to make sure that there are no privileges inherited from the public group and on the public schema.\n",
    "\n",
    "We thus revoke the privileges of the `public`group on the `public`schema.\n",
    "Then we revoke all privileges of `public` on the `crime_db` database."
   ]
  },
  {
   "cell_type": "code",
   "execution_count": 11,
   "metadata": {
    "collapsed": true
   },
   "outputs": [],
   "source": [
    "conn = psycopg2.connect(\"dbname=crime_db user=dq\")\n",
    "cur = conn.cursor()\n",
    "cur.execute(\"REVOKE ALL ON SCHEMA public FROM public;\")\n",
    "cur.execute(\"REVOKE ALL ON DATABASE crime_db FROM public;\")\n",
    "conn.commit()\n",
    "conn.close()"
   ]
  },
  {
   "cell_type": "markdown",
   "metadata": {},
   "source": [
    "## Creating User Groups\n",
    "\n",
    "We've made sure that we aren't going to inadvertently inherit privileges from the `public` group. The next step is to create our two user groups. "
   ]
  },
  {
   "cell_type": "code",
   "execution_count": 13,
   "metadata": {
    "collapsed": false
   },
   "outputs": [],
   "source": [
    "conn = psycopg2.connect(\"dbname=crime_db user=dq\")\n",
    "cur = conn.cursor()\n",
    "cur.execute(\"CREATE GROUP readonly NOLOGIN ;\")\n",
    "cur.execute(\"CREATE GROUP readwrite NOLOGIN ;\")\n",
    "cur.execute(\"GRANT CONNECT ON DATABASE crime_db TO readonly;\")\n",
    "cur.execute(\"GRANT CONNECT ON DATABASE crime_db TO readwrite;\")\n",
    "cur.execute(\"GRANT USAGE ON SCHEMA crimes TO readonly;\")\n",
    "cur.execute(\"GRANT USAGE ON SCHEMA crimes TO readwrite;\")\n",
    "cur.execute(\"GRANT SELECT ON ALL TABLES IN SCHEMA crimes TO readonly;\")\n",
    "cur.execute(\"GRANT SELECT, INSERT, DELETE, UPDATE ON ALL TABLES IN SCHEMA crimes TO readwrite;\")\n",
    "conn.commit()\n",
    "conn.close()"
   ]
  },
  {
   "cell_type": "markdown",
   "metadata": {},
   "source": [
    "## Creating Users\n",
    "\n",
    "Now we just need to create the users!"
   ]
  },
  {
   "cell_type": "code",
   "execution_count": 14,
   "metadata": {
    "collapsed": true
   },
   "outputs": [],
   "source": [
    "conn = psycopg2.connect(\"dbname=crime_db user=dq\")\n",
    "cur = conn.cursor()\n",
    "\n",
    "cur.execute(\"CREATE USER data_analyst WITH PASSWORD 'secret1';\")\n",
    "cur.execute(\"GRANT readonly TO data_analyst;\")\n",
    "cur.execute(\"CREATE USER data_scientist WITH PASSWORD 'secret2';\")\n",
    "cur.execute(\"GRANT readwrite TO data_scientist;\")\n",
    "\n",
    "conn.commit()\n",
    "conn.close()"
   ]
  },
  {
   "cell_type": "markdown",
   "metadata": {},
   "source": [
    "## Testing\n",
    "\n",
    "Let's test if everything is configured as expected."
   ]
  },
  {
   "cell_type": "code",
   "execution_count": 17,
   "metadata": {
    "collapsed": false
   },
   "outputs": [
    {
     "name": "stdout",
     "output_type": "stream",
     "text": [
      "('readonly', False, False, False, False)\n",
      "('readwrite', False, False, False, False)\n",
      "\n",
      "('readonly', 'SELECT')\n",
      "('readwrite', 'INSERT')\n",
      "('readwrite', 'SELECT')\n",
      "('readwrite', 'UPDATE')\n",
      "('readwrite', 'DELETE')\n"
     ]
    }
   ],
   "source": [
    "# Close the old connection to test with a brand new connection.\n",
    "conn.close()\n",
    "\n",
    "conn = psycopg2.connect(dbname=\"crime_db\", user=\"dq\")\n",
    "cur = conn.cursor()\n",
    "# Check users and groups.\n",
    "cur.execute(\"\"\"\n",
    "    SELECT rolname, rolsuper, rolcreaterole, rolcreatedb, rolcanlogin FROM pg_roles\n",
    "    WHERE rolname IN ('readonly', 'readwrite', 'data_analyst', 'data_scientist');\n",
    "\"\"\")\n",
    "for user in cur:\n",
    "    print(user)\n",
    "print()\n",
    "# check privileges\n",
    "cur.execute(\"\"\"\n",
    "    SELECT grantee, privilege_type\n",
    "    FROM information_schema.table_privileges\n",
    "    WHERE grantee IN ('readonly', 'readwrite');\n",
    "\"\"\")\n",
    "for user in cur:\n",
    "    print(user)\n",
    "conn.close()"
   ]
  }
 ],
 "metadata": {
  "kernelspec": {
   "display_name": "Python 3",
   "language": "python",
   "name": "python3"
  },
  "language_info": {
   "codemirror_mode": {
    "name": "ipython",
    "version": 3
   },
   "file_extension": ".py",
   "mimetype": "text/x-python",
   "name": "python",
   "nbconvert_exporter": "python",
   "pygments_lexer": "ipython3",
   "version": "3.4.3"
  }
 },
 "nbformat": 4,
 "nbformat_minor": 2
}
