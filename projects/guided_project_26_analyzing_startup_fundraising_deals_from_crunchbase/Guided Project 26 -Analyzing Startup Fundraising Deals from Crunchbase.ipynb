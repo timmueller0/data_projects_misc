{
 "cells": [
  {
   "cell_type": "markdown",
   "metadata": {},
   "source": [
    "# Analyzing Startup Fundraising Deals from Crunchbase\n",
    "\n",
    "In this project, we'll practice using some of the techniques we learned to analyze startup investments from Crunchbase.com.\n",
    "Every year, thousands of startup companies raise financing from investors. Each time a startup raises money, we refer to the event as a fundraising round. Crunchbase is a website that crowdsources information on the fundraising rounds of many startups. The Crunchbase user community submits, edits, and maintains most of the information in Crunchbase.\n",
    "In return, Crunchbase makes the data available through a web application and a fee-based API. Before Crunchbase switched to the paid API model, multiple groups went to the site and released the data online. Since the information on the startups and their fundraising rounds is always changing, the dataset we'll be using isn't completely up to date.\n",
    "The dataset of investments we'll be exploring from October 2013. You can download it from [GitHub](https://github.com/datahoarder/crunchbase-october-2013/blob/master/crunchbase-investments.csv).\n",
    "\n",
    "We'll practice working with different memory constraints. In this step, let's assume we only have 10 megabytes of available memory. While `crunchbase-investments.csv` consumes 10.3 megabytes of disk space, we know that pandas typically requires significantly more space in memory than the file does on disk (especially when there are multiple string columns). The exact memory usage can vary depending on the pandas version, data types, and specific operations, but it's often several times larger than the original file size.\n",
    "\n",
    "We'll process the data in chunks of 5000 rows and learn about each colum's missing value counts, memory foortprint, the total memory footprint of all chunks combined. We will also drop columns not needed for the analysis."
   ]
  },
  {
   "cell_type": "code",
   "execution_count": 37,
   "metadata": {},
   "outputs": [],
   "source": [
    "import pandas as pd\n",
    "import numpy as np\n",
    "import sqlite3\n",
    "\n",
    "pd.set_option('display.max_rows', None)\n",
    "pd.set_option('display.max_columns', None)"
   ]
  },
  {
   "cell_type": "code",
   "execution_count": 2,
   "metadata": {},
   "outputs": [
    {
     "name": "stdout",
     "output_type": "stream",
     "text": [
      "52870\n"
     ]
    }
   ],
   "source": [
    "# Total rows\n",
    "\n",
    "chunk_iter = pd.read_csv('crunchbase-investments.csv', chunksize=5000, encoding='latin1')\n",
    "total_rows = 0\n",
    "for chunk in chunk_iter:\n",
    "    total_rows += len(chunk)\n",
    "print(total_rows)"
   ]
  },
  {
   "cell_type": "code",
   "execution_count": 4,
   "metadata": {},
   "outputs": [
    {
     "name": "stdout",
     "output_type": "stream",
     "text": [
      "     company_permalink company_name company_category_code  \\\n",
      "0    /company/advercar     AdverCar           advertising   \n",
      "1  /company/launchgram   LaunchGram                  news   \n",
      "2        /company/utap         uTaP             messaging   \n",
      "3    /company/zoopshop     ZoopShop              software   \n",
      "4    /company/efuneral     eFuneral                   web   \n",
      "\n",
      "  company_country_code company_state_code         company_region  \\\n",
      "0                  USA                 CA                 SF Bay   \n",
      "1                  USA                 CA                 SF Bay   \n",
      "2                  USA                NaN  United States - Other   \n",
      "3                  USA                 OH               Columbus   \n",
      "4                  USA                 OH              Cleveland   \n",
      "\n",
      "    company_city          investor_permalink      investor_name  \\\n",
      "0  San Francisco  /company/1-800-flowers-com  1-800-FLOWERS.COM   \n",
      "1  Mountain View        /company/10xelerator        10Xelerator   \n",
      "2            NaN        /company/10xelerator        10Xelerator   \n",
      "3       columbus        /company/10xelerator        10Xelerator   \n",
      "4      Cleveland        /company/10xelerator        10Xelerator   \n",
      "\n",
      "  investor_category_code investor_country_code investor_state_code  \\\n",
      "0                    NaN                   USA                  NY   \n",
      "1                finance                   USA                  OH   \n",
      "2                finance                   USA                  OH   \n",
      "3                finance                   USA                  OH   \n",
      "4                finance                   USA                  OH   \n",
      "\n",
      "  investor_region investor_city funding_round_type   funded_at funded_month  \\\n",
      "0        New York      New York           series-a  2012-10-30      2012-10   \n",
      "1        Columbus      Columbus              other  2012-01-23      2012-01   \n",
      "2        Columbus      Columbus              other  2012-01-01      2012-01   \n",
      "3        Columbus      Columbus              angel  2012-02-15      2012-02   \n",
      "4        Columbus      Columbus              other  2011-09-08      2011-09   \n",
      "\n",
      "  funded_quarter  funded_year  raised_amount_usd  \n",
      "0        2012-Q4         2012            2000000  \n",
      "1        2012-Q1         2012              20000  \n",
      "2        2012-Q1         2012              20000  \n",
      "3        2012-Q1         2012              20000  \n",
      "4        2011-Q3         2011              20000  \n"
     ]
    }
   ],
   "source": [
    "# First five rows\n",
    "\n",
    "chunk = pd.read_csv('crunchbase-investments.csv', nrows=5, encoding='latin1') \n",
    "print(chunk)\n",
    "cols = chunk.columns"
   ]
  },
  {
   "cell_type": "code",
   "execution_count": 13,
   "metadata": {},
   "outputs": [
    {
     "name": "stdout",
     "output_type": "stream",
     "text": [
      "company_category_code       643\n",
      "company_city                533\n",
      "company_country_code          1\n",
      "company_name                  1\n",
      "company_permalink             1\n",
      "company_region                1\n",
      "company_state_code          492\n",
      "funded_at                     3\n",
      "funded_month                  3\n",
      "funded_quarter                3\n",
      "funded_year                   3\n",
      "funding_round_type            3\n",
      "investor_category_code    50427\n",
      "investor_city             12480\n",
      "investor_country_code     12001\n",
      "investor_name                 2\n",
      "investor_permalink            2\n",
      "investor_region               2\n",
      "investor_state_code       16809\n",
      "raised_amount_usd          3599\n",
      "dtype: int64\n"
     ]
    }
   ],
   "source": [
    "# Missing values\n",
    "\n",
    "chunk_iter = pd.read_csv('crunchbase-investments.csv', chunksize=5000, encoding='latin1')\n",
    "missing_counts = [chunk.isna().sum() for chunk in chunk_iter]\n",
    "combined_counts = pd.concat(missing_counts).groupby(level=0).sum()\n",
    "print(combined_counts)"
   ]
  },
  {
   "cell_type": "code",
   "execution_count": 17,
   "metadata": {},
   "outputs": [
    {
     "name": "stdout",
     "output_type": "stream",
     "text": [
      "Index                     0.001381\n",
      "company_category_code     3.262619\n",
      "company_city              3.343473\n",
      "company_country_code      3.025223\n",
      "company_name              3.424955\n",
      "company_permalink         3.869808\n",
      "company_region            3.253503\n",
      "company_state_code        2.962161\n",
      "funded_at                 3.378091\n",
      "funded_month              3.226837\n",
      "funded_quarter            3.226837\n",
      "funded_year               0.403366\n",
      "funding_round_type        3.252704\n",
      "investor_category_code    0.593590\n",
      "investor_city             2.751430\n",
      "investor_country_code     2.524654\n",
      "investor_name             3.734270\n",
      "investor_permalink        4.749821\n",
      "investor_region           3.238946\n",
      "investor_state_code       2.361876\n",
      "raised_amount_usd         0.403366\n",
      "dtype: float64\n",
      "56.988911628723145\n"
     ]
    }
   ],
   "source": [
    "# Each column's memory footprint\n",
    "\n",
    "chunk_iter = pd.read_csv('crunchbase-investments.csv', chunksize=5000, encoding='latin1')\n",
    "footprint = [chunk.memory_usage(deep=True) for chunk in chunk_iter]\n",
    "combined_footprint = pd.concat(footprint).groupby(level=0).sum() / (2 ** 20)  # in MB\n",
    "total_footprint = combined_footprint.sum()\n",
    "print(combined_footprint)\n",
    "print(total_footprint)"
   ]
  },
  {
   "cell_type": "markdown",
   "metadata": {},
   "source": [
    "It seems that we have at least one column (`investor_category_code`) with more than 90% missing values. Additionally, the variables `investor_permalink` and `company_permalink`) do not seem to contribute too much to the analysis but takes up a fair amount of memory. We'll delet these columns."
   ]
  },
  {
   "cell_type": "code",
   "execution_count": 18,
   "metadata": {},
   "outputs": [],
   "source": [
    "# Drop columns representing URLs or containing too many missing values (>90% missing)\n",
    "drop_cols = ['investor_permalink', 'company_permalink', 'investor_category_code']\n",
    "keep_cols = chunk.columns.drop(drop_cols)"
   ]
  },
  {
   "cell_type": "code",
   "execution_count": 20,
   "metadata": {},
   "outputs": [
    {
     "data": {
      "text/plain": [
       "['company_name',\n",
       " 'company_category_code',\n",
       " 'company_country_code',\n",
       " 'company_state_code',\n",
       " 'company_region',\n",
       " 'company_city',\n",
       " 'investor_name',\n",
       " 'investor_country_code',\n",
       " 'investor_state_code',\n",
       " 'investor_region',\n",
       " 'investor_city',\n",
       " 'funding_round_type',\n",
       " 'funded_at',\n",
       " 'funded_month',\n",
       " 'funded_quarter',\n",
       " 'funded_year',\n",
       " 'raised_amount_usd']"
      ]
     },
     "execution_count": 20,
     "metadata": {},
     "output_type": "execute_result"
    }
   ],
   "source": [
    "keep_cols.tolist()"
   ]
  },
  {
   "cell_type": "markdown",
   "metadata": {},
   "source": [
    "## Selecting Data Types\n",
    "\n",
    "Now that we have a good sense of the missing values, let's get familiar with the column types before adding the data into SQLite."
   ]
  },
  {
   "cell_type": "code",
   "execution_count": 21,
   "metadata": {},
   "outputs": [],
   "source": [
    "# Writing the dtype for each column in each chunk into a dictionary\n",
    "col_types = {}\n",
    "chunk_iter = pd.read_csv('crunchbase-investments.csv', chunksize=5000, encoding='latin1', usecols=keep_cols)\n",
    "\n",
    "for chunk in chunk_iter:\n",
    "    for col in chunk.columns:\n",
    "        if col not in col_types:\n",
    "            col_types[col] = [str(chunk.dtypes[col])]\n",
    "        else:\n",
    "            col_types[col].append(str(chunk.dtypes[col]))"
   ]
  },
  {
   "cell_type": "code",
   "execution_count": 22,
   "metadata": {},
   "outputs": [
    {
     "name": "stdout",
     "output_type": "stream",
     "text": [
      "{'company_name': {'object'}, 'company_category_code': {'object'}, 'company_country_code': {'object'}, 'company_state_code': {'object'}, 'company_region': {'object'}, 'company_city': {'object'}, 'investor_name': {'object'}, 'investor_country_code': {'object', 'float64'}, 'investor_state_code': {'object', 'float64'}, 'investor_region': {'object'}, 'investor_city': {'object', 'float64'}, 'funding_round_type': {'object'}, 'funded_at': {'object'}, 'funded_month': {'object'}, 'funded_quarter': {'object'}, 'funded_year': {'float64', 'int64'}, 'raised_amount_usd': {'float64'}}\n"
     ]
    }
   ],
   "source": [
    "# For each dictionary entry only keep the unique dtypes\n",
    "\n",
    "uniq_col_types = {}\n",
    "for k,v in col_types.items():\n",
    "    uniq_col_types[k] = set(col_types[k])\n",
    "print(uniq_col_types)"
   ]
  },
  {
   "cell_type": "markdown",
   "metadata": {},
   "source": [
    "It seems as if the different date columns `funded_at`, `funded_month`, `funded_quarter`, `funded_year` contain somewhat redundant information. We can convert `funded_at` into a timestamp, and the `funded_quarter` into a `period` type. The year and month can later still be extracted from the `funded_at` column, and the information about the quarter will be found in the `funded_quarter` column. The rest of those columns can be deleted."
   ]
  },
  {
   "cell_type": "code",
   "execution_count": 23,
   "metadata": {},
   "outputs": [],
   "source": [
    "# Convert the 'funded_at' column to a datetime and convert funded_quarter to a period\n",
    "chunk_iter = pd.read_csv('crunchbase-investments.csv', chunksize=5000, encoding='latin1')\n",
    "for chunk in chunk_iter:\n",
    "    chunk['funded_at'] = pd.to_datetime(chunk['funded_at'])\n",
    "    chunk['funded_quarter'] = chunk['funded_at'].dt.to_period('Q')"
   ]
  },
  {
   "cell_type": "code",
   "execution_count": 24,
   "metadata": {},
   "outputs": [
    {
     "data": {
      "text/plain": [
       "['company_name',\n",
       " 'company_category_code',\n",
       " 'company_country_code',\n",
       " 'company_state_code',\n",
       " 'company_region',\n",
       " 'company_city',\n",
       " 'investor_name',\n",
       " 'investor_country_code',\n",
       " 'investor_state_code',\n",
       " 'investor_region',\n",
       " 'investor_city',\n",
       " 'funding_round_type',\n",
       " 'funded_at',\n",
       " 'funded_quarter',\n",
       " 'raised_amount_usd']"
      ]
     },
     "execution_count": 24,
     "metadata": {},
     "output_type": "execute_result"
    }
   ],
   "source": [
    "# Update keep and drop lists\n",
    "drop_cols = ['investor_permalink', 'company_permalink', 'investor_category_code', 'funded_month', 'funded_year']\n",
    "keep_cols = chunk.columns.drop(drop_cols)\n",
    "keep_cols.tolist()"
   ]
  },
  {
   "cell_type": "code",
   "execution_count": 26,
   "metadata": {},
   "outputs": [
    {
     "name": "stdout",
     "output_type": "stream",
     "text": [
      "     company_permalink company_name company_category_code  \\\n",
      "0    /company/advercar     AdverCar           advertising   \n",
      "1  /company/launchgram   LaunchGram                  news   \n",
      "2        /company/utap         uTaP             messaging   \n",
      "3    /company/zoopshop     ZoopShop              software   \n",
      "4    /company/efuneral     eFuneral                   web   \n",
      "\n",
      "  company_country_code company_state_code         company_region  \\\n",
      "0                  USA                 CA                 SF Bay   \n",
      "1                  USA                 CA                 SF Bay   \n",
      "2                  USA                NaN  United States - Other   \n",
      "3                  USA                 OH               Columbus   \n",
      "4                  USA                 OH              Cleveland   \n",
      "\n",
      "    company_city          investor_permalink      investor_name  \\\n",
      "0  San Francisco  /company/1-800-flowers-com  1-800-FLOWERS.COM   \n",
      "1  Mountain View        /company/10xelerator        10Xelerator   \n",
      "2            NaN        /company/10xelerator        10Xelerator   \n",
      "3       columbus        /company/10xelerator        10Xelerator   \n",
      "4      Cleveland        /company/10xelerator        10Xelerator   \n",
      "\n",
      "  investor_category_code investor_country_code investor_state_code  \\\n",
      "0                    NaN                   USA                  NY   \n",
      "1                finance                   USA                  OH   \n",
      "2                finance                   USA                  OH   \n",
      "3                finance                   USA                  OH   \n",
      "4                finance                   USA                  OH   \n",
      "\n",
      "  investor_region investor_city funding_round_type   funded_at funded_month  \\\n",
      "0        New York      New York           series-a  2012-10-30      2012-10   \n",
      "1        Columbus      Columbus              other  2012-01-23      2012-01   \n",
      "2        Columbus      Columbus              other  2012-01-01      2012-01   \n",
      "3        Columbus      Columbus              angel  2012-02-15      2012-02   \n",
      "4        Columbus      Columbus              other  2011-09-08      2011-09   \n",
      "\n",
      "  funded_quarter  funded_year  raised_amount_usd  \n",
      "0        2012-Q4         2012            2000000  \n",
      "1        2012-Q1         2012              20000  \n",
      "2        2012-Q1         2012              20000  \n",
      "3        2012-Q1         2012              20000  \n",
      "4        2011-Q3         2011              20000  \n"
     ]
    }
   ],
   "source": [
    "chunk = pd.read_csv('crunchbase-investments.csv', nrows=5, encoding='latin1') \n",
    "print(chunk)"
   ]
  },
  {
   "cell_type": "code",
   "execution_count": 30,
   "metadata": {},
   "outputs": [
    {
     "name": "stdout",
     "output_type": "stream",
     "text": [
      "company_category_code      451\n",
      "company_city              5181\n",
      "company_country_code        12\n",
      "company_name             30586\n",
      "company_region            2066\n",
      "company_state_code         494\n",
      "funded_at                18304\n",
      "funded_quarter             656\n",
      "funding_round_type          88\n",
      "investor_city             2038\n",
      "investor_country_code      310\n",
      "investor_name            10485\n",
      "investor_region           1337\n",
      "investor_state_code        327\n",
      "raised_amount_usd         6280\n",
      "dtype: int64\n"
     ]
    }
   ],
   "source": [
    "chunk_iter = pd.read_csv('crunchbase-investments.csv', chunksize=5000, encoding='latin1', usecols=keep_cols)\n",
    "unique_counts = [chunk.nunique() for chunk in chunk_iter]\n",
    "combined_counts = pd.concat(unique_counts).groupby(level=0).sum()\n",
    "print(combined_counts)"
   ]
  },
  {
   "cell_type": "markdown",
   "metadata": {},
   "source": [
    "The following string columns look like candidates for the `category`datetype: `company_category_code`, `company_country_code`, `company_state_code`, `company_region`, `investor_country_code`, `investor_state_code`, `investor_region`, `funding_round_type`. We will retain `company_name`and `investor_name`as string objects. \n",
    "\n",
    "With regard to the numeric columns, the `raised_amount_usd` looks like  a candidate for an `integer` type. Let's implement all these changes and check the memory footprint again."
   ]
  },
  {
   "cell_type": "code",
   "execution_count": 36,
   "metadata": {
    "tags": []
   },
   "outputs": [
    {
     "name": "stdout",
     "output_type": "stream",
     "text": [
      "Index                    0.001381\n",
      "company_category_code    0.089798\n",
      "company_city             3.343473\n",
      "company_country_code     0.052244\n",
      "company_name             3.424955\n",
      "company_region           0.300736\n",
      "company_state_code       0.089467\n",
      "funded_at                3.378091\n",
      "funded_quarter           3.226837\n",
      "funding_round_type       0.059038\n",
      "investor_city            2.751430\n",
      "investor_country_code    0.077566\n",
      "investor_name            3.734270\n",
      "investor_region          0.208169\n",
      "investor_state_code      0.078227\n",
      "raised_amount_usd        0.453787\n",
      "dtype: float64\n",
      "21.26947021484375\n"
     ]
    }
   ],
   "source": [
    "# Convert to category type and int type\n",
    "category_cols = ['company_category_code', 'company_country_code', 'company_state_code', 'company_region', 'investor_country_code', 'investor_state_code', 'investor_region', 'funding_round_type']\n",
    "footprints = []\n",
    "chunk_iter = pd.read_csv('crunchbase-investments.csv', chunksize=5000, encoding='latin1', usecols=keep_cols)\n",
    "for chunk in chunk_iter:\n",
    "    for col in category_cols:\n",
    "        chunk[col] = chunk[col].astype('category')\n",
    "    chunk['raised_amount_usd'] = pd.to_numeric(chunk['raised_amount_usd'], errors='coerce').astype('Int64')\n",
    "    footprints.append(chunk.memory_usage(deep=True))\n",
    "\n",
    "# Calculate and print memory footprints\n",
    "combined_footprint = pd.concat(footprints).groupby(level=0).sum() / (2 ** 20)  # in MB\n",
    "total_footprint = combined_footprint.sum()\n",
    "\n",
    "print(combined_footprint)\n",
    "print(total_footprint)"
   ]
  },
  {
   "cell_type": "markdown",
   "metadata": {},
   "source": [
    "Implementing all those changes allowed us to reduce the overall memory footprint from 57 MB to only 21 MB. That's a reduction by 63%, so a lot more efficient."
   ]
  },
  {
   "cell_type": "markdown",
   "metadata": {},
   "source": [
    "## Loading Chunks into SQLite\n",
    "\n",
    "Now we're in good shape to start exploring and analyzing the data. The next step is to load each chunk into a table in a SQLite database so we can query the full dataset."
   ]
  },
  {
   "cell_type": "code",
   "execution_count": 38,
   "metadata": {},
   "outputs": [],
   "source": [
    "conn = sqlite3.connect('crunchbase.db')\n",
    "chunk_iter = pd.read_csv('crunchbase-investments.csv', chunksize=5000, encoding='latin1', usecols=keep_cols)\n",
    "for chunk in chunk_iter:\n",
    "    for col in category_cols:\n",
    "        chunk[col] = chunk[col].astype('category')\n",
    "        chunk['raised_amount_usd'] = pd.to_numeric(chunk['raised_amount_usd'], errors='coerce').astype('Int64')\n",
    "    chunk.to_sql(\"investments\", conn, if_exists='append', index=False)"
   ]
  },
  {
   "cell_type": "code",
   "execution_count": 40,
   "metadata": {},
   "outputs": [
    {
     "name": "stdout",
     "output_type": "stream",
     "text": [
      "    cid                   name     type  notnull dflt_value  pk\n",
      "0     0           company_name     TEXT        0       None   0\n",
      "1     1  company_category_code     TEXT        0       None   0\n",
      "2     2   company_country_code     TEXT        0       None   0\n",
      "3     3     company_state_code     TEXT        0       None   0\n",
      "4     4         company_region     TEXT        0       None   0\n",
      "5     5           company_city     TEXT        0       None   0\n",
      "6     6          investor_name     TEXT        0       None   0\n",
      "7     7  investor_country_code     TEXT        0       None   0\n",
      "8     8    investor_state_code     TEXT        0       None   0\n",
      "9     9        investor_region     TEXT        0       None   0\n",
      "10   10          investor_city     TEXT        0       None   0\n",
      "11   11     funding_round_type     TEXT        0       None   0\n",
      "12   12              funded_at     TEXT        0       None   0\n",
      "13   13         funded_quarter     TEXT        0       None   0\n",
      "14   14      raised_amount_usd  INTEGER        0       None   0\n"
     ]
    }
   ],
   "source": [
    "conn = sqlite3.connect('crunchbase.db')\n",
    "results_df = pd.read_sql(\"\"\"\n",
    "PRAGMA table_info(investments);\n",
    "\"\"\", conn)\n",
    "print(results_df)"
   ]
  },
  {
   "cell_type": "code",
   "execution_count": 41,
   "metadata": {},
   "outputs": [
    {
     "name": "stdout",
     "output_type": "stream",
     "text": [
      "   count\n",
      "0  52870\n"
     ]
    }
   ],
   "source": [
    "conn = sqlite3.connect('crunchbase.db')\n",
    "row_count = pd.read_sql(\"SELECT COUNT(*) as count FROM investments;\", conn)\n",
    "print(row_count)"
   ]
  },
  {
   "cell_type": "markdown",
   "metadata": {},
   "source": [
    "Loading our table into `crunchbase.db` works fine - in the end all 52870 rows were tranferred. But the data types are not great. Most colums are stored as `TEXT`. Since SQLite does not have a dedicated `DATE` type or `category`type, these columns are cast as `TEXT`. At least the `raised_amount_usd` column was stored as `INTEGER`, as intended. Storing our data in a PostgreSQL database, which has a lot more datatype options could help us here."
   ]
  }
 ],
 "metadata": {
  "anaconda-cloud": {},
  "kernelspec": {
   "display_name": "Python 3 (ipykernel)",
   "language": "python",
   "name": "python3"
  },
  "language_info": {
   "codemirror_mode": {
    "name": "ipython",
    "version": 3
   },
   "file_extension": ".py",
   "mimetype": "text/x-python",
   "name": "python",
   "nbconvert_exporter": "python",
   "pygments_lexer": "ipython3",
   "version": "3.11.0rc1"
  }
 },
 "nbformat": 4,
 "nbformat_minor": 4
}
