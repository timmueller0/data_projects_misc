{
 "cells": [
  {
   "metadata": {},
   "cell_type": "markdown",
   "source": [
    "# Statistical Analysis Notebook\n",
    "\n",
    "I have set up this Jupyter Notebook to perform statistical analysis on a dataset. This includes basic data exploration, statistical tests, and visualizations. But I also aim for regression analyses and calculation of marginal effects.\n",
    "\n",
    "\n",
    "Jupyter Notebook in PyCharm Helpfile [help](https://www.jetbrains.com/help/pycharm/ipython-notebook-support.html).\n",
    "\n",
    "We start with importing the necessary libraries."
   ],
   "id": "8a77807f92f26ee"
  },
  {
   "metadata": {
    "ExecuteTime": {
     "end_time": "2025-07-04T14:40:04.800256Z",
     "start_time": "2025-07-04T14:40:04.369011Z"
    }
   },
   "cell_type": "code",
   "source": [
    "# Standard imports\n",
    "import numpy as np\n",
    "import pandas as pd\n",
    "\n",
    "# Visualization\n",
    "import matplotlib.pyplot as plt\n",
    "import seaborn as sns\n",
    "\n",
    "# Statistical models and tests\n",
    "import statsmodels.api as sm\n",
    "import statsmodels.formula.api as smf\n",
    "from statsmodels.miscmodels.ordinal_model import OrderedModel\n",
    "\n",
    "# Scikit-learn for ML-style modeling\n",
    "from sklearn.linear_model import LogisticRegression\n",
    "from sklearn.model_selection import train_test_split\n",
    "from sklearn.metrics import classification_report, confusion_matrix\n",
    "\n",
    "# For statistical tests\n",
    "from scipy import stats"
   ],
   "id": "e4c9d79f832a40ed",
   "outputs": [],
   "execution_count": 1
  },
  {
   "metadata": {},
   "cell_type": "markdown",
   "source": [
    "## 1. EDA Summary Function\n",
    "This function will provide a summary of the dataset, including basic statistics and datatypes."
   ],
   "id": "cd79f9a133fb13a1"
  },
  {
   "metadata": {
    "ExecuteTime": {
     "end_time": "2025-07-04T14:47:44.555414Z",
     "start_time": "2025-07-04T14:47:44.545429Z"
    }
   },
   "cell_type": "code",
   "source": [
    "def eda_summary(df):\n",
    "    print(\"Shape:\", df.shape)\n",
    "    display(df.info())  ## specifically for Jupyter to display DataFrame info\n",
    "    display(df.describe(include='all'))\n",
    "    print(\"\\nMissing values:\\n\", df.isnull().sum())\n",
    "    print(\"\\nData types:\\n\", df.dtypes)\n",
    "    print(\"First 5 observations: \", df.head())\n",
    "    print(\"Last 5 observations: \", df.tail())"
   ],
   "id": "b79429891b52017",
   "outputs": [],
   "execution_count": 8
  },
  {
   "metadata": {},
   "cell_type": "markdown",
   "source": "We will use the `auto` dataset for our analysis. This dataset is commonly used for regression analysis and contains various attributes of automobiles.",
   "id": "d0966b0671ce9a4c"
  },
  {
   "metadata": {
    "ExecuteTime": {
     "end_time": "2025-07-04T14:44:05.194685Z",
     "start_time": "2025-07-04T14:44:05.188335Z"
    }
   },
   "cell_type": "code",
   "source": "auto = pd.read_csv('data/auto.csv')",
   "id": "56df1cb8a6ecd44a",
   "outputs": [],
   "execution_count": 6
  },
  {
   "metadata": {
    "ExecuteTime": {
     "end_time": "2025-07-04T14:47:47.780449Z",
     "start_time": "2025-07-04T14:47:47.754470Z"
    }
   },
   "cell_type": "code",
   "source": "eda_summary(auto)",
   "id": "94e1ec843aa94164",
   "outputs": [
    {
     "name": "stdout",
     "output_type": "stream",
     "text": [
      "Shape: (74, 12)\n",
      "<class 'pandas.core.frame.DataFrame'>\n",
      "RangeIndex: 74 entries, 0 to 73\n",
      "Data columns (total 12 columns):\n",
      " #   Column        Non-Null Count  Dtype  \n",
      "---  ------        --------------  -----  \n",
      " 0   make          74 non-null     object \n",
      " 1   price         74 non-null     int64  \n",
      " 2   mpg           74 non-null     int64  \n",
      " 3   rep78         69 non-null     float64\n",
      " 4   headroom      74 non-null     float64\n",
      " 5   trunk         74 non-null     int64  \n",
      " 6   weight        74 non-null     int64  \n",
      " 7   length        74 non-null     int64  \n",
      " 8   turn          74 non-null     int64  \n",
      " 9   displacement  74 non-null     int64  \n",
      " 10  gear_ratio    74 non-null     float64\n",
      " 11  foreign       74 non-null     object \n",
      "dtypes: float64(3), int64(7), object(2)\n",
      "memory usage: 7.1+ KB\n"
     ]
    },
    {
     "data": {
      "text/plain": [
       "None"
      ]
     },
     "metadata": {},
     "output_type": "display_data"
    },
    {
     "data": {
      "text/plain": [
       "               make         price        mpg      rep78   headroom      trunk  \\\n",
       "count            74     74.000000  74.000000  69.000000  74.000000  74.000000   \n",
       "unique           74           NaN        NaN        NaN        NaN        NaN   \n",
       "top     AMC Concord           NaN        NaN        NaN        NaN        NaN   \n",
       "freq              1           NaN        NaN        NaN        NaN        NaN   \n",
       "mean            NaN   6165.256757  21.297297   3.405797   2.993243  13.756757   \n",
       "std             NaN   2949.495885   5.785503   0.989932   0.845995   4.277404   \n",
       "min             NaN   3291.000000  12.000000   1.000000   1.500000   5.000000   \n",
       "25%             NaN   4220.250000  18.000000   3.000000   2.500000  10.250000   \n",
       "50%             NaN   5006.500000  20.000000   3.000000   3.000000  14.000000   \n",
       "75%             NaN   6332.250000  24.750000   4.000000   3.500000  16.750000   \n",
       "max             NaN  15906.000000  41.000000   5.000000   5.000000  23.000000   \n",
       "\n",
       "             weight      length       turn  displacement  gear_ratio   foreign  \n",
       "count     74.000000   74.000000  74.000000     74.000000   74.000000        74  \n",
       "unique          NaN         NaN        NaN           NaN         NaN         2  \n",
       "top             NaN         NaN        NaN           NaN         NaN  Domestic  \n",
       "freq            NaN         NaN        NaN           NaN         NaN        52  \n",
       "mean    3019.459459  187.932432  39.648649    197.297297    3.014865       NaN  \n",
       "std      777.193567   22.266340   4.399354     91.837219    0.456287       NaN  \n",
       "min     1760.000000  142.000000  31.000000     79.000000    2.190000       NaN  \n",
       "25%     2250.000000  170.000000  36.000000    119.000000    2.730000       NaN  \n",
       "50%     3190.000000  192.500000  40.000000    196.000000    2.955000       NaN  \n",
       "75%     3600.000000  203.750000  43.000000    245.250000    3.352500       NaN  \n",
       "max     4840.000000  233.000000  51.000000    425.000000    3.890000       NaN  "
      ],
      "text/html": [
       "<div>\n",
       "<style scoped>\n",
       "    .dataframe tbody tr th:only-of-type {\n",
       "        vertical-align: middle;\n",
       "    }\n",
       "\n",
       "    .dataframe tbody tr th {\n",
       "        vertical-align: top;\n",
       "    }\n",
       "\n",
       "    .dataframe thead th {\n",
       "        text-align: right;\n",
       "    }\n",
       "</style>\n",
       "<table border=\"1\" class=\"dataframe\">\n",
       "  <thead>\n",
       "    <tr style=\"text-align: right;\">\n",
       "      <th></th>\n",
       "      <th>make</th>\n",
       "      <th>price</th>\n",
       "      <th>mpg</th>\n",
       "      <th>rep78</th>\n",
       "      <th>headroom</th>\n",
       "      <th>trunk</th>\n",
       "      <th>weight</th>\n",
       "      <th>length</th>\n",
       "      <th>turn</th>\n",
       "      <th>displacement</th>\n",
       "      <th>gear_ratio</th>\n",
       "      <th>foreign</th>\n",
       "    </tr>\n",
       "  </thead>\n",
       "  <tbody>\n",
       "    <tr>\n",
       "      <th>count</th>\n",
       "      <td>74</td>\n",
       "      <td>74.000000</td>\n",
       "      <td>74.000000</td>\n",
       "      <td>69.000000</td>\n",
       "      <td>74.000000</td>\n",
       "      <td>74.000000</td>\n",
       "      <td>74.000000</td>\n",
       "      <td>74.000000</td>\n",
       "      <td>74.000000</td>\n",
       "      <td>74.000000</td>\n",
       "      <td>74.000000</td>\n",
       "      <td>74</td>\n",
       "    </tr>\n",
       "    <tr>\n",
       "      <th>unique</th>\n",
       "      <td>74</td>\n",
       "      <td>NaN</td>\n",
       "      <td>NaN</td>\n",
       "      <td>NaN</td>\n",
       "      <td>NaN</td>\n",
       "      <td>NaN</td>\n",
       "      <td>NaN</td>\n",
       "      <td>NaN</td>\n",
       "      <td>NaN</td>\n",
       "      <td>NaN</td>\n",
       "      <td>NaN</td>\n",
       "      <td>2</td>\n",
       "    </tr>\n",
       "    <tr>\n",
       "      <th>top</th>\n",
       "      <td>AMC Concord</td>\n",
       "      <td>NaN</td>\n",
       "      <td>NaN</td>\n",
       "      <td>NaN</td>\n",
       "      <td>NaN</td>\n",
       "      <td>NaN</td>\n",
       "      <td>NaN</td>\n",
       "      <td>NaN</td>\n",
       "      <td>NaN</td>\n",
       "      <td>NaN</td>\n",
       "      <td>NaN</td>\n",
       "      <td>Domestic</td>\n",
       "    </tr>\n",
       "    <tr>\n",
       "      <th>freq</th>\n",
       "      <td>1</td>\n",
       "      <td>NaN</td>\n",
       "      <td>NaN</td>\n",
       "      <td>NaN</td>\n",
       "      <td>NaN</td>\n",
       "      <td>NaN</td>\n",
       "      <td>NaN</td>\n",
       "      <td>NaN</td>\n",
       "      <td>NaN</td>\n",
       "      <td>NaN</td>\n",
       "      <td>NaN</td>\n",
       "      <td>52</td>\n",
       "    </tr>\n",
       "    <tr>\n",
       "      <th>mean</th>\n",
       "      <td>NaN</td>\n",
       "      <td>6165.256757</td>\n",
       "      <td>21.297297</td>\n",
       "      <td>3.405797</td>\n",
       "      <td>2.993243</td>\n",
       "      <td>13.756757</td>\n",
       "      <td>3019.459459</td>\n",
       "      <td>187.932432</td>\n",
       "      <td>39.648649</td>\n",
       "      <td>197.297297</td>\n",
       "      <td>3.014865</td>\n",
       "      <td>NaN</td>\n",
       "    </tr>\n",
       "    <tr>\n",
       "      <th>std</th>\n",
       "      <td>NaN</td>\n",
       "      <td>2949.495885</td>\n",
       "      <td>5.785503</td>\n",
       "      <td>0.989932</td>\n",
       "      <td>0.845995</td>\n",
       "      <td>4.277404</td>\n",
       "      <td>777.193567</td>\n",
       "      <td>22.266340</td>\n",
       "      <td>4.399354</td>\n",
       "      <td>91.837219</td>\n",
       "      <td>0.456287</td>\n",
       "      <td>NaN</td>\n",
       "    </tr>\n",
       "    <tr>\n",
       "      <th>min</th>\n",
       "      <td>NaN</td>\n",
       "      <td>3291.000000</td>\n",
       "      <td>12.000000</td>\n",
       "      <td>1.000000</td>\n",
       "      <td>1.500000</td>\n",
       "      <td>5.000000</td>\n",
       "      <td>1760.000000</td>\n",
       "      <td>142.000000</td>\n",
       "      <td>31.000000</td>\n",
       "      <td>79.000000</td>\n",
       "      <td>2.190000</td>\n",
       "      <td>NaN</td>\n",
       "    </tr>\n",
       "    <tr>\n",
       "      <th>25%</th>\n",
       "      <td>NaN</td>\n",
       "      <td>4220.250000</td>\n",
       "      <td>18.000000</td>\n",
       "      <td>3.000000</td>\n",
       "      <td>2.500000</td>\n",
       "      <td>10.250000</td>\n",
       "      <td>2250.000000</td>\n",
       "      <td>170.000000</td>\n",
       "      <td>36.000000</td>\n",
       "      <td>119.000000</td>\n",
       "      <td>2.730000</td>\n",
       "      <td>NaN</td>\n",
       "    </tr>\n",
       "    <tr>\n",
       "      <th>50%</th>\n",
       "      <td>NaN</td>\n",
       "      <td>5006.500000</td>\n",
       "      <td>20.000000</td>\n",
       "      <td>3.000000</td>\n",
       "      <td>3.000000</td>\n",
       "      <td>14.000000</td>\n",
       "      <td>3190.000000</td>\n",
       "      <td>192.500000</td>\n",
       "      <td>40.000000</td>\n",
       "      <td>196.000000</td>\n",
       "      <td>2.955000</td>\n",
       "      <td>NaN</td>\n",
       "    </tr>\n",
       "    <tr>\n",
       "      <th>75%</th>\n",
       "      <td>NaN</td>\n",
       "      <td>6332.250000</td>\n",
       "      <td>24.750000</td>\n",
       "      <td>4.000000</td>\n",
       "      <td>3.500000</td>\n",
       "      <td>16.750000</td>\n",
       "      <td>3600.000000</td>\n",
       "      <td>203.750000</td>\n",
       "      <td>43.000000</td>\n",
       "      <td>245.250000</td>\n",
       "      <td>3.352500</td>\n",
       "      <td>NaN</td>\n",
       "    </tr>\n",
       "    <tr>\n",
       "      <th>max</th>\n",
       "      <td>NaN</td>\n",
       "      <td>15906.000000</td>\n",
       "      <td>41.000000</td>\n",
       "      <td>5.000000</td>\n",
       "      <td>5.000000</td>\n",
       "      <td>23.000000</td>\n",
       "      <td>4840.000000</td>\n",
       "      <td>233.000000</td>\n",
       "      <td>51.000000</td>\n",
       "      <td>425.000000</td>\n",
       "      <td>3.890000</td>\n",
       "      <td>NaN</td>\n",
       "    </tr>\n",
       "  </tbody>\n",
       "</table>\n",
       "</div>"
      ]
     },
     "metadata": {},
     "output_type": "display_data"
    },
    {
     "name": "stdout",
     "output_type": "stream",
     "text": [
      "\n",
      "Missing values:\n",
      " make            0\n",
      "price           0\n",
      "mpg             0\n",
      "rep78           5\n",
      "headroom        0\n",
      "trunk           0\n",
      "weight          0\n",
      "length          0\n",
      "turn            0\n",
      "displacement    0\n",
      "gear_ratio      0\n",
      "foreign         0\n",
      "dtype: int64\n",
      "\n",
      "Data types:\n",
      " make             object\n",
      "price             int64\n",
      "mpg               int64\n",
      "rep78           float64\n",
      "headroom        float64\n",
      "trunk             int64\n",
      "weight            int64\n",
      "length            int64\n",
      "turn              int64\n",
      "displacement      int64\n",
      "gear_ratio      float64\n",
      "foreign          object\n",
      "dtype: object\n",
      "First 5 observations:              make  price  mpg  rep78  headroom  trunk  weight  length  turn  \\\n",
      "0    AMC Concord   4099   22    3.0       2.5     11    2930     186    40   \n",
      "1      AMC Pacer   4749   17    3.0       3.0     11    3350     173    40   \n",
      "2     AMC Spirit   3799   22    NaN       3.0     12    2640     168    35   \n",
      "3  Buick Century   4816   20    3.0       4.5     16    3250     196    40   \n",
      "4  Buick Electra   7827   15    4.0       4.0     20    4080     222    43   \n",
      "\n",
      "   displacement  gear_ratio   foreign  \n",
      "0           121        3.58  Domestic  \n",
      "1           258        2.53  Domestic  \n",
      "2           121        3.08  Domestic  \n",
      "3           196        2.93  Domestic  \n",
      "4           350        2.41  Domestic  \n",
      "Last 5 observations:             make  price  mpg  rep78  headroom  trunk  weight  length  turn  \\\n",
      "69    VW Dasher   7140   23    4.0       2.5     12    2160     172    36   \n",
      "70    VW Diesel   5397   41    5.0       3.0     15    2040     155    35   \n",
      "71    VW Rabbit   4697   25    4.0       3.0     15    1930     155    35   \n",
      "72  VW Scirocco   6850   25    4.0       2.0     16    1990     156    36   \n",
      "73    Volvo 260  11995   17    5.0       2.5     14    3170     193    37   \n",
      "\n",
      "    displacement  gear_ratio  foreign  \n",
      "69            97        3.74  Foreign  \n",
      "70            90        3.78  Foreign  \n",
      "71            89        3.78  Foreign  \n",
      "72            97        3.78  Foreign  \n",
      "73           163        2.98  Foreign  \n"
     ]
    }
   ],
   "execution_count": 9
  },
  {
   "metadata": {},
   "cell_type": "markdown",
   "source": [
    "## 2. Cross-tab & Grouped Stats\n",
    "These functions can be used for simple crosstabs and grouped statistics."
   ],
   "id": "793e33f3e9df8ae7"
  },
  {
   "metadata": {
    "ExecuteTime": {
     "end_time": "2025-07-04T14:58:25.742383Z",
     "start_time": "2025-07-04T14:58:25.737392Z"
    }
   },
   "cell_type": "code",
   "source": [
    "def cross_tab(df, var1, var2, normalize=False):\n",
    "    return pd.crosstab(df[var1], df[var2], normalize=normalize, margins=True)\n",
    "\n",
    "def group_means(df, group_col, target_col):\n",
    "    return df.groupby(group_col)[target_col].mean().sort_values(ascending=False)\n"
   ],
   "id": "5ed215b1383dbad8",
   "outputs": [],
   "execution_count": 24
  },
  {
   "metadata": {
    "ExecuteTime": {
     "end_time": "2025-07-04T14:58:36.192850Z",
     "start_time": "2025-07-04T14:58:36.172242Z"
    }
   },
   "cell_type": "code",
   "source": "cross_tab(auto, 'rep78', 'foreign', normalize=False)",
   "id": "f28375497e6034c8",
   "outputs": [
    {
     "data": {
      "text/plain": [
       "foreign  Domestic  Foreign  All\n",
       "rep78                          \n",
       "1.0             2        0    2\n",
       "2.0             8        0    8\n",
       "3.0            27        3   30\n",
       "4.0             9        9   18\n",
       "5.0             2        9   11\n",
       "All            48       21   69"
      ],
      "text/html": [
       "<div>\n",
       "<style scoped>\n",
       "    .dataframe tbody tr th:only-of-type {\n",
       "        vertical-align: middle;\n",
       "    }\n",
       "\n",
       "    .dataframe tbody tr th {\n",
       "        vertical-align: top;\n",
       "    }\n",
       "\n",
       "    .dataframe thead th {\n",
       "        text-align: right;\n",
       "    }\n",
       "</style>\n",
       "<table border=\"1\" class=\"dataframe\">\n",
       "  <thead>\n",
       "    <tr style=\"text-align: right;\">\n",
       "      <th>foreign</th>\n",
       "      <th>Domestic</th>\n",
       "      <th>Foreign</th>\n",
       "      <th>All</th>\n",
       "    </tr>\n",
       "    <tr>\n",
       "      <th>rep78</th>\n",
       "      <th></th>\n",
       "      <th></th>\n",
       "      <th></th>\n",
       "    </tr>\n",
       "  </thead>\n",
       "  <tbody>\n",
       "    <tr>\n",
       "      <th>1.0</th>\n",
       "      <td>2</td>\n",
       "      <td>0</td>\n",
       "      <td>2</td>\n",
       "    </tr>\n",
       "    <tr>\n",
       "      <th>2.0</th>\n",
       "      <td>8</td>\n",
       "      <td>0</td>\n",
       "      <td>8</td>\n",
       "    </tr>\n",
       "    <tr>\n",
       "      <th>3.0</th>\n",
       "      <td>27</td>\n",
       "      <td>3</td>\n",
       "      <td>30</td>\n",
       "    </tr>\n",
       "    <tr>\n",
       "      <th>4.0</th>\n",
       "      <td>9</td>\n",
       "      <td>9</td>\n",
       "      <td>18</td>\n",
       "    </tr>\n",
       "    <tr>\n",
       "      <th>5.0</th>\n",
       "      <td>2</td>\n",
       "      <td>9</td>\n",
       "      <td>11</td>\n",
       "    </tr>\n",
       "    <tr>\n",
       "      <th>All</th>\n",
       "      <td>48</td>\n",
       "      <td>21</td>\n",
       "      <td>69</td>\n",
       "    </tr>\n",
       "  </tbody>\n",
       "</table>\n",
       "</div>"
      ]
     },
     "execution_count": 26,
     "metadata": {},
     "output_type": "execute_result"
    }
   ],
   "execution_count": 26
  },
  {
   "metadata": {
    "ExecuteTime": {
     "end_time": "2025-07-04T14:59:38.444591Z",
     "start_time": "2025-07-04T14:59:38.437121Z"
    }
   },
   "cell_type": "code",
   "source": "group_means(auto, 'foreign', 'mpg')",
   "id": "ca72b366f55bdb9e",
   "outputs": [
    {
     "data": {
      "text/plain": [
       "foreign\n",
       "Foreign     24.772727\n",
       "Domestic    19.826923\n",
       "Name: mpg, dtype: float64"
      ]
     },
     "execution_count": 28,
     "metadata": {},
     "output_type": "execute_result"
    }
   ],
   "execution_count": 28
  },
  {
   "metadata": {},
   "cell_type": "markdown",
   "source": "## 3. Statistical Tests",
   "id": "193f2d9fcb8ef029"
  },
  {
   "metadata": {
    "ExecuteTime": {
     "end_time": "2025-07-04T15:01:24.937893Z",
     "start_time": "2025-07-04T15:01:24.930702Z"
    }
   },
   "cell_type": "code",
   "source": [
    "def run_ttest(df, group_col, value_col):\n",
    "    groups = df[group_col].unique()\n",
    "    assert len(groups) == 2, \"T-test requires exactly 2 groups.\"\n",
    "    g1 = df[df[group_col] == groups[0]][value_col]\n",
    "    g2 = df[df[group_col] == groups[1]][value_col]\n",
    "    t, p = stats.ttest_ind(g1, g2)\n",
    "    print(f\"T = {t:.3f}, p = {p:.3f}\")\n",
    "    return t, p\n",
    "\n",
    "def run_chi2(df, col1, col2):\n",
    "    table = pd.crosstab(df[col1], df[col2])\n",
    "    chi2, p, dof, ex = stats.chi2_contingency(table)\n",
    "    print(f\"Chi² = {chi2:.3f}, p = {p:.3f}\")\n",
    "    return chi2, p"
   ],
   "id": "e31a3803275b9e4c",
   "outputs": [],
   "execution_count": 29
  },
  {
   "metadata": {
    "ExecuteTime": {
     "end_time": "2025-07-04T15:02:10.242364Z",
     "start_time": "2025-07-04T15:02:10.230543Z"
    }
   },
   "cell_type": "code",
   "source": "run_ttest(auto, 'foreign', 'mpg')",
   "id": "48fe1f9ee3fd52bb",
   "outputs": [
    {
     "name": "stdout",
     "output_type": "stream",
     "text": [
      "T = -3.631, p = 0.001\n"
     ]
    },
    {
     "data": {
      "text/plain": [
       "(-3.6308484477318377, 0.0005254159338341992)"
      ]
     },
     "execution_count": 32,
     "metadata": {},
     "output_type": "execute_result"
    }
   ],
   "execution_count": 32
  },
  {
   "metadata": {
    "ExecuteTime": {
     "end_time": "2025-07-04T15:03:29.328388Z",
     "start_time": "2025-07-04T15:03:29.313592Z"
    }
   },
   "cell_type": "code",
   "source": "run_chi2(auto, 'foreign', 'rep78')",
   "id": "ffb580e118b7af8c",
   "outputs": [
    {
     "name": "stdout",
     "output_type": "stream",
     "text": [
      "Chi² = 27.264, p = 0.000\n"
     ]
    },
    {
     "data": {
      "text/plain": [
       "(27.263961038961035, 1.7579608426567363e-05)"
      ]
     },
     "execution_count": 33,
     "metadata": {},
     "output_type": "execute_result"
    }
   ],
   "execution_count": 33
  },
  {
   "metadata": {},
   "cell_type": "markdown",
   "source": [
    "## 4. Regression Wrappers\n",
    "Note that for this to work, scipy needs to be version 1.15.3 or less."
   ],
   "id": "a2c5c5e023362433"
  },
  {
   "metadata": {
    "ExecuteTime": {
     "end_time": "2025-07-04T15:06:27.599938Z",
     "start_time": "2025-07-04T15:06:27.595548Z"
    }
   },
   "cell_type": "code",
   "source": [
    "# Linear Regression\n",
    "def run_linear_regression(df, formula):\n",
    "    model = smf.ols(formula, data=df).fit()\n",
    "    display(model.summary())\n",
    "    return model\n",
    "\n",
    "# Logistic Regression\n",
    "def run_logistic_regression(df, formula):\n",
    "    model = smf.logit(formula, data=df).fit()\n",
    "    display(model.summary())\n",
    "\n",
    "    marg_eff = model.get_margeff()\n",
    "    print(\"\\nMarginal Effects:\")\n",
    "    display(marg_eff.summary())\n",
    "\n",
    "    return model, marg_eff\n"
   ],
   "id": "a85a1bd35f36e5cf",
   "outputs": [],
   "execution_count": 34
  },
  {
   "metadata": {},
   "cell_type": "markdown",
   "source": "Making sure that no missing values are present in the dataset before running the regression.",
   "id": "3cd90c81e86ab86a"
  },
  {
   "metadata": {
    "ExecuteTime": {
     "end_time": "2025-07-04T15:07:31.505471Z",
     "start_time": "2025-07-04T15:07:31.497639Z"
    }
   },
   "cell_type": "code",
   "source": [
    "auto_reduced = auto.dropna()\n",
    "auto_reduced.shape"
   ],
   "id": "18ae3a2e3fc5030c",
   "outputs": [
    {
     "data": {
      "text/plain": [
       "(69, 12)"
      ]
     },
     "execution_count": 37,
     "metadata": {},
     "output_type": "execute_result"
    }
   ],
   "execution_count": 37
  },
  {
   "metadata": {
    "ExecuteTime": {
     "end_time": "2025-07-04T15:14:06.420559Z",
     "start_time": "2025-07-04T15:14:06.407191Z"
    }
   },
   "cell_type": "code",
   "source": "auto_reduced",
   "id": "475bb05a53bd2a9e",
   "outputs": [
    {
     "data": {
      "text/plain": [
       "             make  price  mpg  rep78  headroom  trunk  weight  length  turn  \\\n",
       "0     AMC Concord   4099   22    3.0       2.5     11    2930     186    40   \n",
       "1       AMC Pacer   4749   17    3.0       3.0     11    3350     173    40   \n",
       "3   Buick Century   4816   20    3.0       4.5     16    3250     196    40   \n",
       "4   Buick Electra   7827   15    4.0       4.0     20    4080     222    43   \n",
       "5   Buick LeSabre   5788   18    3.0       4.0     21    3670     218    43   \n",
       "..            ...    ...  ...    ...       ...    ...     ...     ...   ...   \n",
       "69      VW Dasher   7140   23    4.0       2.5     12    2160     172    36   \n",
       "70      VW Diesel   5397   41    5.0       3.0     15    2040     155    35   \n",
       "71      VW Rabbit   4697   25    4.0       3.0     15    1930     155    35   \n",
       "72    VW Scirocco   6850   25    4.0       2.0     16    1990     156    36   \n",
       "73      Volvo 260  11995   17    5.0       2.5     14    3170     193    37   \n",
       "\n",
       "    displacement  gear_ratio   foreign  \n",
       "0            121        3.58  Domestic  \n",
       "1            258        2.53  Domestic  \n",
       "3            196        2.93  Domestic  \n",
       "4            350        2.41  Domestic  \n",
       "5            231        2.73  Domestic  \n",
       "..           ...         ...       ...  \n",
       "69            97        3.74   Foreign  \n",
       "70            90        3.78   Foreign  \n",
       "71            89        3.78   Foreign  \n",
       "72            97        3.78   Foreign  \n",
       "73           163        2.98   Foreign  \n",
       "\n",
       "[69 rows x 12 columns]"
      ],
      "text/html": [
       "<div>\n",
       "<style scoped>\n",
       "    .dataframe tbody tr th:only-of-type {\n",
       "        vertical-align: middle;\n",
       "    }\n",
       "\n",
       "    .dataframe tbody tr th {\n",
       "        vertical-align: top;\n",
       "    }\n",
       "\n",
       "    .dataframe thead th {\n",
       "        text-align: right;\n",
       "    }\n",
       "</style>\n",
       "<table border=\"1\" class=\"dataframe\">\n",
       "  <thead>\n",
       "    <tr style=\"text-align: right;\">\n",
       "      <th></th>\n",
       "      <th>make</th>\n",
       "      <th>price</th>\n",
       "      <th>mpg</th>\n",
       "      <th>rep78</th>\n",
       "      <th>headroom</th>\n",
       "      <th>trunk</th>\n",
       "      <th>weight</th>\n",
       "      <th>length</th>\n",
       "      <th>turn</th>\n",
       "      <th>displacement</th>\n",
       "      <th>gear_ratio</th>\n",
       "      <th>foreign</th>\n",
       "    </tr>\n",
       "  </thead>\n",
       "  <tbody>\n",
       "    <tr>\n",
       "      <th>0</th>\n",
       "      <td>AMC Concord</td>\n",
       "      <td>4099</td>\n",
       "      <td>22</td>\n",
       "      <td>3.0</td>\n",
       "      <td>2.5</td>\n",
       "      <td>11</td>\n",
       "      <td>2930</td>\n",
       "      <td>186</td>\n",
       "      <td>40</td>\n",
       "      <td>121</td>\n",
       "      <td>3.58</td>\n",
       "      <td>Domestic</td>\n",
       "    </tr>\n",
       "    <tr>\n",
       "      <th>1</th>\n",
       "      <td>AMC Pacer</td>\n",
       "      <td>4749</td>\n",
       "      <td>17</td>\n",
       "      <td>3.0</td>\n",
       "      <td>3.0</td>\n",
       "      <td>11</td>\n",
       "      <td>3350</td>\n",
       "      <td>173</td>\n",
       "      <td>40</td>\n",
       "      <td>258</td>\n",
       "      <td>2.53</td>\n",
       "      <td>Domestic</td>\n",
       "    </tr>\n",
       "    <tr>\n",
       "      <th>3</th>\n",
       "      <td>Buick Century</td>\n",
       "      <td>4816</td>\n",
       "      <td>20</td>\n",
       "      <td>3.0</td>\n",
       "      <td>4.5</td>\n",
       "      <td>16</td>\n",
       "      <td>3250</td>\n",
       "      <td>196</td>\n",
       "      <td>40</td>\n",
       "      <td>196</td>\n",
       "      <td>2.93</td>\n",
       "      <td>Domestic</td>\n",
       "    </tr>\n",
       "    <tr>\n",
       "      <th>4</th>\n",
       "      <td>Buick Electra</td>\n",
       "      <td>7827</td>\n",
       "      <td>15</td>\n",
       "      <td>4.0</td>\n",
       "      <td>4.0</td>\n",
       "      <td>20</td>\n",
       "      <td>4080</td>\n",
       "      <td>222</td>\n",
       "      <td>43</td>\n",
       "      <td>350</td>\n",
       "      <td>2.41</td>\n",
       "      <td>Domestic</td>\n",
       "    </tr>\n",
       "    <tr>\n",
       "      <th>5</th>\n",
       "      <td>Buick LeSabre</td>\n",
       "      <td>5788</td>\n",
       "      <td>18</td>\n",
       "      <td>3.0</td>\n",
       "      <td>4.0</td>\n",
       "      <td>21</td>\n",
       "      <td>3670</td>\n",
       "      <td>218</td>\n",
       "      <td>43</td>\n",
       "      <td>231</td>\n",
       "      <td>2.73</td>\n",
       "      <td>Domestic</td>\n",
       "    </tr>\n",
       "    <tr>\n",
       "      <th>...</th>\n",
       "      <td>...</td>\n",
       "      <td>...</td>\n",
       "      <td>...</td>\n",
       "      <td>...</td>\n",
       "      <td>...</td>\n",
       "      <td>...</td>\n",
       "      <td>...</td>\n",
       "      <td>...</td>\n",
       "      <td>...</td>\n",
       "      <td>...</td>\n",
       "      <td>...</td>\n",
       "      <td>...</td>\n",
       "    </tr>\n",
       "    <tr>\n",
       "      <th>69</th>\n",
       "      <td>VW Dasher</td>\n",
       "      <td>7140</td>\n",
       "      <td>23</td>\n",
       "      <td>4.0</td>\n",
       "      <td>2.5</td>\n",
       "      <td>12</td>\n",
       "      <td>2160</td>\n",
       "      <td>172</td>\n",
       "      <td>36</td>\n",
       "      <td>97</td>\n",
       "      <td>3.74</td>\n",
       "      <td>Foreign</td>\n",
       "    </tr>\n",
       "    <tr>\n",
       "      <th>70</th>\n",
       "      <td>VW Diesel</td>\n",
       "      <td>5397</td>\n",
       "      <td>41</td>\n",
       "      <td>5.0</td>\n",
       "      <td>3.0</td>\n",
       "      <td>15</td>\n",
       "      <td>2040</td>\n",
       "      <td>155</td>\n",
       "      <td>35</td>\n",
       "      <td>90</td>\n",
       "      <td>3.78</td>\n",
       "      <td>Foreign</td>\n",
       "    </tr>\n",
       "    <tr>\n",
       "      <th>71</th>\n",
       "      <td>VW Rabbit</td>\n",
       "      <td>4697</td>\n",
       "      <td>25</td>\n",
       "      <td>4.0</td>\n",
       "      <td>3.0</td>\n",
       "      <td>15</td>\n",
       "      <td>1930</td>\n",
       "      <td>155</td>\n",
       "      <td>35</td>\n",
       "      <td>89</td>\n",
       "      <td>3.78</td>\n",
       "      <td>Foreign</td>\n",
       "    </tr>\n",
       "    <tr>\n",
       "      <th>72</th>\n",
       "      <td>VW Scirocco</td>\n",
       "      <td>6850</td>\n",
       "      <td>25</td>\n",
       "      <td>4.0</td>\n",
       "      <td>2.0</td>\n",
       "      <td>16</td>\n",
       "      <td>1990</td>\n",
       "      <td>156</td>\n",
       "      <td>36</td>\n",
       "      <td>97</td>\n",
       "      <td>3.78</td>\n",
       "      <td>Foreign</td>\n",
       "    </tr>\n",
       "    <tr>\n",
       "      <th>73</th>\n",
       "      <td>Volvo 260</td>\n",
       "      <td>11995</td>\n",
       "      <td>17</td>\n",
       "      <td>5.0</td>\n",
       "      <td>2.5</td>\n",
       "      <td>14</td>\n",
       "      <td>3170</td>\n",
       "      <td>193</td>\n",
       "      <td>37</td>\n",
       "      <td>163</td>\n",
       "      <td>2.98</td>\n",
       "      <td>Foreign</td>\n",
       "    </tr>\n",
       "  </tbody>\n",
       "</table>\n",
       "<p>69 rows × 12 columns</p>\n",
       "</div>"
      ]
     },
     "execution_count": 41,
     "metadata": {},
     "output_type": "execute_result"
    }
   ],
   "execution_count": 41
  },
  {
   "metadata": {},
   "cell_type": "markdown",
   "source": "We encode foreign as a dummy variable for regression analysis.",
   "id": "b006b46e4d056ff"
  },
  {
   "metadata": {
    "ExecuteTime": {
     "end_time": "2025-07-04T15:20:51.901535Z",
     "start_time": "2025-07-04T15:20:51.892066Z"
    }
   },
   "cell_type": "code",
   "source": [
    "def one_hot_encode(df, column):\n",
    "    dummies = pd.get_dummies(df[column], prefix=column, drop_first=True, dtype=int)\n",
    "    df = pd.concat([df, dummies], axis=1)\n",
    "    return df.drop(column, axis=1)"
   ],
   "id": "31a04b2dfbcee89c",
   "outputs": [],
   "execution_count": 47
  },
  {
   "metadata": {
    "ExecuteTime": {
     "end_time": "2025-07-04T15:20:57.262254Z",
     "start_time": "2025-07-04T15:20:57.256265Z"
    }
   },
   "cell_type": "code",
   "source": "auto_reduced_encoded = one_hot_encode(auto_reduced, 'foreign')",
   "id": "7aace7be3727fec6",
   "outputs": [],
   "execution_count": 48
  },
  {
   "metadata": {
    "ExecuteTime": {
     "end_time": "2025-07-04T15:21:02.032792Z",
     "start_time": "2025-07-04T15:21:02.017002Z"
    }
   },
   "cell_type": "code",
   "source": "run_linear_regression(auto_reduced_encoded, formula='mpg ~ rep78 + foreign_Foreign')",
   "id": "518a55c18dc2ccf6",
   "outputs": [
    {
     "data": {
      "text/plain": [
       "<class 'statsmodels.iolib.summary.Summary'>\n",
       "\"\"\"\n",
       "                            OLS Regression Results                            \n",
       "==============================================================================\n",
       "Dep. Variable:                    mpg   R-squared:                       0.233\n",
       "Model:                            OLS   Adj. R-squared:                  0.210\n",
       "Method:                 Least Squares   F-statistic:                     10.05\n",
       "Date:                Fri, 04 Jul 2025   Prob (F-statistic):           0.000155\n",
       "Time:                        17:21:02   Log-Likelihood:                -210.31\n",
       "No. Observations:                  69   AIC:                             426.6\n",
       "Df Residuals:                      66   BIC:                             433.3\n",
       "Df Model:                           2                                         \n",
       "Covariance Type:            nonrobust                                         \n",
       "===================================================================================\n",
       "                      coef    std err          t      P>|t|      [0.025      0.975]\n",
       "-----------------------------------------------------------------------------------\n",
       "Intercept          15.8590      2.510      6.319      0.000      10.848      20.870\n",
       "rep78               1.2191      0.793      1.538      0.129      -0.363       2.802\n",
       "foreign_Foreign     4.2020      1.693      2.482      0.016       0.822       7.582\n",
       "==============================================================================\n",
       "Omnibus:                        3.936   Durbin-Watson:                   1.894\n",
       "Prob(Omnibus):                  0.140   Jarque-Bera (JB):                3.327\n",
       "Skew:                           0.532   Prob(JB):                        0.190\n",
       "Kurtosis:                       3.161   Cond. No.                         16.3\n",
       "==============================================================================\n",
       "\n",
       "Notes:\n",
       "[1] Standard Errors assume that the covariance matrix of the errors is correctly specified.\n",
       "\"\"\""
      ],
      "text/html": [
       "<table class=\"simpletable\">\n",
       "<caption>OLS Regression Results</caption>\n",
       "<tr>\n",
       "  <th>Dep. Variable:</th>           <td>mpg</td>       <th>  R-squared:         </th> <td>   0.233</td>\n",
       "</tr>\n",
       "<tr>\n",
       "  <th>Model:</th>                   <td>OLS</td>       <th>  Adj. R-squared:    </th> <td>   0.210</td>\n",
       "</tr>\n",
       "<tr>\n",
       "  <th>Method:</th>             <td>Least Squares</td>  <th>  F-statistic:       </th> <td>   10.05</td>\n",
       "</tr>\n",
       "<tr>\n",
       "  <th>Date:</th>             <td>Fri, 04 Jul 2025</td> <th>  Prob (F-statistic):</th> <td>0.000155</td>\n",
       "</tr>\n",
       "<tr>\n",
       "  <th>Time:</th>                 <td>17:21:02</td>     <th>  Log-Likelihood:    </th> <td> -210.31</td>\n",
       "</tr>\n",
       "<tr>\n",
       "  <th>No. Observations:</th>      <td>    69</td>      <th>  AIC:               </th> <td>   426.6</td>\n",
       "</tr>\n",
       "<tr>\n",
       "  <th>Df Residuals:</th>          <td>    66</td>      <th>  BIC:               </th> <td>   433.3</td>\n",
       "</tr>\n",
       "<tr>\n",
       "  <th>Df Model:</th>              <td>     2</td>      <th>                     </th>     <td> </td>   \n",
       "</tr>\n",
       "<tr>\n",
       "  <th>Covariance Type:</th>      <td>nonrobust</td>    <th>                     </th>     <td> </td>   \n",
       "</tr>\n",
       "</table>\n",
       "<table class=\"simpletable\">\n",
       "<tr>\n",
       "         <td></td>            <th>coef</th>     <th>std err</th>      <th>t</th>      <th>P>|t|</th>  <th>[0.025</th>    <th>0.975]</th>  \n",
       "</tr>\n",
       "<tr>\n",
       "  <th>Intercept</th>       <td>   15.8590</td> <td>    2.510</td> <td>    6.319</td> <td> 0.000</td> <td>   10.848</td> <td>   20.870</td>\n",
       "</tr>\n",
       "<tr>\n",
       "  <th>rep78</th>           <td>    1.2191</td> <td>    0.793</td> <td>    1.538</td> <td> 0.129</td> <td>   -0.363</td> <td>    2.802</td>\n",
       "</tr>\n",
       "<tr>\n",
       "  <th>foreign_Foreign</th> <td>    4.2020</td> <td>    1.693</td> <td>    2.482</td> <td> 0.016</td> <td>    0.822</td> <td>    7.582</td>\n",
       "</tr>\n",
       "</table>\n",
       "<table class=\"simpletable\">\n",
       "<tr>\n",
       "  <th>Omnibus:</th>       <td> 3.936</td> <th>  Durbin-Watson:     </th> <td>   1.894</td>\n",
       "</tr>\n",
       "<tr>\n",
       "  <th>Prob(Omnibus):</th> <td> 0.140</td> <th>  Jarque-Bera (JB):  </th> <td>   3.327</td>\n",
       "</tr>\n",
       "<tr>\n",
       "  <th>Skew:</th>          <td> 0.532</td> <th>  Prob(JB):          </th> <td>   0.190</td>\n",
       "</tr>\n",
       "<tr>\n",
       "  <th>Kurtosis:</th>      <td> 3.161</td> <th>  Cond. No.          </th> <td>    16.3</td>\n",
       "</tr>\n",
       "</table><br/><br/>Notes:<br/>[1] Standard Errors assume that the covariance matrix of the errors is correctly specified."
      ],
      "text/latex": "\\begin{center}\n\\begin{tabular}{lclc}\n\\toprule\n\\textbf{Dep. Variable:}    &       mpg        & \\textbf{  R-squared:         } &     0.233   \\\\\n\\textbf{Model:}            &       OLS        & \\textbf{  Adj. R-squared:    } &     0.210   \\\\\n\\textbf{Method:}           &  Least Squares   & \\textbf{  F-statistic:       } &     10.05   \\\\\n\\textbf{Date:}             & Fri, 04 Jul 2025 & \\textbf{  Prob (F-statistic):} &  0.000155   \\\\\n\\textbf{Time:}             &     17:21:02     & \\textbf{  Log-Likelihood:    } &   -210.31   \\\\\n\\textbf{No. Observations:} &          69      & \\textbf{  AIC:               } &     426.6   \\\\\n\\textbf{Df Residuals:}     &          66      & \\textbf{  BIC:               } &     433.3   \\\\\n\\textbf{Df Model:}         &           2      & \\textbf{                     } &             \\\\\n\\textbf{Covariance Type:}  &    nonrobust     & \\textbf{                     } &             \\\\\n\\bottomrule\n\\end{tabular}\n\\begin{tabular}{lcccccc}\n                          & \\textbf{coef} & \\textbf{std err} & \\textbf{t} & \\textbf{P$> |$t$|$} & \\textbf{[0.025} & \\textbf{0.975]}  \\\\\n\\midrule\n\\textbf{Intercept}        &      15.8590  &        2.510     &     6.319  &         0.000        &       10.848    &       20.870     \\\\\n\\textbf{rep78}            &       1.2191  &        0.793     &     1.538  &         0.129        &       -0.363    &        2.802     \\\\\n\\textbf{foreign\\_Foreign} &       4.2020  &        1.693     &     2.482  &         0.016        &        0.822    &        7.582     \\\\\n\\bottomrule\n\\end{tabular}\n\\begin{tabular}{lclc}\n\\textbf{Omnibus:}       &  3.936 & \\textbf{  Durbin-Watson:     } &    1.894  \\\\\n\\textbf{Prob(Omnibus):} &  0.140 & \\textbf{  Jarque-Bera (JB):  } &    3.327  \\\\\n\\textbf{Skew:}          &  0.532 & \\textbf{  Prob(JB):          } &    0.190  \\\\\n\\textbf{Kurtosis:}      &  3.161 & \\textbf{  Cond. No.          } &     16.3  \\\\\n\\bottomrule\n\\end{tabular}\n%\\caption{OLS Regression Results}\n\\end{center}\n\nNotes: \\newline\n [1] Standard Errors assume that the covariance matrix of the errors is correctly specified."
     },
     "metadata": {},
     "output_type": "display_data"
    },
    {
     "data": {
      "text/plain": [
       "<statsmodels.regression.linear_model.RegressionResultsWrapper at 0x18931b894f0>"
      ]
     },
     "execution_count": 49,
     "metadata": {},
     "output_type": "execute_result"
    }
   ],
   "execution_count": 49
  },
  {
   "metadata": {
    "ExecuteTime": {
     "end_time": "2025-07-04T15:21:18.044960Z",
     "start_time": "2025-07-04T15:21:18.017789Z"
    }
   },
   "cell_type": "code",
   "source": "run_logistic_regression(auto_reduced_encoded, formula='foreign_Foreign ~ rep78 + mpg')",
   "id": "5bdd6a5f15a80b15",
   "outputs": [
    {
     "name": "stdout",
     "output_type": "stream",
     "text": [
      "Optimization terminated successfully.\n",
      "         Current function value: 0.374662\n",
      "         Iterations 7\n"
     ]
    },
    {
     "data": {
      "text/plain": [
       "<class 'statsmodels.iolib.summary.Summary'>\n",
       "\"\"\"\n",
       "                           Logit Regression Results                           \n",
       "==============================================================================\n",
       "Dep. Variable:        foreign_Foreign   No. Observations:                   69\n",
       "Model:                          Logit   Df Residuals:                       66\n",
       "Method:                           MLE   Df Model:                            2\n",
       "Date:                Fri, 04 Jul 2025   Pseudo R-squ.:                  0.3903\n",
       "Time:                        17:21:18   Log-Likelihood:                -25.852\n",
       "converged:                       True   LL-Null:                       -42.401\n",
       "Covariance Type:            nonrobust   LLR p-value:                 6.499e-08\n",
       "==============================================================================\n",
       "                 coef    std err          z      P>|z|      [0.025      0.975]\n",
       "------------------------------------------------------------------------------\n",
       "Intercept    -10.0378      2.407     -4.169      0.000     -14.756      -5.319\n",
       "rep78          1.7361      0.493      3.522      0.000       0.770       2.702\n",
       "mpg            0.1329      0.074      1.806      0.071      -0.011       0.277\n",
       "==============================================================================\n",
       "\"\"\""
      ],
      "text/html": [
       "<table class=\"simpletable\">\n",
       "<caption>Logit Regression Results</caption>\n",
       "<tr>\n",
       "  <th>Dep. Variable:</th>    <td>foreign_Foreign</td> <th>  No. Observations:  </th>  <td>    69</td>  \n",
       "</tr>\n",
       "<tr>\n",
       "  <th>Model:</th>                 <td>Logit</td>      <th>  Df Residuals:      </th>  <td>    66</td>  \n",
       "</tr>\n",
       "<tr>\n",
       "  <th>Method:</th>                 <td>MLE</td>       <th>  Df Model:          </th>  <td>     2</td>  \n",
       "</tr>\n",
       "<tr>\n",
       "  <th>Date:</th>            <td>Fri, 04 Jul 2025</td> <th>  Pseudo R-squ.:     </th>  <td>0.3903</td>  \n",
       "</tr>\n",
       "<tr>\n",
       "  <th>Time:</th>                <td>17:21:18</td>     <th>  Log-Likelihood:    </th> <td> -25.852</td> \n",
       "</tr>\n",
       "<tr>\n",
       "  <th>converged:</th>             <td>True</td>       <th>  LL-Null:           </th> <td> -42.401</td> \n",
       "</tr>\n",
       "<tr>\n",
       "  <th>Covariance Type:</th>     <td>nonrobust</td>    <th>  LLR p-value:       </th> <td>6.499e-08</td>\n",
       "</tr>\n",
       "</table>\n",
       "<table class=\"simpletable\">\n",
       "<tr>\n",
       "      <td></td>         <th>coef</th>     <th>std err</th>      <th>z</th>      <th>P>|z|</th>  <th>[0.025</th>    <th>0.975]</th>  \n",
       "</tr>\n",
       "<tr>\n",
       "  <th>Intercept</th> <td>  -10.0378</td> <td>    2.407</td> <td>   -4.169</td> <td> 0.000</td> <td>  -14.756</td> <td>   -5.319</td>\n",
       "</tr>\n",
       "<tr>\n",
       "  <th>rep78</th>     <td>    1.7361</td> <td>    0.493</td> <td>    3.522</td> <td> 0.000</td> <td>    0.770</td> <td>    2.702</td>\n",
       "</tr>\n",
       "<tr>\n",
       "  <th>mpg</th>       <td>    0.1329</td> <td>    0.074</td> <td>    1.806</td> <td> 0.071</td> <td>   -0.011</td> <td>    0.277</td>\n",
       "</tr>\n",
       "</table>"
      ],
      "text/latex": "\\begin{center}\n\\begin{tabular}{lclc}\n\\toprule\n\\textbf{Dep. Variable:}   & foreign\\_Foreign & \\textbf{  No. Observations:  } &       69    \\\\\n\\textbf{Model:}           &      Logit       & \\textbf{  Df Residuals:      } &       66    \\\\\n\\textbf{Method:}          &       MLE        & \\textbf{  Df Model:          } &        2    \\\\\n\\textbf{Date:}            & Fri, 04 Jul 2025 & \\textbf{  Pseudo R-squ.:     } &   0.3903    \\\\\n\\textbf{Time:}            &     17:21:18     & \\textbf{  Log-Likelihood:    } &   -25.852   \\\\\n\\textbf{converged:}       &       True       & \\textbf{  LL-Null:           } &   -42.401   \\\\\n\\textbf{Covariance Type:} &    nonrobust     & \\textbf{  LLR p-value:       } & 6.499e-08   \\\\\n\\bottomrule\n\\end{tabular}\n\\begin{tabular}{lcccccc}\n                   & \\textbf{coef} & \\textbf{std err} & \\textbf{z} & \\textbf{P$> |$z$|$} & \\textbf{[0.025} & \\textbf{0.975]}  \\\\\n\\midrule\n\\textbf{Intercept} &     -10.0378  &        2.407     &    -4.169  &         0.000        &      -14.756    &       -5.319     \\\\\n\\textbf{rep78}     &       1.7361  &        0.493     &     3.522  &         0.000        &        0.770    &        2.702     \\\\\n\\textbf{mpg}       &       0.1329  &        0.074     &     1.806  &         0.071        &       -0.011    &        0.277     \\\\\n\\bottomrule\n\\end{tabular}\n%\\caption{Logit Regression Results}\n\\end{center}"
     },
     "metadata": {},
     "output_type": "display_data"
    },
    {
     "name": "stdout",
     "output_type": "stream",
     "text": [
      "\n",
      "Marginal Effects:\n"
     ]
    },
    {
     "data": {
      "text/plain": [
       "<class 'statsmodels.iolib.summary.Summary'>\n",
       "\"\"\"\n",
       "        Logit Marginal Effects       \n",
       "=====================================\n",
       "Dep. Variable:        foreign_Foreign\n",
       "Method:                          dydx\n",
       "At:                           overall\n",
       "==============================================================================\n",
       "                dy/dx    std err          z      P>|z|      [0.025      0.975]\n",
       "------------------------------------------------------------------------------\n",
       "rep78          0.2045      0.036      5.746      0.000       0.135       0.274\n",
       "mpg            0.0156      0.008      1.956      0.050    -3.3e-05       0.031\n",
       "==============================================================================\n",
       "\"\"\""
      ],
      "text/html": [
       "<table class=\"simpletable\">\n",
       "<caption>Logit Marginal Effects</caption>\n",
       "<tr>\n",
       "  <th>Dep. Variable:</th> <td>foreign_Foreign</td>\n",
       "</tr>\n",
       "<tr>\n",
       "  <th>Method:</th>             <td>dydx</td>      \n",
       "</tr>\n",
       "<tr>\n",
       "  <th>At:</th>                <td>overall</td>    \n",
       "</tr>\n",
       "</table>\n",
       "<table class=\"simpletable\">\n",
       "<tr>\n",
       "    <th></th>       <th>dy/dx</th>    <th>std err</th>      <th>z</th>      <th>P>|z|</th>  <th>[0.025</th>    <th>0.975]</th>  \n",
       "</tr>\n",
       "<tr>\n",
       "  <th>rep78</th> <td>    0.2045</td> <td>    0.036</td> <td>    5.746</td> <td> 0.000</td> <td>    0.135</td> <td>    0.274</td>\n",
       "</tr>\n",
       "<tr>\n",
       "  <th>mpg</th>   <td>    0.0156</td> <td>    0.008</td> <td>    1.956</td> <td> 0.050</td> <td> -3.3e-05</td> <td>    0.031</td>\n",
       "</tr>\n",
       "</table>"
      ],
      "text/latex": "\\begin{center}\n\\begin{tabular}{lc}\n\\toprule\n\\textbf{Dep. Variable:} & foreign\\_Foreign  \\\\\n\\textbf{Method:}        &       dydx        \\\\\n\\textbf{At:}            &     overall       \\\\\n\\bottomrule\n\\end{tabular}\n\\begin{tabular}{ccccccc}\n  \\textbf{}    & \\textbf{dy/dx} & \\textbf{std err} & \\textbf{z} & \\textbf{P$> |$z$|$} & \\textbf{[0.025} & \\textbf{0.975]}  \\\\\n\\midrule\n\\bottomrule\n\\end{tabular}\n\\begin{tabular}{lcccccc}\n\\textbf{rep78} &       0.2045   &        0.036     &     5.746  &         0.000        &        0.135    &        0.274     \\\\\n\\textbf{mpg}   &       0.0156   &        0.008     &     1.956  &         0.050        &     -3.3e-05    &        0.031     \\\\\n\\bottomrule\n\\end{tabular}\n%\\caption{Logit Marginal Effects}\n\\end{center}"
     },
     "metadata": {},
     "output_type": "display_data"
    },
    {
     "data": {
      "text/plain": [
       "(<statsmodels.discrete.discrete_model.BinaryResultsWrapper at 0x18931b96150>,\n",
       " <statsmodels.discrete.discrete_margins.DiscreteMargins at 0x18931b77650>)"
      ]
     },
     "execution_count": 50,
     "metadata": {},
     "output_type": "execute_result"
    }
   ],
   "execution_count": 50
  },
  {
   "metadata": {},
   "cell_type": "markdown",
   "source": "##  5. Correlation Matrix",
   "id": "3885d9efa443e058"
  },
  {
   "metadata": {
    "ExecuteTime": {
     "end_time": "2025-07-04T15:24:21.768228Z",
     "start_time": "2025-07-04T15:24:21.763800Z"
    }
   },
   "cell_type": "code",
   "source": [
    "def plot_correlation_matrix(df, method='pearson'):\n",
    "    # Select only numeric columns\n",
    "    numeric_df = df.select_dtypes(include=['int64', 'float64'])\n",
    "    corr = numeric_df.corr(method=method)\n",
    "\n",
    "    plt.figure(figsize=(10, 8))\n",
    "    sns.heatmap(corr, annot=True, cmap='coolwarm')\n",
    "    plt.title(f\"{method.title()} Correlation Matrix\")\n",
    "    plt.show()\n"
   ],
   "id": "ab22bcd3f9592356",
   "outputs": [],
   "execution_count": 53
  },
  {
   "metadata": {
    "ExecuteTime": {
     "end_time": "2025-07-04T15:24:24.654878Z",
     "start_time": "2025-07-04T15:24:24.453143Z"
    }
   },
   "cell_type": "code",
   "source": "plot_correlation_matrix(auto_reduced_encoded)",
   "id": "e670050c44194b5f",
   "outputs": [
    {
     "data": {
      "text/plain": [
       "<Figure size 1000x800 with 2 Axes>"
      ],
      "image/png": "[encoded data removed]"
     },
     "metadata": {},
     "output_type": "display_data"
    }
   ],
   "execution_count": 54
  },
  {
   "metadata": {},
   "cell_type": "markdown",
   "source": "## 6. Train-Test Split Helper",
   "id": "4ee5b9f6cd545d89"
  },
  {
   "metadata": {
    "ExecuteTime": {
     "end_time": "2025-07-04T15:25:48.266591Z",
     "start_time": "2025-07-04T15:25:48.259903Z"
    }
   },
   "cell_type": "code",
   "source": [
    "def train_test_split_df(df, target, test_size=0.3, random_state=42):\n",
    "    X = df.drop(columns=[target])\n",
    "    y = df[target]\n",
    "    return train_test_split(X, y, test_size=test_size, random_state=random_state)\n"
   ],
   "id": "de18e328b8b8d164",
   "outputs": [],
   "execution_count": 55
  },
  {
   "metadata": {},
   "cell_type": "markdown",
   "source": [
    "## 7. Boxplot Identifying Outliers\n",
    "\n",
    "This function will create a boxplot for a specified column and automatically identify outliers based on the IQR method."
   ],
   "id": "d78259b0867185ae"
  },
  {
   "metadata": {
    "ExecuteTime": {
     "end_time": "2025-07-04T15:30:00.991681Z",
     "start_time": "2025-07-04T15:30:00.985662Z"
    }
   },
   "cell_type": "code",
   "source": [
    "def plot_outliers(df, column):\n",
    "    # Calculate IQR and bounds\n",
    "    Q1 = df[column].quantile(0.25)\n",
    "    Q3 = df[column].quantile(0.75)\n",
    "    IQR = Q3 - Q1\n",
    "    lower_bound = Q1 - 1.5 * IQR\n",
    "    upper_bound = Q3 + 1.5 * IQR\n",
    "\n",
    "    # Identify outliers\n",
    "    outliers = df[(df[column] < lower_bound) | (df[column] > upper_bound)][column]\n",
    "\n",
    "    # Create vertical boxplot\n",
    "    plt.figure(figsize=(6, 10))\n",
    "    sns.boxplot(y=df[column])\n",
    "    plt.title(f'Boxplot of {column} with Outliers')\n",
    "\n",
    "    # Print outlier information\n",
    "    print(f\"\\nOutliers ({len(outliers)} found):\")\n",
    "    print(f\"Lower bound: {lower_bound:.2f}\")\n",
    "    print(f\"Upper bound: {upper_bound:.2f}\")\n",
    "    if len(outliers) > 0:\n",
    "        print(\"\\nOutlier values:\")\n",
    "        print(outliers.sort_values())\n",
    "\n",
    "    plt.show()\n",
    "    return outliers"
   ],
   "id": "49659293e0489c12",
   "outputs": [],
   "execution_count": 58
  },
  {
   "metadata": {
    "ExecuteTime": {
     "end_time": "2025-07-04T15:30:02.154066Z",
     "start_time": "2025-07-04T15:30:02.091642Z"
    }
   },
   "cell_type": "code",
   "source": "plot_outliers(auto_reduced_encoded, 'mpg')",
   "id": "2f6be509e89ec81d",
   "outputs": [
    {
     "name": "stdout",
     "output_type": "stream",
     "text": [
      "\n",
      "Outliers (4 found):\n",
      "Lower bound: 9.00\n",
      "Upper bound: 33.00\n",
      "\n",
      "Outlier values:\n",
      "42    34\n",
      "56    35\n",
      "65    35\n",
      "70    41\n",
      "Name: mpg, dtype: int64\n"
     ]
    },
    {
     "data": {
      "text/plain": [
       "<Figure size 600x1000 with 1 Axes>"
      ],
      "image/png": "[encoded data removed]"
     },
     "metadata": {},
     "output_type": "display_data"
    },
    {
     "data": {
      "text/plain": [
       "42    34\n",
       "56    35\n",
       "65    35\n",
       "70    41\n",
       "Name: mpg, dtype: int64"
      ]
     },
     "execution_count": 59,
     "metadata": {},
     "output_type": "execute_result"
    }
   ],
   "execution_count": 59
  },
  {
   "metadata": {},
   "cell_type": "markdown",
   "source": [
    "## Histogram with KDE and Normal Distribution Overlay\n",
    "This function will create a histogram with a Kernel Density Estimate (KDE) overlay and a normal distribution curve (both optional)."
   ],
   "id": "f34033c788080ddd"
  },
  {
   "metadata": {
    "ExecuteTime": {
     "end_time": "2025-07-04T15:31:21.550383Z",
     "start_time": "2025-07-04T15:31:21.544478Z"
    }
   },
   "cell_type": "code",
   "source": [
    "def plot_distribution(df, column, kde=True, normal=True, bins=30):\n",
    "    # Setup the plot\n",
    "    plt.figure(figsize=(10, 6))\n",
    "\n",
    "    # Plot histogram with KDE\n",
    "    sns.histplot(data=df, x=column, stat='density', bins=bins, kde=kde)\n",
    "\n",
    "    # Add normal distribution curve if requested\n",
    "    if normal:\n",
    "        # Calculate normal distribution parameters\n",
    "        mean = df[column].mean()\n",
    "        std = df[column].std()\n",
    "        xmin, xmax = plt.gca().get_xlim()\n",
    "        x = np.linspace(xmin, xmax, 100)\n",
    "        p = stats.norm.pdf(x, mean, std)\n",
    "        plt.plot(x, p, 'r--', linewidth=2, label='Normal Distribution')\n",
    "        plt.legend()\n",
    "\n",
    "    plt.title(f'Distribution of {column}')\n",
    "    plt.xlabel(column)\n",
    "    plt.ylabel('Density')\n",
    "    plt.show()"
   ],
   "id": "8f293bd7507d21c4",
   "outputs": [],
   "execution_count": 60
  },
  {
   "metadata": {
    "ExecuteTime": {
     "end_time": "2025-07-04T15:31:45.128907Z",
     "start_time": "2025-07-04T15:31:45.021631Z"
    }
   },
   "cell_type": "code",
   "source": "plot_distribution(auto_reduced_encoded, 'mpg')",
   "id": "61a4cf13d510ef48",
   "outputs": [
    {
     "data": {
      "text/plain": [
       "<Figure size 1000x600 with 1 Axes>"
      ],
      "image/png": "[encoded data removed]"
     },
     "metadata": {},
     "output_type": "display_data"
    }
   ],
   "execution_count": 61
  },
  {
   "metadata": {},
   "cell_type": "code",
   "outputs": [],
   "execution_count": null,
   "source": "",
   "id": "508f83582a529f9f"
  }
 ],
 "metadata": {
  "kernelspec": {
   "display_name": "Python 3",
   "language": "python",
   "name": "python3"
  },
  "language_info": {
   "codemirror_mode": {
    "name": "ipython",
    "version": 2
   },
   "file_extension": ".py",
   "mimetype": "text/x-python",
   "name": "python",
   "nbconvert_exporter": "python",
   "pygments_lexer": "ipython2",
   "version": "2.7.6"
  }
 },
 "nbformat": 4,
 "nbformat_minor": 5
}
