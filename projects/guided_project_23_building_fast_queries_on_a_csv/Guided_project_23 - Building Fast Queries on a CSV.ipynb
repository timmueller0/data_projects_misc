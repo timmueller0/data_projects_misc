{
 "cells": [
  {
   "cell_type": "markdown",
   "metadata": {},
   "source": [
    "# Building Fast Queries on a CSV\n",
    "\n",
    "For this project, we will assume that we own an online laptop store and want to build a way to answer a few different business questions about our inventory.\n",
    "\n",
    "We will use the 'laptops.csv' file as our inventory. This CSV file was adapted from the [Laptop Prices dataset on Kaggle](https://www.kaggle.com/datasets/muhammetvarl/laptop-price). \n",
    "\n",
    "Let's load the data first."
   ]
  },
  {
   "cell_type": "code",
   "execution_count": 1,
   "metadata": {},
   "outputs": [
    {
     "name": "stdout",
     "output_type": "stream",
     "text": [
      "['Id', 'Company', 'Product', 'TypeName', 'Inches', 'ScreenResolution', 'Cpu', 'Ram', 'Memory', 'Gpu', 'OpSys', 'Weight', 'Price']\n",
      "['6571244', 'Apple', 'MacBook Pro', 'Ultrabook', '13.3', 'IPS Panel Retina Display 2560x1600', 'Intel Core i5 2.3GHz', '8GB', '128GB SSD', 'Intel Iris Plus Graphics 640', 'macOS', '1.37kg', '1339']\n",
      "['7287764', 'Apple', 'Macbook Air', 'Ultrabook', '13.3', '1440x900', 'Intel Core i5 1.8GHz', '8GB', '128GB Flash Storage', 'Intel HD Graphics 6000', 'macOS', '1.34kg', '898']\n",
      "['3362737', 'HP', '250 G6', 'Notebook', '15.6', 'Full HD 1920x1080', 'Intel Core i5 7200U 2.5GHz', '8GB', '256GB SSD', 'Intel HD Graphics 620', 'No OS', '1.86kg', '575']\n",
      "['9722156', 'Apple', 'MacBook Pro', 'Ultrabook', '15.4', 'IPS Panel Retina Display 2880x1800', 'Intel Core i7 2.7GHz', '16GB', '512GB SSD', 'AMD Radeon Pro 455', 'macOS', '1.83kg', '2537']\n",
      "['8550527', 'Apple', 'MacBook Pro', 'Ultrabook', '13.3', 'IPS Panel Retina Display 2560x1600', 'Intel Core i5 3.1GHz', '8GB', '256GB SSD', 'Intel Iris Plus Graphics 650', 'macOS', '1.37kg', '1803']\n"
     ]
    }
   ],
   "source": [
    "import csv\n",
    "import numpy as np\n",
    "import pandas as pd\n",
    "\n",
    "with open('laptops.csv') as file:\n",
    "    reader = csv.reader(file)\n",
    "    rows = list(reader)\n",
    "    header = rows[0]\n",
    "    rows = rows[1:]\n",
    "\n",
    "print(header)\n",
    "\n",
    "for i in range(5):\n",
    "    print(rows[i])"
   ]
  },
  {
   "cell_type": "markdown",
   "metadata": {},
   "source": [
    "## Inventory Class\n",
    "\n",
    "We would like to create a class that represents our inventory. The methods in that class will implement the queries that we want to answer about our inventory. We will also preprocess that data to make those queries run faster.\n",
    "\n",
    "Here are some queries that we will want to answer:\n",
    "\n",
    "- Given a laptop id, find the corresponding data.\n",
    "- Given an amount of money, find whether there are two laptops whose total price is that given amount.\n",
    "- Identify all laptops whose price falls within a given budget.\n",
    "\n",
    "Let's start by implementing the constructor. It will take the name of the CSV file as argument and then read the rows contained in it."
   ]
  },
  {
   "cell_type": "code",
   "execution_count": 2,
   "metadata": {},
   "outputs": [],
   "source": [
    "class Inventory():\n",
    "    def __init__(self, csv_filename):\n",
    "        with open(csv_filename) as file:\n",
    "            reader = csv.reader(file)  # read the file\n",
    "            rows = list(reader)  # convert the file to a list\n",
    "        self.header = rows[0]  # first row is the header\n",
    "        self.rows = rows[1:]  # the rest of the rows are the data\n",
    "        for row in self.rows:\n",
    "            row[-1] = int(row[-1])  # Convert the price to an integer (last row)"
   ]
  },
  {
   "cell_type": "markdown",
   "metadata": {},
   "source": [
    "Let's print the header and the number of rows."
   ]
  },
  {
   "cell_type": "code",
   "execution_count": 3,
   "metadata": {},
   "outputs": [
    {
     "name": "stdout",
     "output_type": "stream",
     "text": [
      "['Id', 'Company', 'Product', 'TypeName', 'Inches', 'ScreenResolution', 'Cpu', 'Ram', 'Memory', 'Gpu', 'OpSys', 'Weight', 'Price']\n",
      "1303\n"
     ]
    }
   ],
   "source": [
    "inventory = Inventory('laptops.csv')\n",
    "print(inventory.header)\n",
    "print(len(inventory.rows))"
   ]
  },
  {
   "cell_type": "markdown",
   "metadata": {},
   "source": [
    "## Finding a Laptop From the Id\n",
    "\n",
    "We will now update the `Inventory` class bit by bit and make a couple of improvements.\n",
    "\n",
    "The first thing that we will implement is a way to look up a laptop from a given identifier. In this way, when a customer comes to our store with a purchase slip, we can quickly identify the laptop to which it corresponds.\n",
    "\n",
    "For this, we will write a function named `get_laptop_from_id()`. This function will take as argument the identifier of the laptop and return the full row of the laptop with that id."
   ]
  },
  {
   "cell_type": "code",
   "execution_count": 4,
   "metadata": {},
   "outputs": [],
   "source": [
    "class Inventory():\n",
    "    \n",
    "    def __init__(self, csv_filename):\n",
    "        with open(csv_filename) as file:\n",
    "            reader = csv.reader(file)  # read the file\n",
    "            rows = list(reader)  # convert the file to a list\n",
    "        self.header = rows[0]  # first row is the header\n",
    "        self.rows = rows[1:]  # the rest of the rows are the data\n",
    "        for row in self.rows:\n",
    "            row[-1] = int(row[-1])  # Convert the price to an integer (last row)\n",
    "        \n",
    "    def get_laptop_from_id(self, laptop_id):\n",
    "        for row in self.rows:\n",
    "            if row[0] == laptop_id:  # if there's a matching laptop_id, return the row\n",
    "                return row\n",
    "        return None  # Default behaviour: return nothing"
   ]
  },
  {
   "cell_type": "markdown",
   "metadata": {},
   "source": [
    "Let's test this addition."
   ]
  },
  {
   "cell_type": "code",
   "execution_count": 5,
   "metadata": {},
   "outputs": [
    {
     "data": {
      "text/plain": [
       "['3362737',\n",
       " 'HP',\n",
       " '250 G6',\n",
       " 'Notebook',\n",
       " '15.6',\n",
       " 'Full HD 1920x1080',\n",
       " 'Intel Core i5 7200U 2.5GHz',\n",
       " '8GB',\n",
       " '256GB SSD',\n",
       " 'Intel HD Graphics 620',\n",
       " 'No OS',\n",
       " '1.86kg',\n",
       " 575]"
      ]
     },
     "execution_count": 5,
     "metadata": {},
     "output_type": "execute_result"
    }
   ],
   "source": [
    "Inventory('laptops.csv').get_laptop_from_id('3362737')"
   ]
  },
  {
   "cell_type": "code",
   "execution_count": 6,
   "metadata": {},
   "outputs": [],
   "source": [
    "Inventory('laptops.csv').get_laptop_from_id('3362736')  # does not find a match"
   ]
  },
  {
   "cell_type": "markdown",
   "metadata": {},
   "source": [
    "Nice, our lookup works as it should!"
   ]
  },
  {
   "cell_type": "markdown",
   "metadata": {},
   "source": [
    "## Improving Id Lookups\n",
    "\n",
    "The current lookup algorithm requires us to look at every single row to find the one that we are looking for (or decide that such a row does not exist). This algorithm has time complexity O(R) where R is the number of rows.\n",
    "\n",
    "But as we have learned, we can solve this problem more efficiently by preprocessing the data. If we would use a set, we can check in constant time whether a given identifier exists. But we also want to retrieve the remaining row information, and a dictionary seems more suited to that. Dictionaries have the same fast lookup properties that sets have, but allow us to associate values to the keys.\n",
    "\n",
    "Let us preprocess the data so that IDs become the keys and the rows become the dictionary values."
   ]
  },
  {
   "cell_type": "code",
   "execution_count": 7,
   "metadata": {},
   "outputs": [],
   "source": [
    "class Inventory():\n",
    "\n",
    "    def __init__(self, csv_filename):\n",
    "        with open(csv_filename) as file:\n",
    "            reader = csv.reader(file)  # read the file\n",
    "            rows = list(reader)  # convert the file to a list\n",
    "        self.header = rows[0]  # first row is the header\n",
    "        self.rows = rows[1:]  # the rest of the rows are the data\n",
    "        for row in self.rows:\n",
    "            row[-1] = int(row[-1])  # Convert the price to an integer (last row)\n",
    "        self.id_to_row = {}  # assign an empty dictionary\n",
    "        for row in self.rows:\n",
    "            self.id_to_row[row[0]] = row  # assign the laptop_id as the key and the row as the value\n",
    "\n",
    "    def get_laptop_from_id(self, laptop_id):\n",
    "        for row in self.rows:\n",
    "            if row[0] == laptop_id:  # if there's a matching laptop_id, return the row\n",
    "                return row\n",
    "        return None  # Default behaviour: return nothing\n",
    "\n",
    "    def get_laptop_from_id_fast(self, laptop_id):\n",
    "        if laptop_id in self.id_to_row:\n",
    "            return self.id_to_row[laptop_id]  # if the laptop_id is in the dictionary, return the row\n",
    "        return None  # Default behaviour: return nothing"
   ]
  },
  {
   "cell_type": "markdown",
   "metadata": {},
   "source": [
    "Let's test this improved lookup on the same values as before."
   ]
  },
  {
   "cell_type": "code",
   "execution_count": 8,
   "metadata": {},
   "outputs": [
    {
     "data": {
      "text/plain": [
       "['3362737',\n",
       " 'HP',\n",
       " '250 G6',\n",
       " 'Notebook',\n",
       " '15.6',\n",
       " 'Full HD 1920x1080',\n",
       " 'Intel Core i5 7200U 2.5GHz',\n",
       " '8GB',\n",
       " '256GB SSD',\n",
       " 'Intel HD Graphics 620',\n",
       " 'No OS',\n",
       " '1.86kg',\n",
       " 575]"
      ]
     },
     "execution_count": 8,
     "metadata": {},
     "output_type": "execute_result"
    }
   ],
   "source": [
    "Inventory('laptops.csv').get_laptop_from_id_fast('3362737')"
   ]
  },
  {
   "cell_type": "code",
   "execution_count": 9,
   "metadata": {},
   "outputs": [],
   "source": [
    "Inventory('laptops.csv').get_laptop_from_id_fast('3362736') # does not find a match"
   ]
  },
  {
   "cell_type": "markdown",
   "metadata": {},
   "source": [
    "## Comparing the Performance\n",
    "\n",
    "The 'get_laptop_from_id()' method has time complexity *O(R)* where *R* is the number of rows. In contrast, the new implementation is time complexity *O(1)*.\n",
    "\n",
    "Let's experiment to compare the performance of the two methods. The idea is to generate random IDs using the random module. Then, use both methods to lookup these same IDs. We will use the time module to measure the execution time of each lookup and, for each method, add all times together."
   ]
  },
  {
   "cell_type": "code",
   "execution_count": 10,
   "metadata": {},
   "outputs": [
    {
     "name": "stdout",
     "output_type": "stream",
     "text": [
      "1.0860135555267334\n",
      "0.0045986175537109375\n",
      "True\n"
     ]
    }
   ],
   "source": [
    "import time\n",
    "import random\n",
    "\n",
    "ids = [str(random.randint(1000000, 9999999)) for _ in range(10000)]\n",
    "\n",
    "inventory = Inventory('laptops.csv')\n",
    "total_time_no_dict = 0\n",
    "\n",
    "for id in ids:\n",
    "   start = time.time()\n",
    "   inventory.get_laptop_from_id(id)\n",
    "   end = time.time()\n",
    "   total_time_no_dict += end - start\n",
    "    \n",
    "total_time_dict = 0\n",
    "\n",
    "for id in ids:\n",
    "   start = time.time()\n",
    "   inventory.get_laptop_from_id_fast(id)\n",
    "   end = time.time()\n",
    "   total_time_dict += end - start\n",
    "    \n",
    "print(total_time_no_dict)\n",
    "print(total_time_dict)\n",
    "print(total_time_dict < total_time_no_dict)"
   ]
  },
  {
   "cell_type": "markdown",
   "metadata": {},
   "source": [
    "As we can see here, the lookup method using the dictionary is by far faster than the method looping through the list."
   ]
  },
  {
   "cell_type": "markdown",
   "metadata": {},
   "source": [
    "## Two Laptop Promotion\n",
    "\n",
    "Sometimes, the store offers a promotion where you give a gift card. A customer can use the gift to buy up to two laptops. To avoid having to keep track of what was already spent, the gift card has a single time usage. This means that, even if there is leftover money, it cannot be used anymore.\n",
    "\n",
    "Assume the prices of three laptops are \\\\$1,339, \\\\$898, and \\\\$575. Say we offered a gift card of \\\\$2,500. Since a customer can buy, at most, two laptops with a gift card, the maximum they can spend is  \\\\$2,237 (\\\\$1,339 plus \\\\$898). Therefore, they might feel cheated because, no matter how they spend their gift card, they cannot spend the full \\\\$2,500.\n",
    "\n",
    "We don't want to make a customer feel cheated, so whenever you issue a gift card, you want to make sure that there is at least one way to spend it in full. In other words, before issuing a gift card for D dollars, you want to make sure that either there is a laptop that costs exactly D dollars or two laptops whose costs add up to precisely D dollars.\n",
    "\n",
    "We will therefore now write a function that, given a dollar amount, checks whether it is possible to spend precisely that amount by purchasing up to two laptops."
   ]
  },
  {
   "cell_type": "code",
   "execution_count": 11,
   "metadata": {},
   "outputs": [
    {
     "name": "stdout",
     "output_type": "stream",
     "text": [
      "True\n",
      "False\n"
     ]
    }
   ],
   "source": [
    "class Inventory():\n",
    "\n",
    "    def __init__(self, csv_filename):\n",
    "        with open(csv_filename) as file:\n",
    "            reader = csv.reader(file)  # read the file\n",
    "            rows = list(reader)  # convert the file to a list\n",
    "        self.header = rows[0]  # first row is the header\n",
    "        self.rows = rows[1:]  # the rest of the rows are the data\n",
    "        for row in self.rows:\n",
    "            row[-1] = int(row[-1])  # Convert the price to an integer (last row)\n",
    "        self.id_to_row = {}  # assign an empty dictionary\n",
    "        for row in self.rows:\n",
    "            self.id_to_row[row[0]] = row  # assign the laptop_id as the key and the row as the value\n",
    "\n",
    "    def get_laptop_from_id(self, laptop_id):\n",
    "        for row in self.rows:\n",
    "            if row[0] == laptop_id:  # if there's a matching laptop_id, return the row\n",
    "                return row\n",
    "        return None  # Default behaviour: return nothing\n",
    "\n",
    "    def get_laptop_from_id_fast(self, laptop_id):\n",
    "        if laptop_id in self.id_to_row:\n",
    "            return self.id_to_row[laptop_id]  # if the laptop_id is in the dictionary, return the row\n",
    "        return None  # Default behaviour: return nothing\n",
    "\n",
    "    def check_promotion_dollars(self, dollars):\n",
    "        for row in self.rows:\n",
    "            if row[-1] == dollars:\n",
    "                return True\n",
    "        \n",
    "        for row1 in self.rows:\n",
    "            for row2 in self.rows:\n",
    "                if row1[-1] + row2[-1] == dollars:\n",
    "                    return True\n",
    "        return False\n",
    " \n",
    "inventory = Inventory('laptops.csv')\n",
    "print(inventory.check_promotion_dollars(1000))\n",
    "print(inventory.check_promotion_dollars(442))"
   ]
  },
  {
   "cell_type": "markdown",
   "metadata": {},
   "source": [
    "While we can find one or two laptops costing \\\\$1000, there is no laptop costing \\\\$442 dollars."
   ]
  },
  {
   "cell_type": "markdown",
   "metadata": {},
   "source": [
    "## Optimizing Laptop Promotion\n",
    "\n",
    "As before, we can optimize our check for the eligibility of the promotion by preprocessing the data.\n",
    "\n",
    "Since we only care about whether or not there is a solution, we can store all laptops prices in a set when we initialize the inventory. Then we can check in constant time whether there is a laptop with a given price."
   ]
  },
  {
   "cell_type": "code",
   "execution_count": 12,
   "metadata": {},
   "outputs": [
    {
     "name": "stdout",
     "output_type": "stream",
     "text": [
      "True\n",
      "False\n"
     ]
    }
   ],
   "source": [
    "class Inventory():\n",
    "\n",
    "    def __init__(self, csv_filename):\n",
    "        with open(csv_filename) as file:\n",
    "            reader = csv.reader(file)  # read the file\n",
    "            rows = list(reader)  # convert the file to a list\n",
    "        self.header = rows[0]  # first row is the header\n",
    "        self.rows = rows[1:]  # the rest of the rows are the data\n",
    "        for row in self.rows:\n",
    "            row[-1] = int(row[-1])  # Convert the price to an integer (last row)\n",
    "        self.id_to_row = {}  # assign an empty dictionary\n",
    "        for row in self.rows:\n",
    "            self.id_to_row[row[0]] = row  # assign the laptop_id as the key and the row as the value\n",
    "        self.prices = set()  # assign an empty set\n",
    "        for row in self.rows:\n",
    "            self.prices.add(row[-1])  # add the price to the set\n",
    "\n",
    "    def get_laptop_from_id(self, laptop_id):\n",
    "        for row in self.rows:\n",
    "            if row[0] == laptop_id:  # if there's a matching laptop_id, return the row\n",
    "                return row\n",
    "        return None  # Default behaviour: return nothing\n",
    "\n",
    "    def get_laptop_from_id_fast(self, laptop_id):\n",
    "        if laptop_id in self.id_to_row:\n",
    "            return self.id_to_row[laptop_id]  # if the laptop_id is in the dictionary, return the row\n",
    "        return None  # Default behaviour: return nothing\n",
    "\n",
    "    def check_promotion_dollars(self, dollars):\n",
    "        for row in self.rows:\n",
    "            if row[-1] == dollars:  # is there at least on laptop with the same price?\n",
    "                return True\n",
    "\n",
    "        for row1 in self.rows:\n",
    "            for row2 in self.rows:\n",
    "                if row1[-1] + row2[-1] == dollars:  # is there a pair of laptops that add up to the price?\n",
    "                    return True\n",
    "        return False\n",
    "\n",
    "    def check_promotion_dollars_fast(self, dollars):\n",
    "        if dollars in self.prices:  # is there at least on laptop with the same price?\n",
    "            return True\n",
    "\n",
    "        for price in self.prices:\n",
    "            if dollars - price in self.prices:  # is there a pair of laptops that add up to the price?\n",
    "                return True\n",
    "        return False\n",
    "    \n",
    "inventory = Inventory('laptops.csv')\n",
    "print(inventory.check_promotion_dollars(1000))\n",
    "print(inventory.check_promotion_dollars(442))"
   ]
  },
  {
   "cell_type": "markdown",
   "metadata": {},
   "source": [
    "We see, this works. Just how fast?"
   ]
  },
  {
   "cell_type": "markdown",
   "metadata": {},
   "source": [
    "##  Comparing Promotion Functions\n",
    "\n",
    "Let's compare the performance of the last two functions that we wrote."
   ]
  },
  {
   "cell_type": "code",
   "execution_count": 13,
   "metadata": {},
   "outputs": [
    {
     "name": "stdout",
     "output_type": "stream",
     "text": [
      "1.15433931350708\n",
      "0\n",
      "True\n"
     ]
    }
   ],
   "source": [
    "prices = [random.randint(100, 5000) for _ in range(100)]\n",
    "\n",
    "inventory = Inventory('laptops.csv')\n",
    "total_time_no_set = 0\n",
    "\n",
    "for price in prices:\n",
    "   start = time.time()\n",
    "   inventory.check_promotion_dollars(price)\n",
    "   end = time.time()\n",
    "   total_time_no_set += end - start\n",
    "    \n",
    "total_time_set = 0\n",
    "\n",
    "for price in prices:\n",
    "   start = time.time()\n",
    "   inventory.check_promotion_dollars_fast(price)\n",
    "   end = time.time()\n",
    "   total_time_dict += end - start\n",
    "    \n",
    "print(total_time_no_set)\n",
    "print(total_time_set)\n",
    "print(total_time_set < total_time_no_set)"
   ]
  },
  {
   "cell_type": "markdown",
   "metadata": {},
   "source": [
    "We find again that preprocessing the data, in this case generating a set, makes the check a lot faster."
   ]
  },
  {
   "cell_type": "markdown",
   "metadata": {},
   "source": [
    "## Finding Laptops Within a Budget\n",
    "\n",
    "We have learned previously how to use binary search to find an element in a sorted list quickly. We are going to leverage and extend that algorithm to help a customer find all laptops that fall within their budget.\n",
    "\n",
    "More formally, we want to write a method that efficiently answers the query: Given a budget of D dollars, find all laptops whose price it at most D.\n",
    "\n",
    "If we sort all laptops by price, we can use binary search to identify the first laptop in the sorted list with a price larger than D. We need to make sure that our binary search finds the first one on the list. Then, the result of the query will consist of all laptops whose index in the sorted list is smaller than the index of the first laptop whose price is higher than D dollars."
   ]
  },
  {
   "cell_type": "code",
   "execution_count": 14,
   "metadata": {},
   "outputs": [
    {
     "name": "stdout",
     "output_type": "stream",
     "text": [
      "683\n",
      "-1\n"
     ]
    }
   ],
   "source": [
    "class Inventory():\n",
    "\n",
    "    def __init__(self, csv_filename):\n",
    "        with open(csv_filename) as file:\n",
    "            reader = csv.reader(file)  # read the file\n",
    "            rows = list(reader)  # convert the file to a list\n",
    "        self.header = rows[0]  # first row is the header\n",
    "        self.rows = rows[1:]  # the rest of the rows are the data\n",
    "        for row in self.rows:\n",
    "            row[-1] = int(row[-1])  # Convert the price to an integer (last row)\n",
    "        self.id_to_row = {}  # assign an empty dictionary\n",
    "        for row in self.rows:\n",
    "            self.id_to_row[row[0]] = row  # assign the laptop_id as the key and the row as the value\n",
    "        self.prices = set()  # assign an empty set\n",
    "        for row in self.rows:\n",
    "            self.prices.add(row[-1])  # add the price to the set\n",
    "        self.rows_by_price = sorted(self.rows, key=lambda row: row[-1])  # sort the rows by price\n",
    "\n",
    "    def get_laptop_from_id(self, laptop_id):\n",
    "        for row in self.rows:\n",
    "            if row[0] == laptop_id:  # if there's a matching laptop_id, return the row\n",
    "                return row\n",
    "        return None  # Default behaviour: return nothing\n",
    "\n",
    "    def get_laptop_from_id_fast(self, laptop_id):\n",
    "        if laptop_id in self.id_to_row:\n",
    "            return self.id_to_row[laptop_id]  # if the laptop_id is in the dictionary, return the row\n",
    "        return None  # Default behaviour: return nothing\n",
    "\n",
    "    def check_promotion_dollars(self, dollars):\n",
    "        for row in self.rows:\n",
    "            if row[-1] == dollars:  # is there at least one laptop with the same price?\n",
    "                return True\n",
    "\n",
    "        for row1 in self.rows:\n",
    "            for row2 in self.rows:\n",
    "                if row1[-1] + row2[-1] == dollars:  # is there a pair of laptops that add up to the price?\n",
    "                    return True\n",
    "        return False\n",
    "\n",
    "    def check_promotion_dollars_fast(self, dollars):\n",
    "        if dollars in self.prices:  # is there at least one laptop with the same price?\n",
    "            return True\n",
    "\n",
    "        for price in self.prices:\n",
    "            if dollars - price in self.prices:  # is there a pair of laptops that add up to the price?\n",
    "                return True\n",
    "        return False\n",
    "\n",
    "    def find_first_laptop_more_expensive(self, price):\n",
    "        range_start = 0  # define the start of the range\n",
    "        range_end = len(self.rows_by_price) - 1  # define the end of the range\n",
    "\n",
    "        while range_start < range_end:  # within the range\n",
    "            range_middle = (range_start + range_end) // 2  # find the middle of the range\n",
    "            value = self.rows_by_price[range_middle][-1]  # find the price of the middle laptop\n",
    "\n",
    "            if value > price:  # if the price is greater than the target price, move the end of the range to the middle\n",
    "                range_end = range_middle\n",
    "            else:\n",
    "                range_start = range_middle + 1  # otherwise, move the start of the range to the middle + 1\n",
    "\n",
    "        if self.rows_by_price[range_start][-1] <= price:\n",
    "            return -1  # if there is no solution, return -1\n",
    "        return range_start\n",
    "\n",
    "inventory = Inventory('laptops.csv')\n",
    "print(inventory.find_first_laptop_more_expensive(1000))  # returns the index 683\n",
    "print(inventory.find_first_laptop_more_expensive(10000))  # returns -1"
   ]
  },
  {
   "cell_type": "markdown",
   "metadata": {},
   "source": [
    "We find that the next laptop more expensive than 1000 dollars is located at index 683. Also, we do not find a laptop that costs more than 10000 dollars."
   ]
  }
 ],
 "metadata": {
  "kernelspec": {
   "display_name": "Python 3",
   "language": "python",
   "name": "python3"
  },
  "language_info": {
   "codemirror_mode": {
    "name": "ipython",
    "version": 3
   },
   "file_extension": ".py",
   "mimetype": "text/x-python",
   "name": "python",
   "nbconvert_exporter": "python",
   "pygments_lexer": "ipython3",
   "version": "3.8.2"
  }
 },
 "nbformat": 4,
 "nbformat_minor": 2
}
