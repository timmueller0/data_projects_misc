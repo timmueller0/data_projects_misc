{
 "cells": [
  {
   "cell_type": "markdown",
   "metadata": {
    "collapsed": true
   },
   "source": [
    "# Implementing a Key-Value Database\n",
    "\n",
    "In this project, we'll use the B-tree data structure from before as a building block for a fully functioning key-value store.\n",
    "\n",
    "A key-value store is a database that operates similar to a Python dictionary. Our key-value store will work like a Python dictionary, but it will also allow users to perform range queries. Our goal will be to create an easy-to-use, flexible, and adaptable key value store that other developers could use in their projects.\n",
    "\n",
    "We will use the `BTree` class developed previously and continuously extend its functionality."
   ]
  },
  {
   "cell_type": "code",
   "execution_count": 38,
   "metadata": {},
   "outputs": [
    {
     "name": "stdout",
     "output_type": "stream",
     "text": [
      "Using matplotlib backend: agg\n"
     ]
    }
   ],
   "source": [
    "from btree import BTree\n",
    "import time\n",
    "import csv\n",
    "import matplotlib.pyplot as plt\n",
    "%matplotlib"
   ]
  },
  {
   "cell_type": "code",
   "execution_count": 17,
   "metadata": {},
   "outputs": [],
   "source": [
    "# Creating the KVStore (Key-Value-Storage) class\n",
    "\n",
    "class KVStore(BTree):\n",
    "\n",
    "    def __init__(self):\n",
    "        super().__init__(split_threshold=2)"
   ]
  },
  {
   "cell_type": "markdown",
   "metadata": {},
   "source": [
    "## Overriding the Add Method\n",
    "\n",
    "The `add()` method from the `BTree` class allows a user to add multiple entries with the same key. We don't want to have this behavior in the `KVStore`.\n",
    "\n",
    "However, since the `KVStore` extends the `BTree` class, the `add()` method from the `BTree` is automatically available in the `KVStore`.\n",
    "\n",
    "To fix this, we can declare a new method with the same name, `add`, inside the `KVStore`. This method will override the one from the `BTree`. The new method will now be the one that will be called."
   ]
  },
  {
   "cell_type": "code",
   "execution_count": 18,
   "metadata": {},
   "outputs": [],
   "source": [
    "# Overriding the add(method)\n",
    "\n",
    "class KVStore(BTree):\n",
    "\n",
    "    def __init__(self):\n",
    "        super().__init__(split_threshold=2)\n",
    "\n",
    "    def add(self, key, value):\n",
    "        node = self._find_node(self.root, key)\n",
    "        if node is None:\n",
    "            super().add(key, value)\n",
    "        else:\n",
    "            for i, node_key in enumerate(node.keys):\n",
    "                if node_key == key:\n",
    "                    node.values[i] = value"
   ]
  },
  {
   "cell_type": "markdown",
   "metadata": {},
   "source": [
    "## Testing\n",
    "\n",
    "It's a good idea to test the implementation as we go. Let's ensure that we can add values to the `KVStore` and that if we use repeated keys, the values get replaced.\n",
    "\n",
    "A common way to test code is to use [unit tests](https://docs.python.org/3/library/unittest.html). We aren't going to use unit tests because they weren't really made to execute inside a notebook.\n",
    "\n",
    "An alternative is to write some code and add [assertions](https://docs.pytest.org/en/stable/how-to/assert.html) that ensure that the state of the object is what it should be. An assertion is a Boolean expression that should be true. If it isn't, it will result in an exception, and we'll know something is wrong with our code.\n",
    "\n",
    "We also added a message. This message will print if the assertion isn't verified. "
   ]
  },
  {
   "cell_type": "code",
   "execution_count": 19,
   "metadata": {},
   "outputs": [],
   "source": [
    "# Testing the split_threshold of KVStore (should be 2)\n",
    "\n",
    "kv = KVStore()\n",
    "assert kv.split_threshold == 2, \"The split is not equal to 2.\""
   ]
  },
  {
   "cell_type": "markdown",
   "metadata": {},
   "source": [
    "Nothing gets printed, so this test is passed. \n",
    "Let's test whether if we add a certain value using `KVStore.add()` and retrieve it using `KVStore.get_value()`, we get the same value that was added."
   ]
  },
  {
   "cell_type": "code",
   "execution_count": 20,
   "metadata": {},
   "outputs": [],
   "source": [
    "# Testing KVStore.add() and KVStore.get_value()\n",
    "\n",
    "kv.add(1, \"a\")\n",
    "kv.add(2, \"b\")\n",
    "kv.add(3, \"c\")\n",
    "\n",
    "assert kv.get_value(1) == \"a\", \"The value for key 1 should be 'a'.\"\n",
    "assert kv.get_value(2) == \"b\", \"The value for key 2 should be 'b'.\"\n",
    "assert kv.get_value(3) == \"c\", \"The value for key 3 should be 'c'.\"\n",
    "assert kv.get_value(4) == None, \"The value for key 4 should be None.\""
   ]
  },
  {
   "cell_type": "markdown",
   "metadata": {},
   "source": [
    "Again, the test is passed. \n",
    "Let's see if it correctly updates in case we add two entries with the same key but different values."
   ]
  },
  {
   "cell_type": "code",
   "execution_count": 21,
   "metadata": {},
   "outputs": [],
   "source": [
    "# Testing whether value is updated when adding an entry with the same key\n",
    "\n",
    "kv.add(1, \"aha\")\n",
    "assert kv.get_value(1) == \"aha\", \"The value for key 1 should be 'aha'.\"\n",
    "kv.add(2, \"so so\")\n",
    "assert kv.get_value(2) == \"so so\", \"The value for key 2 should be 'so so'.\""
   ]
  },
  {
   "cell_type": "markdown",
   "metadata": {},
   "source": [
    "This also seems to work."
   ]
  },
  {
   "cell_type": "markdown",
   "metadata": {},
   "source": [
    "##  Implementing the Item Getter and Setter\n",
    "\n",
    "By now, we know that we can use the key-value store to add entries and retrieve values.\n",
    "\n",
    "Let's make the `KVStore` easier to use by allowing users to use the bracket syntax to add entries and retrieve values.\n",
    "\n",
    "For this, we need to implement the `__getitem__()` method and the `__setitem__()` method. The `__getitem__()` method should call the `get_value()` method, and the `__setitem__()` should call the `add()` method."
   ]
  },
  {
   "cell_type": "code",
   "execution_count": 22,
   "metadata": {},
   "outputs": [],
   "source": [
    "# Implementing the __getitem__() and __setitem__() methods\n",
    "\n",
    "class KVStore(BTree):\n",
    "\n",
    "    def __init__(self):\n",
    "        super().__init__(split_threshold=2)\n",
    "\n",
    "    def add(self, key, value):\n",
    "        node = self._find_node(self.root, key)\n",
    "        if node is None:\n",
    "            super().add(key, value)\n",
    "        else:\n",
    "            for i, node_key in enumerate(node.keys):\n",
    "                if node_key == key:\n",
    "                    node.values[i] = value\n",
    "\n",
    "    def __getitem__(self, key):\n",
    "        return self.get_value(key)\n",
    "    \n",
    "    def __setitem__(self, key, value):\n",
    "        self.add(key, value)        "
   ]
  },
  {
   "cell_type": "code",
   "execution_count": 23,
   "metadata": {},
   "outputs": [
    {
     "name": "stdout",
     "output_type": "stream",
     "text": [
      "10\n"
     ]
    }
   ],
   "source": [
    "kv = KVStore()\n",
    "kv[2] = 10\n",
    "print(kv[2])"
   ]
  },
  {
   "cell_type": "markdown",
   "metadata": {},
   "source": [
    "## Testing Getter and Setter\n",
    "\n",
    "Let's run the same tests we did before but using the bracket syntax."
   ]
  },
  {
   "cell_type": "code",
   "execution_count": 24,
   "metadata": {},
   "outputs": [],
   "source": [
    "kv = KVStore()\n",
    "kv[1] = \"a\"\n",
    "kv[2] = \"b\"\n",
    "kv[3] = \"c\"\n",
    "\n",
    "assert kv[1] == \"a\", \"The value for key 1 should be 'a'.\"\n",
    "assert kv[2] == \"b\", \"The value for key 2 should be 'b'.\"\n",
    "assert kv[3] == \"c\", \"The value for key 3 should be 'c'.\"\n",
    "assert kv[4] == None, \"The value for key 4 should be None.\""
   ]
  },
  {
   "cell_type": "markdown",
   "metadata": {},
   "source": [
    "The tests are passed, using the bracketed syntax. Let's also try whether the values for identical keys are pdated correctly."
   ]
  },
  {
   "cell_type": "code",
   "execution_count": 25,
   "metadata": {},
   "outputs": [],
   "source": [
    "# Testing whether value is updated when adding an entry with the same key\n",
    "\n",
    "kv[1] = \"aha\"\n",
    "assert kv[1] == \"aha\", \"The value for key 1 should be 'aha'.\"\n",
    "kv[2] = \"so so\"\n",
    "assert kv[2] == \"so so\", \"The value for key 2 should be 'so so'.\""
   ]
  },
  {
   "cell_type": "markdown",
   "metadata": {},
   "source": [
    "Yep, it works."
   ]
  },
  {
   "cell_type": "markdown",
   "metadata": {},
   "source": [
    "## Enhancing the Contains Method\n",
    "\n",
    "Another nice feature of the dictionary is the ability to use the `in` operator to check whether a given key is stored.\n",
    "\n",
    "To enable this operator on a custom class, we need to implement the `__contains__()` method that checks whether a given key is contained in the data structure.\n",
    "\n",
    "We already have a method called `contains()` inherited from the `BTree` class with that functionality. We can enable the in operator by implementing a method named `__contains__()` that calls the existing `contains()` method."
   ]
  },
  {
   "cell_type": "code",
   "execution_count": 28,
   "metadata": {},
   "outputs": [],
   "source": [
    "# Implementing the __contains__() method\n",
    "\n",
    "class KVStore(BTree):\n",
    "\n",
    "    def __init__(self):\n",
    "        super().__init__(split_threshold=2)\n",
    "\n",
    "    def add(self, key, value):\n",
    "        node = self._find_node(self.root, key)\n",
    "        if node is None:\n",
    "            super().add(key, value)\n",
    "        else:\n",
    "            for i, node_key in enumerate(node.keys):\n",
    "                if node_key == key:\n",
    "                    node.values[i] = value\n",
    "\n",
    "    def __getitem__(self, key):\n",
    "        return self.get_value(key)\n",
    "    \n",
    "    def __setitem__(self, key, value):\n",
    "        self.add(key, value)\n",
    "        \n",
    "    def __contains__(self, key):\n",
    "        return self.contains(key)"
   ]
  },
  {
   "cell_type": "markdown",
   "metadata": {},
   "source": [
    "## Testing the In Operator\n",
    "\n",
    "Let's see if this works as intended."
   ]
  },
  {
   "cell_type": "code",
   "execution_count": 29,
   "metadata": {},
   "outputs": [
    {
     "name": "stdout",
     "output_type": "stream",
     "text": [
      "True\n",
      "False\n"
     ]
    }
   ],
   "source": [
    "kv = KVStore()\n",
    "kv['a'] = 1\n",
    "kv['b'] = 2\n",
    "kv['c'] = 3\n",
    "\n",
    "print('a' in kv)\n",
    "print('d' in kv)"
   ]
  },
  {
   "cell_type": "markdown",
   "metadata": {},
   "source": [
    "It does."
   ]
  },
  {
   "cell_type": "markdown",
   "metadata": {},
   "source": [
    "## Range Queries\n",
    "\n",
    "So far, we've implemented the same functionality as a dictionary. Now it is time to make it more powerful by implementing range queries.\n",
    "\n",
    "However, our previous implementation assumes that the keys are numeric by representing the node interval with two numbers. Initially, the interval it set was `float('-inf')` to `float('inf')`. This means that if we use strings as keys, we'll get an error because we can't compare a float to a string.\n",
    "\n",
    "To make the implementation more general, we need to change the representation of infinity. \n",
    "\n",
    "Here, we choose to set the range between `\"\"` (empty string) and `ffff` (very high value unicode character that is unassigned) in case the range query is for two strings. If to numeric values are given, we still use `float('-inf')` and `float('inf')`as initial query range."
   ]
  },
  {
   "cell_type": "code",
   "execution_count": 30,
   "metadata": {},
   "outputs": [],
   "source": [
    "# Allowing strings in range queries\n",
    "\n",
    "class KVStore(BTree):\n",
    "\n",
    "    def __init__(self):\n",
    "        super().__init__(split_threshold=2)\n",
    "\n",
    "    def add(self, key, value):\n",
    "        node = self._find_node(self.root, key)\n",
    "        if node is None:\n",
    "            super().add(key, value)\n",
    "        else:\n",
    "            for i, node_key in enumerate(node.keys):\n",
    "                if node_key == key:\n",
    "                    node.values[i] = value\n",
    "\n",
    "    def __getitem__(self, key):\n",
    "        return self.get_value(key)\n",
    "\n",
    "    def __setitem__(self, key, value):\n",
    "        self.add(key, value)\n",
    "\n",
    "    def __contains__(self, key):\n",
    "        return self.contains(key)\n",
    "\n",
    "    def _range_query(self, range_start, range_end, current_node, min_key, max_key):\n",
    "        if range_start > max_key or range_end < min_key:\n",
    "            return []\n",
    "        results = []\n",
    "        for i, key in enumerate(current_node.keys):\n",
    "            if range_start <= key and key <= range_end:\n",
    "                results.append(current_node.values[i])\n",
    "        if not current_node.is_leaf():\n",
    "            for i, child in enumerate(current_node.children):\n",
    "                new_min_key = current_node.keys[i - 1] if i > 0 else min_key\n",
    "                new_max_key = current_node.keys[i] if i < len(current_node) else max_key\n",
    "                results += self._range_query(range_start, range_end, child, new_min_key, new_max_key)\n",
    "        return results\n",
    "\n",
    "    def range_query(self, range_start, range_end):\n",
    "        if isinstance(range_start, str) and isinstance(range_end, str):\n",
    "            return self._range_query(range_start, range_end, self.root, \"\", \"\\uffff\")\n",
    "        elif isinstance(range_start, (int, float)) and isinstance(range_end, (int, float)):\n",
    "            return self._range_query(range_start, range_end, self.root, float('-inf'), float('inf'))\n",
    "        else:\n",
    "            raise TypeError(\"range_start and range_end must be both strings or both numerics\")"
   ]
  },
  {
   "cell_type": "markdown",
   "metadata": {},
   "source": [
    "## Random Tests\n",
    "\n",
    "It seems we finished implementing a fully functional key-value store. We should write some tests to ensure that our implementation is working as expected. One way to test data structures is to compare them with a simpler implementation that we know is correct. We perform the same operations on both and see if both provide the same results. We will use an implementation that uses a dictionary as the base data structure, `DictKVStore`, as our baseline. For this, we will insert random number sequences in bot implemenations and check whether they return the same range query results."
   ]
  },
  {
   "cell_type": "code",
   "execution_count": 32,
   "metadata": {},
   "outputs": [],
   "source": [
    "# Setting up the DictKVStore as baseline\n",
    "\n",
    "class DictKVStore(dict):\n",
    "    \n",
    "    def range_query(self, range_start, range_end):\n",
    "        result = []\n",
    "        for key in self.keys():\n",
    "            if range_start <= key and key <= range_end:\n",
    "                result.append(self[key])\n",
    "        return result"
   ]
  },
  {
   "cell_type": "code",
   "execution_count": 33,
   "metadata": {},
   "outputs": [],
   "source": [
    "# Testing KVStore against DictKVStore\n",
    "\n",
    "dict_kv = DictKVStore()\n",
    "our_kv = KVStore()\n",
    "for i in range(10):\n",
    "    dict_kv[i] = i\n",
    "    our_kv[i] = i\n",
    "\n",
    "for range_start, range_end in [(1, 3), (4, 6), (1, 10), (5, 5)]:\n",
    "    dict_res = sorted(dict_kv.range_query(range_start, range_end))\n",
    "    our_res = sorted(our_kv.range_query(range_start, range_end))\n",
    "    assert dict_res == our_res, \"Both data structures return the same range query result.\""
   ]
  },
  {
   "cell_type": "markdown",
   "metadata": {},
   "source": [
    "No errors are being reported. Let's now try to insert the `random`module to generate larger sets of key-value pairs."
   ]
  },
  {
   "cell_type": "code",
   "execution_count": 35,
   "metadata": {},
   "outputs": [
    {
     "name": "stdout",
     "output_type": "stream",
     "text": [
      "Testing Insertion\n",
      "Testing Length\n",
      "Testing Values\n",
      "Testing in Operator\n",
      "Testing Range Queries\n"
     ]
    }
   ],
   "source": [
    "# Random tests\n",
    "\n",
    "import random\n",
    "random.seed(0)\n",
    "\n",
    "NUM_INSERTS = 10\n",
    "NUM_CONTAINS = 10\n",
    "NUM_RANGE_QUERIES = 10\n",
    "\n",
    "dict_kv = DictKVStore()\n",
    "\n",
    "kv = KVStore()\n",
    "\n",
    "print(\"Testing Insertion\")\n",
    "for _ in range(NUM_INSERTS):\n",
    "    key = random.randint(0, 100)\n",
    "    value = random.randint(0, 1000000)\n",
    "    dict_kv[key] = value\n",
    "    kv[key] = value\n",
    "    \n",
    "print(\"Testing Length\")\n",
    "assert len(dict_kv) == len(kv), \"Wrong length. Length should be {} but is {}.\".format(len(dict_kv), len(kv))\n",
    "    \n",
    "\n",
    "print(\"Testing Values\")\n",
    "for key in dict_kv:\n",
    "    assert dict_kv[key] == kv[key], \"Wrong value for key {}. Expected value {} but found value {}.\".format(key, dict_kv[key], kv[key])\n",
    "\n",
    "    \n",
    "print(\"Testing in Operator\")\n",
    "for i in range(NUM_CONTAINS):\n",
    "    key = random.randint(0, 1000)\n",
    "    assert (key in dict_kv) == (key in kv), \"Contains method did not return the correct value for key {}.\".format(key)\n",
    "\n",
    "\n",
    "print(\"Testing Range Queries\")\n",
    "for _ in range(NUM_RANGE_QUERIES):\n",
    "    range_start = random.randint(0, 100)\n",
    "    range_end = random.randint(range_start, 100)\n",
    "    dict_results = dict_kv.range_query(range_start, range_end)\n",
    "    kv_results = kv.range_query(range_start, range_end)\n",
    "    assert len(dict_results) == len(kv_results), \"Wrong number of reuslt in range query [{}, {}]. Should be {} but was {}.\".format(range_start, range_end, len(dict_result), len(kv_result))\n",
    "    dict_results.sort()\n",
    "    kv_results.sort()\n",
    "    assert dict_results == kv_results, \"Wrong number of reuslt in range query [{}, {}]. Should be {} but was {}.\".format(range_start, range_end, len(dict_result), len(kv_result))"
   ]
  },
  {
   "cell_type": "markdown",
   "metadata": {},
   "source": [
    "Each of these tests work fine with no errors being reported. It seems to be alright!"
   ]
  },
  {
   "cell_type": "markdown",
   "metadata": {},
   "source": [
    "## Performance Testing\n",
    "\n",
    "We now also should get some insight into whether our `KVStore` implementation performs better than the simpler dictionary implementation.\n",
    "\n",
    "We will:\n",
    "\n",
    "1. Generate many entries (about 50,000 should be enough).\n",
    "2. Generate many query intervals. It's better to generate in a way that increases the number of query results from 1 to some given value. This way, we can see the impact of the number of results in the performance gained.\n",
    "3. For each query, compute the ratio between the runtime using the dictionary-based implementation and the B-tree-based implementation. A ratio of 1 means that both took the same time, a ratio of 2 means that the B-tree implementation was two times faster, and so on.\n",
    "4. Plot the runtime ratios to better visualize the results.\n",
    "\n",
    "For the test, we will use the files `entries.csv` and `queries.csv`. The `entries.csv` file contains a list of 50,000 entries, and the `queries.csv` file contains a list of 1,000 queries with results ranges from 1 to 1,000. "
   ]
  },
  {
   "cell_type": "code",
   "execution_count": 40,
   "metadata": {},
   "outputs": [
    {
     "data": {
      "image/png": "[encoded data removed]",
      "text/plain": [
       "<Figure size 600x400 with 1 Axes>"
      ]
     },
     "metadata": {},
     "output_type": "display_data"
    }
   ],
   "source": [
    "%matplotlib inline\n",
    "\n",
    "dict_kv = DictKVStore()\n",
    "our_kv = KVStore()\n",
    "\n",
    "# Load the entries\n",
    "with open('entries.csv', 'r') as f:\n",
    "    rows = list(csv.reader(f))[1:]\n",
    "    for row in rows:\n",
    "        key = int(row[0])\n",
    "        value = int(row[1])\n",
    "        dict_kv[key] = value\n",
    "        our_kv[key] = value\n",
    "\n",
    "# Measure query times\n",
    "time_ratios = []\n",
    "with open('queries.csv', 'r') as f:\n",
    "    rows = list(csv.reader(f))[1:]\n",
    "    for row in rows:\n",
    "        range_start = int(row[0])\n",
    "        range_end = int(row[1])\n",
    "        \n",
    "        start = time.time()\n",
    "        dict_kv.range_query(range_start, range_end)\n",
    "        end = time.time()\n",
    "        time_dict = end - start\n",
    "\n",
    "        start = time.time()\n",
    "        our_kv.range_query(range_start, range_end)\n",
    "        end = time.time()\n",
    "        time_kv = end - start\n",
    "\n",
    "        time_ratios.append(time_dict / time_kv)\n",
    "\n",
    "# Plot results\n",
    "\n",
    "plt.plot(time_ratios)\n",
    "plt.xlabel('Query range result size')\n",
    "plt.ylabel('Runtime ratio')\n",
    "plt.show()"
   ]
  },
  {
   "cell_type": "markdown",
   "metadata": {},
   "source": [
    "We see that the performance boost with 50,000 entries is up to 50 times faster in our implementation than with the dictionary implementation. However, the performance advantage decreases the larger the query ranges become."
   ]
  }
 ],
 "metadata": {
  "kernelspec": {
   "display_name": "Python 3",
   "language": "python",
   "name": "python3"
  },
  "language_info": {
   "codemirror_mode": {
    "name": "ipython",
    "version": 3
   },
   "file_extension": ".py",
   "mimetype": "text/x-python",
   "name": "python",
   "nbconvert_exporter": "python",
   "pygments_lexer": "ipython3",
   "version": "3.8.2"
  }
 },
 "nbformat": 4,
 "nbformat_minor": 1
}
