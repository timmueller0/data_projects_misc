{
 "cells": [
  {
   "cell_type": "markdown",
   "metadata": {
    "collapsed": true
   },
   "source": [
    "# Evaluating Numerical Expressions\n",
    "\n",
    "In this project, we will use stacks to implement an algorithm that can evaluate numerical expressions.\n",
    "\n",
    "However, calculating the result of a complex numerical expression isn't something that a computer processor can do right out of the box. Behind the scenes, Python uses an algorithm to evaluate this expression.\n",
    "\n",
    "The goal of this project is to use the stack data structure that we've worked with before to implement an algorithm that can evaluate complex numerical expressions.\n",
    "\n",
    "By the end of this project, we'll know how to implement a function named `evaluate()` that can evaluate expressions stored in string.\n",
    "\n",
    "We start by loading the previously written `LinkedList` implementation and also adding the implementation for the `Stack`class."
   ]
  },
  {
   "cell_type": "code",
   "execution_count": 1,
   "metadata": {},
   "outputs": [],
   "source": [
    "from linked_list import LinkedList"
   ]
  },
  {
   "cell_type": "code",
   "execution_count": 2,
   "metadata": {},
   "outputs": [],
   "source": [
    "class Stack(LinkedList):\n",
    "\n",
    "    def push(self, data):\n",
    "        self.append(data)\n",
    "\n",
    "    def peek(self):\n",
    "        return self.tail.data\n",
    "\n",
    "    def pop(self):\n",
    "        ret = self.tail.data\n",
    "        if self.length == 1:\n",
    "            self.head = self.tail = None\n",
    "        else:\n",
    "            self.tail = self.tail.prev\n",
    "            self.tail.next = None\n",
    "        self.length -= 1\n",
    "        return ret"
   ]
  },
  {
   "cell_type": "markdown",
   "metadata": {},
   "source": [
    "## Infix and Postfix Notation\n",
    "\n",
    "When we write an expression, we use **infix notation**, meaning that we put the operators between the two operands. For example `1 + 2` is in infix notation because the `+` operator is between the operands `1` and `2`.\n",
    "\n",
    "For a computer, it's much easier to evaluate an expression written in **postfix notation**. In postfix notation, the operands appear before the operator. The infix expression `1 + 2` becomes `1 2 +` in postfix notation.\n",
    "\n",
    "We can evaluate an expression in postfix notation using a stack. We read the expression from left to right and do the following:\n",
    "\n",
    "1. If we find a number, we push that number to the top of the stack.\n",
    "2. If we find an operator, we pop the top two elements of the stack, perform the operation, and then push back the result.\n",
    "\n",
    "After processing the entire expression, there will be a single element on the stack. This value is the result of the operation.\n",
    "\n",
    "Let's implement a function `evaluate_postfix()` that evaluates an expression in postfix notation. To simplify the function, we will assume that, in the expression string we want to evaluate, there are spaces between all elements of the expression. Based on this assumption, we can transform the postfix expression string into a list of elements using the `str.split()` method.\n",
    "\n",
    "In the context of evaluating expressions, we call these elements **tokens**, and the term for transforming the expression into a list of tokens is **tokenize**.\n",
    "\n",
    "Let's write a function that tokenizes a postfix expression using the `str.split()` method."
   ]
  },
  {
   "cell_type": "code",
   "execution_count": 3,
   "metadata": {},
   "outputs": [],
   "source": [
    "def tokenize(exp):\n",
    "    return exp.split()"
   ]
  },
  {
   "cell_type": "code",
   "execution_count": 4,
   "metadata": {},
   "outputs": [
    {
     "name": "stdout",
     "output_type": "stream",
     "text": [
      "['12', '2', '4', '+', '/', '21', '*']\n"
     ]
    }
   ],
   "source": [
    "print(tokenize(\"12 2 4 + / 21 *\"))"
   ]
  },
  {
   "cell_type": "markdown",
   "metadata": {},
   "source": [
    "## Processing an Operator\n",
    "\n",
    "We learned that we can evaluate an expression in postfix notation using a stack. The idea is that we read the expression from left to right and do the following:\n",
    "\n",
    "1. If we find a number, then we push that number to the top of the stack.\n",
    "2. If we find an operator, we pop the top two elements of the stack, perform the operation, and then push back the result.\n",
    "\n",
    "There is one important detail we need to consider in the second step. When we find an operator, we pop the top two values on the top of the stack. When we apply the operator to those two elements, we need to make sure we operate those two numbers in the correct order. Let's write this functions for each operator `-`, `+`, `*`, `/`, `**`."
   ]
  },
  {
   "cell_type": "code",
   "execution_count": 5,
   "metadata": {},
   "outputs": [],
   "source": [
    "# process minus\n",
    "def process_minus(stack):\n",
    "    top = stack.pop()\n",
    "    second_to_top = stack.pop()\n",
    "    result = second_to_top - top\n",
    "    stack.push(result)"
   ]
  },
  {
   "cell_type": "code",
   "execution_count": 6,
   "metadata": {},
   "outputs": [],
   "source": [
    "# process plus\n",
    "def process_plus(stack):\n",
    "    top = stack.pop()\n",
    "    second_to_top = stack.pop()\n",
    "    result = second_to_top + top\n",
    "    stack.push(result)"
   ]
  },
  {
   "cell_type": "code",
   "execution_count": 7,
   "metadata": {},
   "outputs": [],
   "source": [
    "# process times\n",
    "def process_times(stack):\n",
    "    top = stack.pop()\n",
    "    second_to_top = stack.pop()\n",
    "    result = second_to_top * top\n",
    "    stack.push(result)"
   ]
  },
  {
   "cell_type": "code",
   "execution_count": 8,
   "metadata": {},
   "outputs": [],
   "source": [
    "# process divide\n",
    "def process_divide(stack):\n",
    "    top = stack.pop()\n",
    "    second_to_top = stack.pop()\n",
    "    result = second_to_top / top\n",
    "    stack.push(result)"
   ]
  },
  {
   "cell_type": "code",
   "execution_count": 9,
   "metadata": {},
   "outputs": [],
   "source": [
    "# process power\n",
    "def process_pow(stack):\n",
    "    top = stack.pop()\n",
    "    second_to_top = stack.pop()\n",
    "    result = second_to_top ** top\n",
    "    stack.push(result)"
   ]
  },
  {
   "cell_type": "markdown",
   "metadata": {},
   "source": [
    "## Evaluating Postfix Expressions\n",
    "\n",
    "At this point, we have functions to do the following:\n",
    "\n",
    "- Transform the expression into a list of tokens\n",
    "- Process each of the five operators `+`, `-`, `*`, `/`, and `**`\n",
    "\n",
    "We can now implement an algorithm to evaluate an expression in postfix notation. To do so, we need to do the following:\n",
    "\n",
    "1. Tokenize the expression using the `tokenize()` function\n",
    "2. Initialize an empty stack\n",
    "3. For each token, do the following:\n",
    "    1. If the token is an operator, call the corresponding function to process it. For example, if we find a `+` , we call the `process_plus()` function.\n",
    "    2. Otherwise (the token is a number) we push that number to the top of the stack. Since each token is a string, we'll need to convert it to a `float` first.\n",
    "4. Return the value that is left in the stack."
   ]
  },
  {
   "cell_type": "code",
   "execution_count": 10,
   "metadata": {},
   "outputs": [],
   "source": [
    "# evaluate_postfix function\n",
    "def evaluate_postfix(exp):\n",
    "    elements = tokenize(exp)\n",
    "    stack = Stack()\n",
    "    for elem in elements:\n",
    "        if elem == '-':\n",
    "            process_minus(stack)\n",
    "        elif elem == '+':\n",
    "            process_plus(stack)\n",
    "        elif elem == '*':\n",
    "            process_times(stack)\n",
    "        elif elem == '/':\n",
    "            process_divide(stack)\n",
    "        elif elem == '**':\n",
    "            process_pow(stack)\n",
    "        else:\n",
    "            stack.push(float(elem))\n",
    "    return stack.pop()"
   ]
  },
  {
   "cell_type": "code",
   "execution_count": 11,
   "metadata": {},
   "outputs": [
    {
     "name": "stdout",
     "output_type": "stream",
     "text": [
      "-2.0\n",
      "8.0\n",
      "0.0\n",
      "2.0\n",
      "11.25\n",
      "45.0\n",
      "42.0\n",
      "4.0\n",
      "2.0\n"
     ]
    }
   ],
   "source": [
    "# testing the function\n",
    "expressions = [\n",
    "    \"4 6 -\",\n",
    "    \"4 1 2 9 3 / * + 5 - *\",\n",
    "    \"1 2 + 3 -\",\n",
    "    \"1 2 - 3 +\",\n",
    "    \"10 3 5 * 16 4 - / +\",\n",
    "    \"5 3 4 2 - ** *\",\n",
    "    \"12 2 4 + / 21 *\",\n",
    "    \"1 1 + 2 **\",\n",
    "    \"1 1 2 ** +\"\n",
    "]\n",
    "\n",
    "for exp in expressions:\n",
    "    print(evaluate_postfix(exp))"
   ]
  },
  {
   "cell_type": "markdown",
   "metadata": {},
   "source": [
    "That seems to work alright!"
   ]
  },
  {
   "cell_type": "markdown",
   "metadata": {},
   "source": [
    "## Operator Precedence in Infix Notation\n",
    "\n",
    "Great! We can now evaluate postfix expressions! But to make this project useful, we need to enable our algorithm to evaluate expressions in infix notation. After all, it would be very annoying to have to write expressions in postfix notation to use our algorithm. Like before, to simplify tokenizing the expression, we'll assume that the infix expression string contains spaces between any two tokens (even the parentheses). \n",
    "\n",
    "To convert an expression from infix to postfix, we'll implement the [Shunting-yard algorithm](https://en.wikipedia.org/wiki/Shunting_yard_algorithm). The data structure to implement this algorithm is (again) a stack.\n",
    "\n",
    "In the Shunting-yard algorithm, we'll need to compare the precedence of the operators (i.e. which operator has to be executed first). We will use numbers to represent the operator precedence. The higher the precedence, the higher the number. For this, we will create a dictionary."
   ]
  },
  {
   "cell_type": "code",
   "execution_count": 12,
   "metadata": {},
   "outputs": [],
   "source": [
    "# precedence dictionary\n",
    "\n",
    "precedence = {\n",
    "    \"+\": 1,\n",
    "    \"-\": 1,\n",
    "    \"*\": 2,\n",
    "    \"/\": 2,\n",
    "    \"**\": 3    \n",
    "}"
   ]
  },
  {
   "cell_type": "code",
   "execution_count": 13,
   "metadata": {},
   "outputs": [
    {
     "name": "stdout",
     "output_type": "stream",
     "text": [
      "False\n",
      "True\n",
      "True\n"
     ]
    }
   ],
   "source": [
    "# test the precedence dictionary\n",
    "print(precedence[\"/\"] < precedence[\"-\"])\n",
    "print(precedence[\"**\"] > precedence[\"*\"])\n",
    "print(precedence[\"+\"] == precedence[\"-\"])"
   ]
  },
  {
   "cell_type": "markdown",
   "metadata": {},
   "source": [
    "## From Infix to Postfix\n",
    "\n",
    "Now we'll implement a function `infix_to_postfix()` that, given a string with an expression in infix notation, outputs a string with that expression written in postfix notation.\n",
    "\n",
    "This function will implement the Shunting-yard algorithm. This algorithm is similar to the `evaluate_postfix()` function we've implemented before. It starts by tokenizing the postfix expression, and then it processes the tokens one by one using a stack. It builds the postfix expression by keeping track of a list named postfix, which will contain the list of tokens in postfix order. \n",
    "\n",
    "The function needs to process opening and closing prentheses, operators, and numbers. We will implement everything step by step, starting with the open parenthesis."
   ]
  },
  {
   "cell_type": "code",
   "execution_count": 14,
   "metadata": {},
   "outputs": [],
   "source": [
    "# function to process opening parenthesis\n",
    "def process_opening_parenthesis(stack):\n",
    "    stack.push(\"(\")"
   ]
  },
  {
   "cell_type": "markdown",
   "metadata": {},
   "source": [
    "## Handling Closing Parenthesis\n",
    "\n",
    "In this step we'll write a function for handling a closing parenthesis. Here's how the algorithm specification said we should handle this case:\n",
    "\n",
    "- Closing parenthesis `)`:\n",
    "1. While the top of the stack isn't an opening parenthesis, `(`, pop the top element, and append it to the `postfix` token list.\n",
    "2. Pop the opening parentheses out of the stack at the end."
   ]
  },
  {
   "cell_type": "code",
   "execution_count": 15,
   "metadata": {},
   "outputs": [],
   "source": [
    "# function to process closing parenthesis\n",
    "def process_closing_parenthesis(stack, postfix):\n",
    "    while stack.peek() != \"(\":\n",
    "        element = stack.pop()\n",
    "        postfix.append(element)\n",
    "    stack.pop()"
   ]
  },
  {
   "cell_type": "markdown",
   "metadata": {},
   "source": [
    "## Handling Operators\n",
    "\n",
    "Next we will write a function to handle the operators:\n",
    "\n",
    "- Operator, `+`, `-`, `*`, / or `**`:\n",
    "    - While the top of the stack is also an operator with a precedence greater than or equal to this operator, pop the top element and append it to the postfix token list.\n",
    "    - Push the current operator to the top of the stack.\n",
    "\n",
    "Above, we see again that we need to use a while loop. The condition of the while loop needs to check that the top of the stack is an operator and that its precedence is greater than or equal to the precedence of the operator we're processing.\n",
    "\n",
    "We can get the top of the stack (without removing it) using the `Stack.peek()` function. However, we first need to ensure that the stack isn't empty, or it will cause an error.\n",
    "\n",
    "Earlier, we defined a dictionary named `precedence` to compare the precedence of two operators. Here we will use this now."
   ]
  },
  {
   "cell_type": "code",
   "execution_count": 23,
   "metadata": {},
   "outputs": [],
   "source": [
    "# function to handle operators\n",
    "def process_operator(stack, postfix, operator):\n",
    "    while len(stack) > 0 and stack.peek() in precedence and precedence[stack.peek()] >= precedence[operator]:\n",
    "        element = stack.pop()\n",
    "        postfix.append(element)\n",
    "    stack.push(operator)"
   ]
  },
  {
   "cell_type": "markdown",
   "metadata": {},
   "source": [
    "## Handling Numbers\n",
    "\n",
    "The only type of token that remains to process is numbers. Here's how the algorithm specification said we should handle numbers:\n",
    "\n",
    "- Operand (any number):\n",
    "    1. Push the token into the postfix token list.\n",
    "\n",
    "Let's implement this."
   ]
  },
  {
   "cell_type": "code",
   "execution_count": 17,
   "metadata": {},
   "outputs": [],
   "source": [
    "# function to process numbers\n",
    "def process_number(postfix, number):\n",
    "    postfix.append(number)"
   ]
  },
  {
   "cell_type": "markdown",
   "metadata": {},
   "source": [
    "##  Implementing the Shunting-yard Algorithm   \n",
    "\n",
    "We now have all the pieces we need to implement the `infix_to_postfix()` function that converts an expression from infix notation to postfix notation.\n",
    "\n",
    "This function will work as follows:\n",
    "\n",
    "1. We start by splitting the expression into tokens using the `tokenize()` function.\n",
    "2. We initialize an empty stack.\n",
    "3. We initialize an empty postfix token list.\n",
    "4. Iterate over all tokens, and for each, do the following:\n",
    "    - If the token is `\"(\"`, we call the `process_opening_parenthesis()` function.\n",
    "    - If the token is `\")\"`, we call the `process_closing_parenthesis()` function.\n",
    "    - If the token is an operator, we call the `process_operator()` function.\n",
    "    - Otherwise, the token is a number, and we call the `process_number()` function.\n",
    "5. After processing all tokens, we use a while loop to pop the remaining stack element into the postfix token list.\n",
    "6. Use the `str.join()` method to convert the postfix token list into a string.\n",
    "\n",
    "Let's put all the piece together and implement the `infix_to_postfix()` function."
   ]
  },
  {
   "cell_type": "code",
   "execution_count": 25,
   "metadata": {},
   "outputs": [],
   "source": [
    "# infix to postfix function\n",
    "def infix_to_postfix(expression):\n",
    "    tokens = tokenize(expression)\n",
    "    stack = Stack()\n",
    "    postfix = []\n",
    "    for token in tokens:\n",
    "        if token == \"(\":\n",
    "            process_opening_parenthesis(stack)\n",
    "        elif token == \")\":\n",
    "            process_closing_parenthesis(stack, postfix)\n",
    "        elif token in [\"-\", \"+\", \"*\", \"/\", \"**\"]:\n",
    "            process_operator(stack, postfix, token)\n",
    "        else:\n",
    "            process_number(postfix, token)\n",
    "    while len(stack) > 0:\n",
    "        postfix.append(stack.pop())\n",
    "    return \" \".join(postfix)            "
   ]
  },
  {
   "cell_type": "markdown",
   "metadata": {},
   "source": [
    "## Evaluating Infix expressions\n",
    "\n",
    "We now have a function that can transform an infix expression into postfix notation and a function that can evaluate an expression in postfix notation. By combining the two, we can write a function named `evaluate()` that returns the value of an expression in infix notation.\n",
    "\n",
    "Let's finish this project by implementing the `evaluate()` function."
   ]
  },
  {
   "cell_type": "code",
   "execution_count": 21,
   "metadata": {},
   "outputs": [],
   "source": [
    "# evaluate function\n",
    "def evaluate(expression):\n",
    "    postfix_expression = infix_to_postfix(expression)\n",
    "    return evaluate_postfix(postfix_expression)"
   ]
  },
  {
   "cell_type": "code",
   "execution_count": 26,
   "metadata": {},
   "outputs": [
    {
     "name": "stdout",
     "output_type": "stream",
     "text": [
      "2.0\n",
      "0.0\n",
      "8.0\n",
      "11.25\n",
      "256.0\n",
      "65536.0\n",
      "0.5\n",
      "9.0\n",
      "1.0\n"
     ]
    }
   ],
   "source": [
    "# testing the evaluate function\n",
    "expressions = [\n",
    "    \"1 + 1\",\n",
    "    \"1 * ( 2 - ( 1 + 1 ) )\",\n",
    "    \"4 * ( 1 + 2 * ( 9 / 3 ) - 5 )\",\n",
    "    \"10 + 3 * 5 / ( 16 - 4 * 1 )\",\n",
    "    \"2 * 2 * 2 * 2 * 2 * 2 * 2 * 2\",\n",
    "    \"2 ** 2 ** 2 ** 2 ** 2\",\n",
    "    \"( 1 - 2 ) / ( 3 - 5 )\",\n",
    "    \"9 / 8 * 8\",\n",
    "    \"64 / ( 8 * 8 )\",\n",
    "]\n",
    "\n",
    "for exp in expressions:\n",
    "    print(evaluate(exp))"
   ]
  },
  {
   "cell_type": "markdown",
   "metadata": {},
   "source": [
    "That looks good!"
   ]
  }
 ],
 "metadata": {
  "kernelspec": {
   "display_name": "Python 3",
   "language": "python",
   "name": "python3"
  },
  "language_info": {
   "codemirror_mode": {
    "name": "ipython",
    "version": 3
   },
   "file_extension": ".py",
   "mimetype": "text/x-python",
   "name": "python",
   "nbconvert_exporter": "python",
   "pygments_lexer": "ipython3",
   "version": "3.8.2"
  }
 },
 "nbformat": 4,
 "nbformat_minor": 1
}
