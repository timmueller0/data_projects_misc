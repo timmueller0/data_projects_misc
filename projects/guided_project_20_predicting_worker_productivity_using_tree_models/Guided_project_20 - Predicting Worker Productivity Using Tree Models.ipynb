{
 "cells": [
  {
   "cell_type": "markdown",
   "metadata": {},
   "source": [
    "# Predicting Employee Productivity Using Tree Models \n",
    "In this project, we'll be working with the dataset *Productivity Prediction of Garment Employees*. The original dataset is in the [UCI Machine Learning Repository](https://archive.ics.uci.edu/ml/datasets/Productivity+Prediction+of+Garment+Employees). We will try to classify workers' productivity and predicting which productivity class they belong to. We will use classification trees for this task."
   ]
  },
  {
   "cell_type": "markdown",
   "metadata": {},
   "source": [
    "## Exploring the data"
   ]
  },
  {
   "cell_type": "code",
   "execution_count": 1,
   "metadata": {},
   "outputs": [
    {
     "name": "stdout",
     "output_type": "stream",
     "text": [
      "<class 'pandas.core.frame.DataFrame'>\n",
      "RangeIndex: 1197 entries, 0 to 1196\n",
      "Data columns (total 15 columns):\n",
      " #   Column                 Non-Null Count  Dtype  \n",
      "---  ------                 --------------  -----  \n",
      " 0   date                   1197 non-null   object \n",
      " 1   quarter                1197 non-null   object \n",
      " 2   department             1197 non-null   object \n",
      " 3   day                    1197 non-null   object \n",
      " 4   team                   1197 non-null   int64  \n",
      " 5   targeted_productivity  1197 non-null   float64\n",
      " 6   smv                    1197 non-null   float64\n",
      " 7   wip                    691 non-null    float64\n",
      " 8   over_time              1197 non-null   int64  \n",
      " 9   incentive              1197 non-null   int64  \n",
      " 10  idle_time              1197 non-null   float64\n",
      " 11  idle_men               1197 non-null   int64  \n",
      " 12  no_of_style_change     1197 non-null   int64  \n",
      " 13  no_of_workers          1197 non-null   float64\n",
      " 14  actual_productivity    1197 non-null   float64\n",
      "dtypes: float64(6), int64(5), object(4)\n",
      "memory usage: 140.4+ KB\n",
      "None\n",
      "\n",
      "\n",
      "       date   quarter  department       day  team  targeted_productivity  \\\n",
      "0  1/1/2015  Quarter1      sweing  Thursday     8                   0.80   \n",
      "1  1/1/2015  Quarter1  finishing   Thursday     1                   0.75   \n",
      "2  1/1/2015  Quarter1      sweing  Thursday    11                   0.80   \n",
      "3  1/1/2015  Quarter1      sweing  Thursday    12                   0.80   \n",
      "4  1/1/2015  Quarter1      sweing  Thursday     6                   0.80   \n",
      "\n",
      "     smv     wip  over_time  incentive  idle_time  idle_men  \\\n",
      "0  26.16  1108.0       7080         98        0.0         0   \n",
      "1   3.94     NaN        960          0        0.0         0   \n",
      "2  11.41   968.0       3660         50        0.0         0   \n",
      "3  11.41   968.0       3660         50        0.0         0   \n",
      "4  25.90  1170.0       1920         50        0.0         0   \n",
      "\n",
      "   no_of_style_change  no_of_workers  actual_productivity  \n",
      "0                   0           59.0             0.940725  \n",
      "1                   0            8.0             0.886500  \n",
      "2                   0           30.5             0.800570  \n",
      "3                   0           30.5             0.800570  \n",
      "4                   0           56.0             0.800382  \n",
      "\n",
      "\n",
      "(1197, 15)\n",
      "\n",
      "\n",
      "              team  targeted_productivity          smv           wip  \\\n",
      "count  1197.000000            1197.000000  1197.000000    691.000000   \n",
      "mean      6.426901               0.729632    15.062172   1190.465991   \n",
      "std       3.463963               0.097891    10.943219   1837.455001   \n",
      "min       1.000000               0.070000     2.900000      7.000000   \n",
      "25%       3.000000               0.700000     3.940000    774.500000   \n",
      "50%       6.000000               0.750000    15.260000   1039.000000   \n",
      "75%       9.000000               0.800000    24.260000   1252.500000   \n",
      "max      12.000000               0.800000    54.560000  23122.000000   \n",
      "\n",
      "          over_time    incentive    idle_time     idle_men  \\\n",
      "count   1197.000000  1197.000000  1197.000000  1197.000000   \n",
      "mean    4567.460317    38.210526     0.730159     0.369256   \n",
      "std     3348.823563   160.182643    12.709757     3.268987   \n",
      "min        0.000000     0.000000     0.000000     0.000000   \n",
      "25%     1440.000000     0.000000     0.000000     0.000000   \n",
      "50%     3960.000000     0.000000     0.000000     0.000000   \n",
      "75%     6960.000000    50.000000     0.000000     0.000000   \n",
      "max    25920.000000  3600.000000   300.000000    45.000000   \n",
      "\n",
      "       no_of_style_change  no_of_workers  actual_productivity  \n",
      "count         1197.000000    1197.000000          1197.000000  \n",
      "mean             0.150376      34.609858             0.735091  \n",
      "std              0.427848      22.197687             0.174488  \n",
      "min              0.000000       2.000000             0.233705  \n",
      "25%              0.000000       9.000000             0.650307  \n",
      "50%              0.000000      34.000000             0.773333  \n",
      "75%              0.000000      57.000000             0.850253  \n",
      "max              2.000000      89.000000             1.120437  \n"
     ]
    }
   ],
   "source": [
    "import pandas as pd\n",
    "import numpy as np\n",
    "from sklearn.model_selection import train_test_split\n",
    "from sklearn.preprocessing import OneHotEncoder\n",
    "from sklearn.compose import make_column_transformer\n",
    "from sklearn.tree import DecisionTreeClassifier\n",
    "from sklearn.ensemble import RandomForestClassifier\n",
    "from sklearn.metrics import accuracy_score\n",
    "from sklearn.tree import plot_tree\n",
    "import matplotlib.pyplot as plt\n",
    "%matplotlib inline\n",
    "import seaborn as sns\n",
    "\n",
    "df = pd.read_csv('garments_worker_productivity.csv')\n",
    "print(df.info())\n",
    "print('\\n')\n",
    "print(df.head())\n",
    "print('\\n')\n",
    "print(df.shape)\n",
    "print('\\n')\n",
    "print(df.describe())"
   ]
  },
  {
   "cell_type": "markdown",
   "metadata": {},
   "source": [
    "At first glance, most coumns contain full information, except for `wip` column (work in progress), which only has 691 out of 1197 valid entries. The minimum and maximum values are sometimes out of bounds and require cleaining. For example, `actual_productivity` should be within a range of 0 and 1, but is exceeding 1. Also in the `wip`column, we find a maximum value of 23122, which for one worker or unit sounds clearly out of bounds. Possibly, this was an entry error. In addition, we can conclude that time management in this factory is pretty efficient, since we barely have idle time and idle men. It appears there was either a single or a reduced number of incidents where production was stopped. Let's inspect the columns individually."
   ]
  },
  {
   "cell_type": "code",
   "execution_count": 2,
   "metadata": {},
   "outputs": [
    {
     "name": "stdout",
     "output_type": "stream",
     "text": [
      "673      2/8/2015\n",
      "1055     3/4/2015\n",
      "1082     3/5/2015\n",
      "828     2/18/2015\n",
      "836     2/18/2015\n",
      "1119     3/8/2015\n",
      "576      2/2/2015\n",
      "491     1/28/2015\n",
      "1155    3/10/2015\n",
      "313     1/18/2015\n",
      "276     1/15/2015\n",
      "512     1/29/2015\n",
      "552      2/1/2015\n",
      "894     2/23/2015\n",
      "738     2/12/2015\n",
      "695     2/10/2015\n",
      "1113     3/8/2015\n",
      "536     1/31/2015\n",
      "1091     3/7/2015\n",
      "734     2/12/2015\n",
      "Name: date, dtype: object\n"
     ]
    }
   ],
   "source": [
    "# date\n",
    "print(df[\"date\"].sample(20, random_state = 23))"
   ]
  },
  {
   "cell_type": "markdown",
   "metadata": {},
   "source": [
    "From looking at the random sample of values in the `Data`ccolumen, we see that there is only a limited range of date values from January til March. So the usefulness of this data to determine seasonal trneds is limited."
   ]
  },
  {
   "cell_type": "code",
   "execution_count": 3,
   "metadata": {},
   "outputs": [
    {
     "name": "stdout",
     "output_type": "stream",
     "text": [
      "Quarter1    360\n",
      "Quarter2    335\n",
      "Quarter4    248\n",
      "Quarter3    210\n",
      "Quarter5     44\n",
      "Name: quarter, dtype: int64\n",
      "           date   quarter\n",
      "673    2/8/2015  Quarter2\n",
      "1055   3/4/2015  Quarter1\n",
      "1082   3/5/2015  Quarter1\n",
      "828   2/18/2015  Quarter3\n",
      "836   2/18/2015  Quarter3\n",
      "1119   3/8/2015  Quarter2\n",
      "576    2/2/2015  Quarter1\n",
      "491   1/28/2015  Quarter4\n",
      "1155  3/10/2015  Quarter2\n",
      "313   1/18/2015  Quarter3\n",
      "276   1/15/2015  Quarter3\n",
      "512   1/29/2015  Quarter5\n",
      "552    2/1/2015  Quarter1\n",
      "894   2/23/2015  Quarter4\n",
      "738   2/12/2015  Quarter2\n",
      "695   2/10/2015  Quarter2\n",
      "1113   3/8/2015  Quarter2\n",
      "536   1/31/2015  Quarter5\n",
      "1091   3/7/2015  Quarter1\n",
      "734   2/12/2015  Quarter2\n"
     ]
    }
   ],
   "source": [
    "# quarter\n",
    "print(df[\"quarter\"].value_counts())\n",
    "print(df[[\"date\", \"quarter\"]].sample(20, random_state = 23))\n"
   ]
  },
  {
   "cell_type": "markdown",
   "metadata": {},
   "source": [
    "Surprisingly enough, the `quarter` variable refers to quarters of a month (not a year) and there are also cases of a 5th quarter, which shouldn't exist. These are located around the end of months. We might consider merging them wth the 4th quarter."
   ]
  },
  {
   "cell_type": "code",
   "execution_count": 4,
   "metadata": {},
   "outputs": [
    {
     "name": "stdout",
     "output_type": "stream",
     "text": [
      "sweing        691\n",
      "finishing     257\n",
      "finishing     249\n",
      "Name: department, dtype: int64\n",
      "['sweing' 'finishing ' 'finishing']\n"
     ]
    }
   ],
   "source": [
    "# department\n",
    "print(df[\"department\"].value_counts())\n",
    "print(df[\"department\"].unique())"
   ]
  },
  {
   "cell_type": "markdown",
   "metadata": {},
   "source": [
    "In the `department`column, we see a doubling of the ' finishing' department which is created by a trailing space."
   ]
  },
  {
   "cell_type": "code",
   "execution_count": 5,
   "metadata": {},
   "outputs": [
    {
     "name": "stdout",
     "output_type": "stream",
     "text": [
      "Wednesday    208\n",
      "Sunday       203\n",
      "Tuesday      201\n",
      "Thursday     199\n",
      "Monday       199\n",
      "Saturday     187\n",
      "Name: day, dtype: int64\n"
     ]
    }
   ],
   "source": [
    "# day\n",
    "print(df[\"day\"].value_counts())"
   ]
  },
  {
   "cell_type": "markdown",
   "metadata": {},
   "source": [
    "As the data might have been collected in a garment factory in Bangladesh, this might explain that the weekly day of rest here seems to be Friday, as we have no data for this weekday."
   ]
  },
  {
   "cell_type": "code",
   "execution_count": 6,
   "metadata": {},
   "outputs": [
    {
     "name": "stdout",
     "output_type": "stream",
     "text": [
      "1     105\n",
      "2     109\n",
      "3      95\n",
      "4     105\n",
      "5      93\n",
      "6      94\n",
      "7      96\n",
      "8     109\n",
      "9     104\n",
      "10    100\n",
      "11     88\n",
      "12     99\n",
      "Name: team, dtype: int64\n"
     ]
    }
   ],
   "source": [
    "# team\n",
    "print(df[\"team\"].value_counts().sort_index())"
   ]
  },
  {
   "cell_type": "markdown",
   "metadata": {},
   "source": [
    "No particular differences are revealed in the `team` variable."
   ]
  },
  {
   "cell_type": "markdown",
   "metadata": {},
   "source": [
    "Let's take a look at the columns `targeted_producitivity`and `actual_productivity` to get an ideaof how they differ."
   ]
  },
  {
   "cell_type": "code",
   "execution_count": 7,
   "metadata": {},
   "outputs": [
    {
     "name": "stdout",
     "output_type": "stream",
     "text": [
      "count    1197.000000\n",
      "mean        0.005459\n",
      "std         0.160082\n",
      "min        -0.561958\n",
      "25%        -0.009556\n",
      "50%         0.000505\n",
      "75%         0.099111\n",
      "max         0.644375\n",
      "Name: prod_diff, dtype: float64\n"
     ]
    }
   ],
   "source": [
    "# targeted vs. actual productivity\n",
    "df['prod_diff'] = df['actual_productivity'] - df['targeted_productivity']\n",
    "print(df['prod_diff'].describe())"
   ]
  },
  {
   "cell_type": "markdown",
   "metadata": {},
   "source": [
    "We see that on average the actual productivity matches or exceeds the targeted productivity, as the difference of bot indicators on average is positive."
   ]
  },
  {
   "cell_type": "code",
   "execution_count": 8,
   "metadata": {},
   "outputs": [
    {
     "data": {
      "image/png": "[encoded data removed]",
      "text/plain": [
       "<Figure size 640x480 with 1 Axes>"
      ]
     },
     "metadata": {},
     "output_type": "display_data"
    }
   ],
   "source": [
    "plt.hist(df['prod_diff'])\n",
    "plt.show()"
   ]
  },
  {
   "cell_type": "markdown",
   "metadata": {},
   "source": [
    "However, there is a long tail towards negative producitivity instances, and we are interested in minimising those.\n",
    "We are also interested in cases exceeding the range of 1 for `actual_productivity`."
   ]
  },
  {
   "cell_type": "code",
   "execution_count": 9,
   "metadata": {},
   "outputs": [
    {
     "name": "stdout",
     "output_type": "stream",
     "text": [
      "          date   quarter  department        day  team  targeted_productivity  \\\n",
      "337  1/20/2015  Quarter3  finishing     Tuesday     5                   0.70   \n",
      "437  1/26/2015  Quarter4  finishing      Monday     3                   0.75   \n",
      "456  1/27/2015  Quarter4      sweing    Tuesday     2                   0.75   \n",
      "457  1/27/2015  Quarter4      sweing    Tuesday     3                   0.75   \n",
      "477  1/28/2015  Quarter4      sweing  Wednesday     2                   0.80   \n",
      "478  1/28/2015  Quarter4      sweing  Wednesday     3                   0.80   \n",
      "498  1/29/2015  Quarter5      sweing   Thursday     2                   0.80   \n",
      "518  1/31/2015  Quarter5      sweing   Saturday     3                   0.80   \n",
      "519  1/31/2015  Quarter5      sweing   Saturday     2                   0.80   \n",
      "542   2/1/2015  Quarter1  finishing      Sunday     8                   0.65   \n",
      "543   2/1/2015  Quarter1      sweing     Sunday     2                   0.80   \n",
      "544   2/1/2015  Quarter1      sweing     Sunday     1                   0.80   \n",
      "561   2/2/2015  Quarter1      sweing     Monday     1                   0.80   \n",
      "580   2/3/2015  Quarter1  finishing     Tuesday     2                   0.80   \n",
      "581   2/3/2015  Quarter1      sweing    Tuesday     1                   0.80   \n",
      "599   2/4/2015  Quarter1      sweing  Wednesday     2                   0.80   \n",
      "600   2/4/2015  Quarter1      sweing  Wednesday     3                   0.80   \n",
      "618   2/5/2015  Quarter1      sweing   Thursday     2                   0.80   \n",
      "619   2/5/2015  Quarter1      sweing   Thursday     1                   0.80   \n",
      "636   2/7/2015  Quarter1   finishing   Saturday     2                   0.80   \n",
      "637   2/7/2015  Quarter1      sweing   Saturday     2                   0.80   \n",
      "655   2/8/2015  Quarter2      sweing     Sunday     2                   0.80   \n",
      "674   2/9/2015  Quarter2   finishing     Monday     2                   0.80   \n",
      "692  2/10/2015  Quarter2   finishing    Tuesday    12                   0.80   \n",
      "711  2/11/2015  Quarter2   finishing  Wednesday     4                   0.70   \n",
      "712  2/11/2015  Quarter2   finishing  Wednesday    12                   0.80   \n",
      "713  2/11/2015  Quarter2      sweing  Wednesday     2                   0.80   \n",
      "714  2/11/2015  Quarter2      sweing  Wednesday     1                   0.80   \n",
      "730  2/12/2015  Quarter2      sweing   Thursday     1                   0.80   \n",
      "731  2/12/2015  Quarter2   finishing   Thursday     4                   0.70   \n",
      "732  2/12/2015  Quarter2      sweing   Thursday     2                   0.80   \n",
      "749  2/14/2015  Quarter2      sweing   Saturday     1                   0.80   \n",
      "766  2/15/2015  Quarter3   finishing     Sunday     1                   0.80   \n",
      "767  2/15/2015  Quarter3   finishing     Sunday     2                   0.80   \n",
      "768  2/15/2015  Quarter3      sweing     Sunday     1                   0.80   \n",
      "785  2/16/2015  Quarter3      sweing     Monday     1                   0.80   \n",
      "803  2/17/2015  Quarter3      sweing    Tuesday     1                   0.80   \n",
      "\n",
      "       smv      wip  over_time  incentive  idle_time  idle_men  \\\n",
      "337   4.15      NaN       1440          0        0.0         0   \n",
      "437   3.94      NaN       1800          0        0.0         0   \n",
      "456  22.52   1635.0       6840        119        0.0         0   \n",
      "457  22.52   1299.0       6840        119        0.0         0   \n",
      "477  22.52   1559.0       6840         90        0.0         0   \n",
      "478  22.52   1350.0       6840        113        0.0         0   \n",
      "498  22.52   1416.0       6840        113        0.0         0   \n",
      "518  22.52   1136.0       6960        113        0.0         0   \n",
      "519  22.52   1397.0       6840        113        0.0         0   \n",
      "542   4.15      NaN        960          0        0.0         0   \n",
      "543  22.52   1396.0       6900        113        0.0         0   \n",
      "544  22.94   1582.0       3060        113        0.0         0   \n",
      "561  22.94  16882.0       7020        113        0.0         0   \n",
      "580   3.94      NaN       2400          0        0.0         0   \n",
      "581  22.52   1500.0       6900        113        0.0         0   \n",
      "599  22.52   1263.0       6900        100        0.0         0   \n",
      "600  22.52    968.0       6840        113        0.0         0   \n",
      "618  22.52   1300.0       6780        113        0.0         0   \n",
      "619  22.52   1485.0       6900        113        0.0         0   \n",
      "636   3.94      NaN       3000          0        0.0         0   \n",
      "637  22.52   1186.0       6900        113        0.0         0   \n",
      "655  22.52   1233.0       6900        113        0.0         0   \n",
      "674   3.94      NaN       2160          0        0.0         0   \n",
      "692   4.08      NaN       1080          0        0.0         0   \n",
      "711   4.15      NaN       1800          0        0.0         0   \n",
      "712   4.08      NaN       1080          0        0.0         0   \n",
      "713  22.52   1557.0          0         90        0.0         0   \n",
      "714  22.52   1498.0          0        113        0.0         0   \n",
      "730  22.52   1397.0          0        138        0.0         0   \n",
      "731   4.15      NaN       1800          0        0.0         0   \n",
      "732  22.52   1327.0          0        113        0.0         0   \n",
      "749  22.52   1416.0       6840        113        0.0         0   \n",
      "766   3.94      NaN        960          0        0.0         0   \n",
      "767   3.94      NaN        960          0        0.0         0   \n",
      "768  22.52   1420.0       6840        113        0.0         0   \n",
      "785  22.52   1422.0       6840        113        0.0         0   \n",
      "803  22.52   1445.0       6840        113        0.0         0   \n",
      "\n",
      "     no_of_style_change  no_of_workers  actual_productivity  prod_diff  \n",
      "337                   0            8.0             1.033570   0.333570  \n",
      "437                   0           10.0             1.059621   0.309621  \n",
      "456                   0           57.0             1.000230   0.250230  \n",
      "457                   0           57.0             1.000230   0.250230  \n",
      "477                   0           57.0             1.000230   0.200230  \n",
      "478                   0           57.0             1.000230   0.200230  \n",
      "498                   0           57.0             1.000230   0.200230  \n",
      "518                   0           58.0             1.000457   0.200457  \n",
      "519                   0           57.0             1.000230   0.200230  \n",
      "542                   0            8.0             1.011562   0.361562  \n",
      "543                   0           57.5             1.000671   0.200671  \n",
      "544                   0           58.5             1.000402   0.200402  \n",
      "561                   0           58.5             1.000602   0.200602  \n",
      "580                   0           20.0             1.001417   0.201417  \n",
      "581                   0           57.5             1.000019   0.200019  \n",
      "599                   0           57.5             1.050281   0.250281  \n",
      "600                   0           57.0             1.000230   0.200230  \n",
      "618                   0           56.5             1.000446   0.200446  \n",
      "619                   0           57.5             1.000019   0.200019  \n",
      "636                   0           25.0             1.050667   0.250667  \n",
      "637                   0           58.0             1.000019   0.200019  \n",
      "655                   0           57.5             1.000019   0.200019  \n",
      "674                   0           18.0             1.057963   0.257963  \n",
      "692                   0            9.0             1.004889   0.204889  \n",
      "711                   0           15.0             1.033156   0.333156  \n",
      "712                   0            9.0             1.020000   0.220000  \n",
      "713                   0           57.5             1.000345   0.200345  \n",
      "714                   0           57.0             1.000066   0.200066  \n",
      "730                   0           57.0             1.100484   0.300484  \n",
      "731                   0           15.0             1.096633   0.396633  \n",
      "732                   0           57.5             1.000345   0.200345  \n",
      "749                   0           57.0             1.000230   0.200230  \n",
      "766                   0            8.0             1.120437   0.320437  \n",
      "767                   0            8.0             1.108125   0.308125  \n",
      "768                   0           57.0             1.000230   0.200230  \n",
      "785                   0           57.0             1.000230   0.200230  \n",
      "803                   0           57.0             1.000230   0.200230  \n"
     ]
    }
   ],
   "source": [
    "# actual_productivity exceeding 1\n",
    "print(df[df[\"actual_productivity\"] > 1])"
   ]
  },
  {
   "cell_type": "markdown",
   "metadata": {},
   "source": [
    "The indicated overproductivity could be related to overtime. Let's check the `overtime`column."
   ]
  },
  {
   "cell_type": "code",
   "execution_count": 10,
   "metadata": {},
   "outputs": [
    {
     "name": "stdout",
     "output_type": "stream",
     "text": [
      "           date   quarter department        day  team  targeted_productivity  \\\n",
      "684    2/9/2015  Quarter2     sweing     Monday    11                   0.75   \n",
      "694   2/10/2015  Quarter2     sweing    Tuesday    10                   0.80   \n",
      "695   2/10/2015  Quarter2     sweing    Tuesday     1                   0.80   \n",
      "696   2/10/2015  Quarter2     sweing    Tuesday     3                   0.80   \n",
      "697   2/10/2015  Quarter2     sweing    Tuesday     2                   0.80   \n",
      "713   2/11/2015  Quarter2     sweing  Wednesday     2                   0.80   \n",
      "714   2/11/2015  Quarter2     sweing  Wednesday     1                   0.80   \n",
      "718   2/11/2015  Quarter2     sweing  Wednesday    10                   0.80   \n",
      "730   2/12/2015  Quarter2     sweing   Thursday     1                   0.80   \n",
      "732   2/12/2015  Quarter2     sweing   Thursday     2                   0.80   \n",
      "790   2/16/2015  Quarter3     sweing     Monday     5                   0.80   \n",
      "818   2/17/2015  Quarter3     sweing    Tuesday     8                   0.60   \n",
      "828   2/18/2015  Quarter3     sweing  Wednesday     5                   0.80   \n",
      "834   2/18/2015  Quarter3     sweing  Wednesday     3                   0.70   \n",
      "966   2/28/2015  Quarter4     sweing   Saturday    11                   0.80   \n",
      "1011   3/2/2015  Quarter1     sweing     Monday    11                   0.80   \n",
      "1027   3/3/2015  Quarter1     sweing    Tuesday    11                   0.80   \n",
      "1053   3/4/2015  Quarter1     sweing  Wednesday    11                   0.80   \n",
      "1128   3/9/2015  Quarter2  finishing     Monday    11                   0.80   \n",
      "1129   3/9/2015  Quarter2  finishing     Monday    12                   0.80   \n",
      "1130   3/9/2015  Quarter2  finishing     Monday     5                   0.60   \n",
      "1133   3/9/2015  Quarter2  finishing     Monday     9                   0.75   \n",
      "1138   3/9/2015  Quarter2  finishing     Monday     4                   0.75   \n",
      "1139   3/9/2015  Quarter2  finishing     Monday     1                   0.75   \n",
      "\n",
      "        smv     wip  over_time  incentive  idle_time  idle_men  \\\n",
      "684   10.05   103.0          0         45        0.0         0   \n",
      "694   22.52  1268.0          0         88        0.0         0   \n",
      "695   22.52  1546.0          0         88        0.0         0   \n",
      "696   22.52   813.0          0         88        0.0         0   \n",
      "697   22.52  1512.0          0         88        0.0         0   \n",
      "713   22.52  1557.0          0         90        0.0         0   \n",
      "714   22.52  1498.0          0        113        0.0         0   \n",
      "718   22.52   598.0          0         75        0.0         0   \n",
      "730   22.52  1397.0          0        138        0.0         0   \n",
      "732   22.52  1327.0          0        113        0.0         0   \n",
      "790   30.10   461.0          0          0        0.0         0   \n",
      "818   29.40   179.0          0         23        5.0        30   \n",
      "828   30.10   511.0          0          0        0.0         0   \n",
      "834   30.10  1057.0          0         40        0.0         0   \n",
      "966   11.61   954.0          0         50        0.0         0   \n",
      "1011  11.61   632.0          0         50        0.0         0   \n",
      "1027  11.41   601.0          0         50        0.0         0   \n",
      "1053  11.41   433.0          0         38        0.0         0   \n",
      "1128   2.90     NaN          0        960        0.0         0   \n",
      "1129   4.60     NaN          0       1080        0.0         0   \n",
      "1130   3.94     NaN          0       2880        0.0         0   \n",
      "1133   2.90     NaN          0       3600        0.0         0   \n",
      "1138   3.94     NaN          0        960        0.0         0   \n",
      "1139   3.94     NaN          0        960        0.0         0   \n",
      "\n",
      "      no_of_style_change  no_of_workers  actual_productivity  prod_diff  \n",
      "684                    0           54.0             0.750648   0.000648  \n",
      "694                    0           56.0             0.900632   0.100632  \n",
      "695                    0           57.0             0.900471   0.100471  \n",
      "696                    0           57.0             0.900471   0.100471  \n",
      "697                    0           57.0             0.899984   0.099984  \n",
      "713                    0           57.5             1.000345   0.200345  \n",
      "714                    0           57.0             1.000066   0.200066  \n",
      "718                    0           56.0             0.850365   0.050365  \n",
      "730                    0           57.0             1.100484   0.300484  \n",
      "732                    0           57.5             1.000345   0.200345  \n",
      "790                    0           59.0             0.800980   0.000980  \n",
      "818                    2           58.0             0.600983   0.000983  \n",
      "828                    0           59.0             0.800980   0.000980  \n",
      "834                    1           58.0             0.700603   0.000603  \n",
      "966                    2           58.0             0.800779   0.000779  \n",
      "1011                   0           57.0             0.800309   0.000309  \n",
      "1027                   0           56.0             0.800702   0.000702  \n",
      "1053                   0           56.0             0.800702   0.000702  \n",
      "1128                   0            8.0             0.960625   0.160625  \n",
      "1129                   0            9.0             0.902963   0.102963  \n",
      "1130                   0           12.0             0.864343   0.264343  \n",
      "1133                   0           15.0             0.841000   0.091000  \n",
      "1138                   0            8.0             0.795388   0.045388  \n",
      "1139                   0            8.0             0.794567   0.044567  \n"
     ]
    }
   ],
   "source": [
    "# No overtime for cases, where actual productivity exceeds targeted productivity\n",
    "print(df[(df[\"over_time\"] == 0) & (df[\"actual_productivity\"] > df[\"targeted_productivity\"])])"
   ]
  },
  {
   "cell_type": "markdown",
   "metadata": {},
   "source": [
    "There are only few cases where the target productivity is being met without overtime."
   ]
  },
  {
   "cell_type": "code",
   "execution_count": 11,
   "metadata": {},
   "outputs": [
    {
     "name": "stdout",
     "output_type": "stream",
     "text": [
      "count    1197.000000\n",
      "mean       38.210526\n",
      "std       160.182643\n",
      "min         0.000000\n",
      "25%         0.000000\n",
      "50%         0.000000\n",
      "75%        50.000000\n",
      "max      3600.000000\n",
      "Name: incentive, dtype: float64\n"
     ]
    },
    {
     "data": {
      "text/plain": [
       "604"
      ]
     },
     "execution_count": 11,
     "metadata": {},
     "output_type": "execute_result"
    }
   ],
   "source": [
    "# incentives\n",
    "print(df[\"incentive\"].describe())\n",
    "len(df[df[\"incentive\"] == 0])"
   ]
  },
  {
   "cell_type": "markdown",
   "metadata": {},
   "source": [
    "There are barely any incentives, and the majority of cases doesn't get any."
   ]
  },
  {
   "cell_type": "code",
   "execution_count": 12,
   "metadata": {},
   "outputs": [
    {
     "name": "stdout",
     "output_type": "stream",
     "text": [
      "18\n",
      "18\n",
      "Empty DataFrame\n",
      "Columns: [date, quarter, department, day, team, targeted_productivity, smv, wip, over_time, incentive, idle_time, idle_men, no_of_style_change, no_of_workers, actual_productivity, prod_diff]\n",
      "Index: []\n"
     ]
    }
   ],
   "source": [
    "# idle_time and idle_men\n",
    "print(len(df[(df[\"idle_time\"] > 0)]))\n",
    "print(len(df[(df[\"idle_men\"] > 0)]))\n",
    "print(df[(df[\"idle_time\"] > 0) & (df[\"idle_men\"] == 0)])"
   ]
  },
  {
   "cell_type": "markdown",
   "metadata": {},
   "source": [
    "Cases of idle time or idle men are very rare. Whenever we observe idle time, the indicator rightly shows that idle men are only recorded when there is actually idle time."
   ]
  },
  {
   "cell_type": "code",
   "execution_count": 13,
   "metadata": {},
   "outputs": [
    {
     "name": "stdout",
     "output_type": "stream",
     "text": [
      "count    1197.000000\n",
      "mean        0.150376\n",
      "std         0.427848\n",
      "min         0.000000\n",
      "25%         0.000000\n",
      "50%         0.000000\n",
      "75%         0.000000\n",
      "max         2.000000\n",
      "Name: no_of_style_change, dtype: float64\n"
     ]
    }
   ],
   "source": [
    "# no of style changes\n",
    "print(df[\"no_of_style_change\"].describe())"
   ]
  },
  {
   "cell_type": "code",
   "execution_count": 14,
   "metadata": {},
   "outputs": [
    {
     "name": "stdout",
     "output_type": "stream",
     "text": [
      "147\n"
     ]
    }
   ],
   "source": [
    "print(len(df[df[\"no_of_style_change\"] >= 1]))"
   ]
  },
  {
   "cell_type": "markdown",
   "metadata": {},
   "source": [
    "There are not many style changes, and only a small fraction of cases reports any style changes at all."
   ]
  },
  {
   "cell_type": "code",
   "execution_count": 15,
   "metadata": {},
   "outputs": [
    {
     "name": "stdout",
     "output_type": "stream",
     "text": [
      "count    1197.000000\n",
      "mean       34.609858\n",
      "std        22.197687\n",
      "min         2.000000\n",
      "25%         9.000000\n",
      "50%        34.000000\n",
      "75%        57.000000\n",
      "max        89.000000\n",
      "Name: no_of_workers, dtype: float64\n"
     ]
    }
   ],
   "source": [
    "# number of workers\n",
    "print(df[\"no_of_workers\"].describe())"
   ]
  },
  {
   "cell_type": "markdown",
   "metadata": {},
   "source": [
    "An average team has a size of 34 workers, but there are also 25% of cases wirh 57 or more workers."
   ]
  },
  {
   "cell_type": "markdown",
   "metadata": {},
   "source": [
    "## Data cleaning\n",
    "\n",
    "After the inspection of the relevant columns let us clean the data and only keep columns that seem relevant for the productivity based on what we have seen so far. Let us first fix the typo in the `department`column."
   ]
  },
  {
   "cell_type": "code",
   "execution_count": 16,
   "metadata": {},
   "outputs": [],
   "source": [
    "# clean department column\n",
    "df['department'] = df['department'].apply(lambda x: x.strip())\n",
    "df['department'] = df['department'].replace(\"sweing\", \"sewing\")"
   ]
  },
  {
   "cell_type": "code",
   "execution_count": 17,
   "metadata": {},
   "outputs": [
    {
     "data": {
      "text/plain": [
       "sewing       691\n",
       "finishing    506\n",
       "Name: department, dtype: int64"
      ]
     },
     "execution_count": 17,
     "metadata": {},
     "output_type": "execute_result"
    }
   ],
   "source": [
    "df[\"department\"].value_counts()"
   ]
  },
  {
   "cell_type": "markdown",
   "metadata": {},
   "source": [
    "We drop the `date` column, as its limited range does not contain any information about seasonality. In this time window, we will only focus on producitvity issues that we can detect on different days of the week and parts of the month."
   ]
  },
  {
   "cell_type": "code",
   "execution_count": 18,
   "metadata": {},
   "outputs": [],
   "source": [
    "df = df.drop(\"date\", axis = 1)"
   ]
  },
  {
   "cell_type": "markdown",
   "metadata": {},
   "source": [
    "We merge all instances of \"Quarter 5\" with \"Quarter 4\" and recode the variable into a numeric variable."
   ]
  },
  {
   "cell_type": "code",
   "execution_count": 19,
   "metadata": {},
   "outputs": [],
   "source": [
    "# Merge Q4 and Q5\n",
    "df['quarter'] = np.where(df['quarter'] == 'Quarter5', 'Quarter4', df['quarter'])\n",
    "\n",
    "# Replace with numeric values\n",
    "df['quarter'] = df['quarter'].replace({\n",
    "    'Quarter1': 1,\n",
    "    'Quarter2': 2,\n",
    "    'Quarter3': 3,\n",
    "    'Quarter4': 4\n",
    "})"
   ]
  },
  {
   "cell_type": "markdown",
   "metadata": {},
   "source": [
    "We will drop the `idle_time` and `idle_men` columns, as they contain very few cases and do not reveal much information."
   ]
  },
  {
   "cell_type": "code",
   "execution_count": 20,
   "metadata": {},
   "outputs": [],
   "source": [
    "# drop idle_time and idle_men\n",
    "df = df.drop([\"idle_time\", \"idle_men\"], axis = 1)"
   ]
  },
  {
   "cell_type": "markdown",
   "metadata": {},
   "source": [
    "As we saw above, the `wip` column contains many missing values. Therefore we will drop this one too."
   ]
  },
  {
   "cell_type": "code",
   "execution_count": 21,
   "metadata": {},
   "outputs": [],
   "source": [
    "df = df.drop([\"wip\"], axis = 1)"
   ]
  },
  {
   "cell_type": "markdown",
   "metadata": {
    "tags": []
   },
   "source": [
    "With very few cases of style changes, we decide to drop this column too."
   ]
  },
  {
   "cell_type": "code",
   "execution_count": 22,
   "metadata": {},
   "outputs": [],
   "source": [
    "# drop no_style_changes column\n",
    "df = df.drop(\"no_of_style_change\", axis = 1)"
   ]
  },
  {
   "cell_type": "markdown",
   "metadata": {},
   "source": [
    "Let's make sure that the `no_of_workers` is actually treated as integer."
   ]
  },
  {
   "cell_type": "code",
   "execution_count": 23,
   "metadata": {},
   "outputs": [],
   "source": [
    "df[\"no_of_workers\"] = df[\"no_of_workers\"].astype(\"int\")"
   ]
  },
  {
   "cell_type": "markdown",
   "metadata": {},
   "source": [
    "We round the `actual_productivity` column to 2 decimal places, just like the `targeted_productivity`column, and we will drop the difference column that we created earlier."
   ]
  },
  {
   "cell_type": "code",
   "execution_count": 24,
   "metadata": {},
   "outputs": [],
   "source": [
    "df[\"actual_productivity\"] = df[\"actual_productivity\"].round(2)\n",
    "df = df.drop('prod_diff', axis=1)"
   ]
  },
  {
   "cell_type": "markdown",
   "metadata": {},
   "source": [
    "As the aim is to classify workers productivity into productivity classes, we we also recode the data to indicate when the productivity has been met or exceeded. We will call this new column \"productive\"."
   ]
  },
  {
   "cell_type": "code",
   "execution_count": 25,
   "metadata": {},
   "outputs": [
    {
     "data": {
      "text/html": [
       "<div>\n",
       "<style scoped>\n",
       "    .dataframe tbody tr th:only-of-type {\n",
       "        vertical-align: middle;\n",
       "    }\n",
       "\n",
       "    .dataframe tbody tr th {\n",
       "        vertical-align: top;\n",
       "    }\n",
       "\n",
       "    .dataframe thead th {\n",
       "        text-align: right;\n",
       "    }\n",
       "</style>\n",
       "<table border=\"1\" class=\"dataframe\">\n",
       "  <thead>\n",
       "    <tr style=\"text-align: right;\">\n",
       "      <th></th>\n",
       "      <th>quarter</th>\n",
       "      <th>department</th>\n",
       "      <th>day</th>\n",
       "      <th>team</th>\n",
       "      <th>targeted_productivity</th>\n",
       "      <th>smv</th>\n",
       "      <th>over_time</th>\n",
       "      <th>incentive</th>\n",
       "      <th>no_of_workers</th>\n",
       "      <th>actual_productivity</th>\n",
       "      <th>productive</th>\n",
       "    </tr>\n",
       "  </thead>\n",
       "  <tbody>\n",
       "    <tr>\n",
       "      <th>673</th>\n",
       "      <td>2</td>\n",
       "      <td>sewing</td>\n",
       "      <td>Sunday</td>\n",
       "      <td>8</td>\n",
       "      <td>0.70</td>\n",
       "      <td>24.26</td>\n",
       "      <td>6840</td>\n",
       "      <td>0</td>\n",
       "      <td>57</td>\n",
       "      <td>0.35</td>\n",
       "      <td>False</td>\n",
       "    </tr>\n",
       "    <tr>\n",
       "      <th>1055</th>\n",
       "      <td>1</td>\n",
       "      <td>sewing</td>\n",
       "      <td>Wednesday</td>\n",
       "      <td>3</td>\n",
       "      <td>0.80</td>\n",
       "      <td>29.40</td>\n",
       "      <td>6840</td>\n",
       "      <td>63</td>\n",
       "      <td>57</td>\n",
       "      <td>0.80</td>\n",
       "      <td>True</td>\n",
       "    </tr>\n",
       "    <tr>\n",
       "      <th>1082</th>\n",
       "      <td>1</td>\n",
       "      <td>sewing</td>\n",
       "      <td>Thursday</td>\n",
       "      <td>10</td>\n",
       "      <td>0.70</td>\n",
       "      <td>21.82</td>\n",
       "      <td>6000</td>\n",
       "      <td>30</td>\n",
       "      <td>50</td>\n",
       "      <td>0.70</td>\n",
       "      <td>True</td>\n",
       "    </tr>\n",
       "    <tr>\n",
       "      <th>828</th>\n",
       "      <td>3</td>\n",
       "      <td>sewing</td>\n",
       "      <td>Wednesday</td>\n",
       "      <td>5</td>\n",
       "      <td>0.80</td>\n",
       "      <td>30.10</td>\n",
       "      <td>0</td>\n",
       "      <td>0</td>\n",
       "      <td>59</td>\n",
       "      <td>0.80</td>\n",
       "      <td>True</td>\n",
       "    </tr>\n",
       "    <tr>\n",
       "      <th>836</th>\n",
       "      <td>3</td>\n",
       "      <td>finishing</td>\n",
       "      <td>Wednesday</td>\n",
       "      <td>7</td>\n",
       "      <td>0.70</td>\n",
       "      <td>5.13</td>\n",
       "      <td>960</td>\n",
       "      <td>0</td>\n",
       "      <td>8</td>\n",
       "      <td>0.67</td>\n",
       "      <td>False</td>\n",
       "    </tr>\n",
       "    <tr>\n",
       "      <th>1119</th>\n",
       "      <td>2</td>\n",
       "      <td>sewing</td>\n",
       "      <td>Sunday</td>\n",
       "      <td>9</td>\n",
       "      <td>0.75</td>\n",
       "      <td>18.79</td>\n",
       "      <td>5640</td>\n",
       "      <td>45</td>\n",
       "      <td>52</td>\n",
       "      <td>0.75</td>\n",
       "      <td>True</td>\n",
       "    </tr>\n",
       "    <tr>\n",
       "      <th>576</th>\n",
       "      <td>1</td>\n",
       "      <td>sewing</td>\n",
       "      <td>Monday</td>\n",
       "      <td>5</td>\n",
       "      <td>0.50</td>\n",
       "      <td>30.10</td>\n",
       "      <td>6960</td>\n",
       "      <td>0</td>\n",
       "      <td>58</td>\n",
       "      <td>0.50</td>\n",
       "      <td>True</td>\n",
       "    </tr>\n",
       "    <tr>\n",
       "      <th>491</th>\n",
       "      <td>4</td>\n",
       "      <td>finishing</td>\n",
       "      <td>Wednesday</td>\n",
       "      <td>8</td>\n",
       "      <td>0.65</td>\n",
       "      <td>4.15</td>\n",
       "      <td>960</td>\n",
       "      <td>0</td>\n",
       "      <td>8</td>\n",
       "      <td>0.55</td>\n",
       "      <td>False</td>\n",
       "    </tr>\n",
       "    <tr>\n",
       "      <th>1155</th>\n",
       "      <td>2</td>\n",
       "      <td>finishing</td>\n",
       "      <td>Tuesday</td>\n",
       "      <td>1</td>\n",
       "      <td>0.75</td>\n",
       "      <td>3.94</td>\n",
       "      <td>960</td>\n",
       "      <td>0</td>\n",
       "      <td>8</td>\n",
       "      <td>0.88</td>\n",
       "      <td>True</td>\n",
       "    </tr>\n",
       "    <tr>\n",
       "      <th>313</th>\n",
       "      <td>3</td>\n",
       "      <td>finishing</td>\n",
       "      <td>Sunday</td>\n",
       "      <td>8</td>\n",
       "      <td>0.80</td>\n",
       "      <td>2.90</td>\n",
       "      <td>1440</td>\n",
       "      <td>0</td>\n",
       "      <td>8</td>\n",
       "      <td>0.64</td>\n",
       "      <td>False</td>\n",
       "    </tr>\n",
       "  </tbody>\n",
       "</table>\n",
       "</div>"
      ],
      "text/plain": [
       "      quarter department        day  team  targeted_productivity    smv  \\\n",
       "673         2     sewing     Sunday     8                   0.70  24.26   \n",
       "1055        1     sewing  Wednesday     3                   0.80  29.40   \n",
       "1082        1     sewing   Thursday    10                   0.70  21.82   \n",
       "828         3     sewing  Wednesday     5                   0.80  30.10   \n",
       "836         3  finishing  Wednesday     7                   0.70   5.13   \n",
       "1119        2     sewing     Sunday     9                   0.75  18.79   \n",
       "576         1     sewing     Monday     5                   0.50  30.10   \n",
       "491         4  finishing  Wednesday     8                   0.65   4.15   \n",
       "1155        2  finishing    Tuesday     1                   0.75   3.94   \n",
       "313         3  finishing     Sunday     8                   0.80   2.90   \n",
       "\n",
       "      over_time  incentive  no_of_workers  actual_productivity  productive  \n",
       "673        6840          0             57                 0.35       False  \n",
       "1055       6840         63             57                 0.80        True  \n",
       "1082       6000         30             50                 0.70        True  \n",
       "828           0          0             59                 0.80        True  \n",
       "836         960          0              8                 0.67       False  \n",
       "1119       5640         45             52                 0.75        True  \n",
       "576        6960          0             58                 0.50        True  \n",
       "491         960          0              8                 0.55       False  \n",
       "1155        960          0              8                 0.88        True  \n",
       "313        1440          0              8                 0.64       False  "
      ]
     },
     "execution_count": 25,
     "metadata": {},
     "output_type": "execute_result"
    }
   ],
   "source": [
    "df[\"productive\"] = df[\"actual_productivity\"] >= df[\"targeted_productivity\"]\n",
    "df.sample(10, random_state = 23)"
   ]
  },
  {
   "cell_type": "markdown",
   "metadata": {},
   "source": [
    "We re-arrange the order of the columns to enhance readability."
   ]
  },
  {
   "cell_type": "code",
   "execution_count": 26,
   "metadata": {},
   "outputs": [
    {
     "data": {
      "text/html": [
       "<div>\n",
       "<style scoped>\n",
       "    .dataframe tbody tr th:only-of-type {\n",
       "        vertical-align: middle;\n",
       "    }\n",
       "\n",
       "    .dataframe tbody tr th {\n",
       "        vertical-align: top;\n",
       "    }\n",
       "\n",
       "    .dataframe thead th {\n",
       "        text-align: right;\n",
       "    }\n",
       "</style>\n",
       "<table border=\"1\" class=\"dataframe\">\n",
       "  <thead>\n",
       "    <tr style=\"text-align: right;\">\n",
       "      <th></th>\n",
       "      <th>quarter</th>\n",
       "      <th>day</th>\n",
       "      <th>department</th>\n",
       "      <th>team</th>\n",
       "      <th>no_of_workers</th>\n",
       "      <th>targeted_productivity</th>\n",
       "      <th>actual_productivity</th>\n",
       "      <th>productive</th>\n",
       "      <th>over_time</th>\n",
       "      <th>smv</th>\n",
       "      <th>incentive</th>\n",
       "    </tr>\n",
       "  </thead>\n",
       "  <tbody>\n",
       "    <tr>\n",
       "      <th>0</th>\n",
       "      <td>1</td>\n",
       "      <td>Thursday</td>\n",
       "      <td>sewing</td>\n",
       "      <td>8</td>\n",
       "      <td>59</td>\n",
       "      <td>0.80</td>\n",
       "      <td>0.94</td>\n",
       "      <td>True</td>\n",
       "      <td>7080</td>\n",
       "      <td>26.16</td>\n",
       "      <td>98</td>\n",
       "    </tr>\n",
       "    <tr>\n",
       "      <th>1</th>\n",
       "      <td>1</td>\n",
       "      <td>Thursday</td>\n",
       "      <td>finishing</td>\n",
       "      <td>1</td>\n",
       "      <td>8</td>\n",
       "      <td>0.75</td>\n",
       "      <td>0.89</td>\n",
       "      <td>True</td>\n",
       "      <td>960</td>\n",
       "      <td>3.94</td>\n",
       "      <td>0</td>\n",
       "    </tr>\n",
       "    <tr>\n",
       "      <th>2</th>\n",
       "      <td>1</td>\n",
       "      <td>Thursday</td>\n",
       "      <td>sewing</td>\n",
       "      <td>11</td>\n",
       "      <td>30</td>\n",
       "      <td>0.80</td>\n",
       "      <td>0.80</td>\n",
       "      <td>True</td>\n",
       "      <td>3660</td>\n",
       "      <td>11.41</td>\n",
       "      <td>50</td>\n",
       "    </tr>\n",
       "    <tr>\n",
       "      <th>3</th>\n",
       "      <td>1</td>\n",
       "      <td>Thursday</td>\n",
       "      <td>sewing</td>\n",
       "      <td>12</td>\n",
       "      <td>30</td>\n",
       "      <td>0.80</td>\n",
       "      <td>0.80</td>\n",
       "      <td>True</td>\n",
       "      <td>3660</td>\n",
       "      <td>11.41</td>\n",
       "      <td>50</td>\n",
       "    </tr>\n",
       "    <tr>\n",
       "      <th>4</th>\n",
       "      <td>1</td>\n",
       "      <td>Thursday</td>\n",
       "      <td>sewing</td>\n",
       "      <td>6</td>\n",
       "      <td>56</td>\n",
       "      <td>0.80</td>\n",
       "      <td>0.80</td>\n",
       "      <td>True</td>\n",
       "      <td>1920</td>\n",
       "      <td>25.90</td>\n",
       "      <td>50</td>\n",
       "    </tr>\n",
       "  </tbody>\n",
       "</table>\n",
       "</div>"
      ],
      "text/plain": [
       "   quarter       day department  team  no_of_workers  targeted_productivity  \\\n",
       "0        1  Thursday     sewing     8             59                   0.80   \n",
       "1        1  Thursday  finishing     1              8                   0.75   \n",
       "2        1  Thursday     sewing    11             30                   0.80   \n",
       "3        1  Thursday     sewing    12             30                   0.80   \n",
       "4        1  Thursday     sewing     6             56                   0.80   \n",
       "\n",
       "   actual_productivity  productive  over_time    smv  incentive  \n",
       "0                 0.94        True       7080  26.16         98  \n",
       "1                 0.89        True        960   3.94          0  \n",
       "2                 0.80        True       3660  11.41         50  \n",
       "3                 0.80        True       3660  11.41         50  \n",
       "4                 0.80        True       1920  25.90         50  "
      ]
     },
     "execution_count": 26,
     "metadata": {},
     "output_type": "execute_result"
    }
   ],
   "source": [
    "df = df[[\"quarter\", \"day\", \"department\", \"team\", \"no_of_workers\", \"targeted_productivity\", \n",
    "        \"actual_productivity\", \"productive\", \"over_time\", \"smv\", \"incentive\"]]\n",
    "df.head()"
   ]
  },
  {
   "cell_type": "markdown",
   "metadata": {},
   "source": [
    "## Converting categorical clumns to dummies\n",
    "\n",
    "In order to prepare our data for the decision tree modelling, we need to make sure that we only pass on numerical data as features. Hence we have to dummy-code all of the categorical variables. We will recode the `department`column by hand. For the columns `quarter`, `day`, and `team` we will use the `OneHotEncoder` with the  `make_column_transformer`tool."
   ]
  },
  {
   "cell_type": "code",
   "execution_count": 27,
   "metadata": {},
   "outputs": [],
   "source": [
    "# recoding and renaming the department column\n",
    "df[\"department\"] = df[\"department\"].replace({\"finishing\": 0, \"sewing\": 1})\n",
    "df = df.rename(columns={\"department\": \"dept_sewing\"})"
   ]
  },
  {
   "cell_type": "code",
   "execution_count": 28,
   "metadata": {},
   "outputs": [
    {
     "name": "stdout",
     "output_type": "stream",
     "text": [
      "  quarter_1 quarter_2 quarter_3 quarter_4 day_Monday day_Saturday day_Sunday  \\\n",
      "0       1.0       0.0       0.0       0.0        0.0          0.0        0.0   \n",
      "1       1.0       0.0       0.0       0.0        0.0          0.0        0.0   \n",
      "2       1.0       0.0       0.0       0.0        0.0          0.0        0.0   \n",
      "3       1.0       0.0       0.0       0.0        0.0          0.0        0.0   \n",
      "4       1.0       0.0       0.0       0.0        0.0          0.0        0.0   \n",
      "\n",
      "  day_Thursday day_Tuesday day_Wednesday  ... team_11 team_12 dept_sewing  \\\n",
      "0          1.0         0.0           0.0  ...     0.0     0.0           1   \n",
      "1          1.0         0.0           0.0  ...     0.0     0.0           0   \n",
      "2          1.0         0.0           0.0  ...     1.0     0.0           1   \n",
      "3          1.0         0.0           0.0  ...     0.0     1.0           1   \n",
      "4          1.0         0.0           0.0  ...     0.0     0.0           1   \n",
      "\n",
      "  no_of_workers targeted_productivity actual_productivity productive  \\\n",
      "0            59                   0.8                0.94       True   \n",
      "1             8                  0.75                0.89       True   \n",
      "2            30                   0.8                 0.8       True   \n",
      "3            30                   0.8                 0.8       True   \n",
      "4            56                   0.8                 0.8       True   \n",
      "\n",
      "  over_time    smv incentive  \n",
      "0      7080  26.16        98  \n",
      "1       960   3.94         0  \n",
      "2      3660  11.41        50  \n",
      "3      3660  11.41        50  \n",
      "4      1920   25.9        50  \n",
      "\n",
      "[5 rows x 30 columns]\n"
     ]
    }
   ],
   "source": [
    "# recoding categorical columns using the OneHotEncoder\n",
    "df_col_trans = make_column_transformer(\n",
    "        (OneHotEncoder(), ['quarter', 'day', 'team']),\n",
    "        remainder = \"passthrough\",\n",
    "        verbose_feature_names_out = False)\n",
    "\n",
    "onehot_df = df_col_trans.fit_transform(df)\n",
    "\n",
    "onehot_df = pd.DataFrame(onehot_df,\n",
    "            columns = df_col_trans.get_feature_names_out())\n",
    "\n",
    "print(onehot_df.head())\n",
    "\n",
    "# replace df with onehot_df\n",
    "df = onehot_df"
   ]
  },
  {
   "cell_type": "markdown",
   "metadata": {},
   "source": [
    "We are now done with data cleaning and can start building our decision tree!"
   ]
  },
  {
   "cell_type": "markdown",
   "metadata": {},
   "source": [
    "## Building the tree\n",
    "\n",
    "We remove the `actual_productivity`column since we are only interested in the binary outcome `productive`. We assign the `productive`colum to `y`."
   ]
  },
  {
   "cell_type": "code",
   "execution_count": 29,
   "metadata": {},
   "outputs": [],
   "source": [
    "# Setting up features and outcome\n",
    "df['productive'] = df['productive'].astype(bool)\n",
    "y = df['productive']\n",
    "X = df.drop([\"actual_productivity\", \"productive\"], axis = 1)"
   ]
  },
  {
   "cell_type": "markdown",
   "metadata": {},
   "source": [
    "For the split into training and test data, we decide to assign 20% of the data to our test set."
   ]
  },
  {
   "cell_type": "code",
   "execution_count": 30,
   "metadata": {},
   "outputs": [],
   "source": [
    "# Split into training and test data\n",
    "X_train, X_test, y_train, y_test = train_test_split(X, y, test_size=0.2, shuffle=True, random_state=23)"
   ]
  },
  {
   "cell_type": "code",
   "execution_count": 31,
   "metadata": {},
   "outputs": [
    {
     "data": {
      "text/html": [
       "<style>#sk-container-id-1 {color: black;background-color: white;}#sk-container-id-1 pre{padding: 0;}#sk-container-id-1 div.sk-toggleable {background-color: white;}#sk-container-id-1 label.sk-toggleable__label {cursor: pointer;display: block;width: 100%;margin-bottom: 0;padding: 0.3em;box-sizing: border-box;text-align: center;}#sk-container-id-1 label.sk-toggleable__label-arrow:before {content: \"▸\";float: left;margin-right: 0.25em;color: #696969;}#sk-container-id-1 label.sk-toggleable__label-arrow:hover:before {color: black;}#sk-container-id-1 div.sk-estimator:hover label.sk-toggleable__label-arrow:before {color: black;}#sk-container-id-1 div.sk-toggleable__content {max-height: 0;max-width: 0;overflow: hidden;text-align: left;background-color: #f0f8ff;}#sk-container-id-1 div.sk-toggleable__content pre {margin: 0.2em;color: black;border-radius: 0.25em;background-color: #f0f8ff;}#sk-container-id-1 input.sk-toggleable__control:checked~div.sk-toggleable__content {max-height: 200px;max-width: 100%;overflow: auto;}#sk-container-id-1 input.sk-toggleable__control:checked~label.sk-toggleable__label-arrow:before {content: \"▾\";}#sk-container-id-1 div.sk-estimator input.sk-toggleable__control:checked~label.sk-toggleable__label {background-color: #d4ebff;}#sk-container-id-1 div.sk-label input.sk-toggleable__control:checked~label.sk-toggleable__label {background-color: #d4ebff;}#sk-container-id-1 input.sk-hidden--visually {border: 0;clip: rect(1px 1px 1px 1px);clip: rect(1px, 1px, 1px, 1px);height: 1px;margin: -1px;overflow: hidden;padding: 0;position: absolute;width: 1px;}#sk-container-id-1 div.sk-estimator {font-family: monospace;background-color: #f0f8ff;border: 1px dotted black;border-radius: 0.25em;box-sizing: border-box;margin-bottom: 0.5em;}#sk-container-id-1 div.sk-estimator:hover {background-color: #d4ebff;}#sk-container-id-1 div.sk-parallel-item::after {content: \"\";width: 100%;border-bottom: 1px solid gray;flex-grow: 1;}#sk-container-id-1 div.sk-label:hover label.sk-toggleable__label {background-color: #d4ebff;}#sk-container-id-1 div.sk-serial::before {content: \"\";position: absolute;border-left: 1px solid gray;box-sizing: border-box;top: 0;bottom: 0;left: 50%;z-index: 0;}#sk-container-id-1 div.sk-serial {display: flex;flex-direction: column;align-items: center;background-color: white;padding-right: 0.2em;padding-left: 0.2em;position: relative;}#sk-container-id-1 div.sk-item {position: relative;z-index: 1;}#sk-container-id-1 div.sk-parallel {display: flex;align-items: stretch;justify-content: center;background-color: white;position: relative;}#sk-container-id-1 div.sk-item::before, #sk-container-id-1 div.sk-parallel-item::before {content: \"\";position: absolute;border-left: 1px solid gray;box-sizing: border-box;top: 0;bottom: 0;left: 50%;z-index: -1;}#sk-container-id-1 div.sk-parallel-item {display: flex;flex-direction: column;z-index: 1;position: relative;background-color: white;}#sk-container-id-1 div.sk-parallel-item:first-child::after {align-self: flex-end;width: 50%;}#sk-container-id-1 div.sk-parallel-item:last-child::after {align-self: flex-start;width: 50%;}#sk-container-id-1 div.sk-parallel-item:only-child::after {width: 0;}#sk-container-id-1 div.sk-dashed-wrapped {border: 1px dashed gray;margin: 0 0.4em 0.5em 0.4em;box-sizing: border-box;padding-bottom: 0.4em;background-color: white;}#sk-container-id-1 div.sk-label label {font-family: monospace;font-weight: bold;display: inline-block;line-height: 1.2em;}#sk-container-id-1 div.sk-label-container {text-align: center;}#sk-container-id-1 div.sk-container {/* jupyter's `normalize.less` sets `[hidden] { display: none; }` but bootstrap.min.css set `[hidden] { display: none !important; }` so we also need the `!important` here to be able to override the default hidden behavior on the sphinx rendered scikit-learn.org. See: https://github.com/scikit-learn/scikit-learn/issues/21755 */display: inline-block !important;position: relative;}#sk-container-id-1 div.sk-text-repr-fallback {display: none;}</style><div id=\"sk-container-id-1\" class=\"sk-top-container\"><div class=\"sk-text-repr-fallback\"><pre>DecisionTreeClassifier(max_depth=3, random_state=23)</pre><b>In a Jupyter environment, please rerun this cell to show the HTML representation or trust the notebook. <br />On GitHub, the HTML representation is unable to render, please try loading this page with nbviewer.org.</b></div><div class=\"sk-container\" hidden><div class=\"sk-item\"><div class=\"sk-estimator sk-toggleable\"><input class=\"sk-toggleable__control sk-hidden--visually\" id=\"sk-estimator-id-1\" type=\"checkbox\" checked><label for=\"sk-estimator-id-1\" class=\"sk-toggleable__label sk-toggleable__label-arrow\">DecisionTreeClassifier</label><div class=\"sk-toggleable__content\"><pre>DecisionTreeClassifier(max_depth=3, random_state=23)</pre></div></div></div></div></div>"
      ],
      "text/plain": [
       "DecisionTreeClassifier(max_depth=3, random_state=23)"
      ]
     },
     "execution_count": 31,
     "metadata": {},
     "output_type": "execute_result"
    }
   ],
   "source": [
    "# Set up the decision tree classifier and fit the tree\n",
    "class_tree_gini = DecisionTreeClassifier(criterion=\"gini\", max_depth=3, random_state=23)\n",
    "\n",
    "class_tree_gini.fit(X_train, y_train)"
   ]
  },
  {
   "cell_type": "code",
   "execution_count": 32,
   "metadata": {},
   "outputs": [
    {
     "name": "stdout",
     "output_type": "stream",
     "text": [
      "0.81\n"
     ]
    }
   ],
   "source": [
    "# checking the accuracy\n",
    "y_pred = class_tree_gini.predict(X_test)\n",
    "print(round(accuracy_score(y_test,y_pred), 2))"
   ]
  },
  {
   "cell_type": "markdown",
   "metadata": {},
   "source": [
    "This initial accuracy of 0.81 is not bad, but certainly there is room for improvement. Before we look into ways of optimizing the model, we will plot our tree."
   ]
  },
  {
   "cell_type": "markdown",
   "metadata": {},
   "source": [
    "## Visualizing and evaluating the tree"
   ]
  },
  {
   "cell_type": "code",
   "execution_count": 33,
   "metadata": {},
   "outputs": [
    {
     "data": {
      "image/png": "[encoded data removed]",
      "text/plain": [
       "<Figure size 2000x800 with 1 Axes>"
      ]
     },
     "metadata": {},
     "output_type": "display_data"
    }
   ],
   "source": [
    "# Visualizing the tree\n",
    "sns.set(style=\"whitegrid\")\n",
    "target_names = ['Unproductive', 'Productive'] # display target class\n",
    "plt.figure(figsize=(20, 8))\n",
    "\n",
    "plot_tree(\n",
    "    class_tree_gini,\n",
    "    feature_names=X_train.columns,  \n",
    "    class_names=target_names,        \n",
    "    filled=True,                     \n",
    "    rounded=True,                    \n",
    "    impurity=True, \n",
    "    proportion = True, \n",
    "    fontsize = 11 \n",
    ")\n",
    "\n",
    "plt.title(\"Decision Tree for Worker Productivity\")\n",
    "plt.show()"
   ]
  },
  {
   "cell_type": "markdown",
   "metadata": {},
   "source": [
    "Given our chosen maximum depth of the tree (3 levels), we find that only a few of our features are contributing to the prediction of the decision tree: `incentive`, `smv` (Standard Minute Value, or the allocated time for a task), and `no_of_workers` (number of workers). There are different ways of ending up in the Productive or Unproductive class. Let's look at the left side of the tree first.\n",
    "\n",
    "The first way of ending up in the Unproductive class is belonging to the set of cases with an incentive <=22, a Standard Minute Value below 3.92 (that is an smv value in the lowest quartile) and a very low number of workers (work groups with on average less then 8.5 workers). 8% of our total cases can be assigned to this kind of unproductivity. One possible explanation could be that there are too few workers per work unit for a task that has a very short finishing time assigned. This unproductivity can be countered by assigning more workers. If the other conditions stay the same, but more than 8.5 workers are assigned, the cases reach the Productive class (a total of 1.6%).\n",
    "\n",
    "Another path to Unproductivity is given for those tasks that are more elaborate and require more time, and hence a higher smv value. Cases in the range larger than 3.92 and smaller or equal than 4.865 will be productive (29.2%) of cases, but if the task is more elaborate than that (exceeding smv of 4.865), the cases end up in the Unproductive category. Here, more workers wouldn't help, but potentially the tasks can be broken down into smaller steps with lower smv, which would increase productivity.\n",
    "\n",
    "Looking at the right side of our tree, we find that there are generally only very small chances to end up in an unproductive class when the paid incentive is higher than 22. (The company might want to think about increasing incentives.) The first path leading to unproductivity is given by cases where we are facing a very high smv (higher than 31.16). No matter the incentive, the cases will then end up in the Unproductive category. Again, splitting up the task into smaller steps could help. Note however, that these two unproductivity classes only make up 1.3% of the total sample. Another Unproductive path is given by existing incentives, but very low smv values (<=3.92). It is not clear what could be done in this case, since the number of workers is not related to this path. But it also only covers 0.5% of our cases. Finally, the most likely outcome in the right side (and in our sample overall) is ending up in the Productive class. Cases where incentives of at least 22 are being paid, the smv is not exceedingly high or exceedingly low will be productive."
   ]
  },
  {
   "cell_type": "markdown",
   "metadata": {},
   "source": [
    "## Explaining the tree\n",
    "\n",
    "Based on these results, we can summarise the findings in a non-tehcnical way. In order to reach a productive level, the following steps need to be taken:\n",
    "\n",
    "- Pay a mimimum incentive of 22. The chances of ending up in an unproductive class are minimal if this is the case.\n",
    "- For tasks with very small smv-values, assign more workers. At the current team-size of less than 8.5 workers in the low-smv units, i.e. the teams that need to fulfill simple short tasks, but at a high rate, more workers are needed to fulfill that target.\n",
    "- Consider breaking down more elaborate tasks into simpler production steps. Tasks with an smv-value above 4.865 minutes will suffer from unproductivity. If simplified, these tasks can be distributed mroe easily.\n",
    "- Try to keep tasks in a moderate smv range, i.e. not to small (simple,but high throughput) nor too elaborate (too complex). Most of the productive cases fall into this range."
   ]
  },
  {
   "cell_type": "markdown",
   "metadata": {},
   "source": [
    "## Using Random Forest\n",
    "\n",
    "In order to make our model more accurate, we will now apply ensemble methods, i.e. a Random Forest to our data."
   ]
  },
  {
   "cell_type": "code",
   "execution_count": 34,
   "metadata": {},
   "outputs": [
    {
     "name": "stdout",
     "output_type": "stream",
     "text": [
      "Accuracy: 0.8\n",
      "OOB Score: 0.8\n"
     ]
    }
   ],
   "source": [
    "# Random Forest Classifier\n",
    "\n",
    "random_for_class = RandomForestClassifier(n_estimators=100, max_depth=3, oob_score=True, random_state=23, n_jobs=-1)\n",
    "random_for_class.fit(X, y)\n",
    "oob_score = random_for_class.oob_score_\n",
    "\n",
    "# Accuracy and Out of Bag scores\n",
    "y_pred_forest = random_for_class.predict(X_test)\n",
    "print(\"Accuracy:\", round(accuracy_score(y_test,y_pred_forest), 2))\n",
    "print(\"OOB Score:\", round(oob_score, 2))"
   ]
  },
  {
   "cell_type": "markdown",
   "metadata": {},
   "source": [
    "These results are encouraging, as they validate our previous results even after using the Random Forest Classifier.\n",
    "Let us just double check if we can improve the accuracy by allowing more depth for the decision tree."
   ]
  },
  {
   "cell_type": "code",
   "execution_count": 35,
   "metadata": {},
   "outputs": [
    {
     "name": "stdout",
     "output_type": "stream",
     "text": [
      "Accuracy: 0.85\n",
      "OOB Score: 0.82\n"
     ]
    }
   ],
   "source": [
    "# Random Forest Classifier with more depth\n",
    "\n",
    "random_for_class = RandomForestClassifier(n_estimators=100, max_depth=6, oob_score=True, random_state=23, n_jobs=-1)\n",
    "random_for_class.fit(X, y)\n",
    "oob_score = random_for_class.oob_score_\n",
    "\n",
    "# Accuracy and Out of Bag scores\n",
    "y_pred_forest = random_for_class.predict(X_test)\n",
    "print(\"Accuracy:\", round(accuracy_score(y_test,y_pred_forest), 2))\n",
    "print(\"OOB Score:\", round(oob_score, 2))"
   ]
  },
  {
   "cell_type": "markdown",
   "metadata": {},
   "source": [
    "Since we can improve our accuracy somewhat, let's make sure that by allowing a higher maximum depth will not change the overall importance of the predictors that we have already found. For this, we loop through all the fitted trees, identify the best fitted model and check how important each feature is in the best model."
   ]
  },
  {
   "cell_type": "code",
   "execution_count": 39,
   "metadata": {},
   "outputs": [
    {
     "name": "stdout",
     "output_type": "stream",
     "text": [
      "Best Estimator Index: 53, Accuracy: 0.85\n"
     ]
    }
   ],
   "source": [
    "# Suppress UserWarnings\n",
    "import warnings\n",
    "warnings.filterwarnings(\"ignore\", category=UserWarning)\n",
    "    \n",
    "# Loop through list of fitted trees and find the most accurate one\n",
    "accuracies = []\n",
    "for i, tree in enumerate(random_for_class.estimators_):\n",
    "    tree_pred = tree.predict(X_test)\n",
    "    tree_accuracy = accuracy_score(y_test, tree_pred)\n",
    "    accuracies.append((i, tree_accuracy))\n",
    "\n",
    "# Find the index of the best estimator\n",
    "best_index, best_accuracy = max(accuracies, key=lambda x: x[1])\n",
    "print(f\"Best Estimator Index: {best_index}, Accuracy: {best_accuracy:.2f}\")\n"
   ]
  },
  {
   "cell_type": "code",
   "execution_count": 37,
   "metadata": {},
   "outputs": [
    {
     "name": "stdout",
     "output_type": "stream",
     "text": [
      "                  Feature  Importance\n",
      "27              incentive    0.232104\n",
      "26                    smv    0.214907\n",
      "23          no_of_workers    0.153352\n",
      "22            dept_sewing    0.064078\n",
      "8             day_Tuesday    0.060710\n",
      "24  targeted_productivity    0.057146\n",
      "25              over_time    0.038299\n",
      "2               quarter_3    0.035148\n",
      "15                 team_6    0.032475\n",
      "4              day_Monday    0.022029\n",
      "16                 team_7    0.020345\n",
      "19                team_10    0.015136\n",
      "5            day_Saturday    0.014838\n",
      "1               quarter_2    0.012810\n",
      "9           day_Wednesday    0.010904\n",
      "3               quarter_4    0.008053\n",
      "12                 team_3    0.007383\n",
      "7            day_Thursday    0.000234\n",
      "0               quarter_1    0.000047\n",
      "18                 team_9    0.000000\n",
      "20                team_11    0.000000\n",
      "21                team_12    0.000000\n",
      "17                 team_8    0.000000\n",
      "13                 team_4    0.000000\n",
      "11                 team_2    0.000000\n",
      "10                 team_1    0.000000\n",
      "6              day_Sunday    0.000000\n",
      "14                 team_5    0.000000\n"
     ]
    }
   ],
   "source": [
    "# Get the best estimator\n",
    "best_estimator = random_for_class.estimators_[best_index]\n",
    "\n",
    "# Feature importances\n",
    "importances = best_estimator.feature_importances_\n",
    "feature_names = X_train.columns  # Adjust if your features are in a different format\n",
    "\n",
    "# Assemble importances in a dataframe\n",
    "importances_df = pd.DataFrame({\n",
    "    'Feature': feature_names,\n",
    "    'Importance': importances\n",
    "})\n",
    "\n",
    "# Sort by importance\n",
    "importances_df = importances_df.sort_values(by='Importance', ascending=False)\n",
    "print(importances_df)\n"
   ]
  },
  {
   "cell_type": "markdown",
   "metadata": {},
   "source": [
    "As before, we see that the three most important variables are `incentive`, `smv`, and `no_of_workers`. Therefore, the increase of the maximum depth does not add any new substantial classifying variables, but refines the thresholds of the ones that we alread identified. We therefore do not have to change the interpretation that we gave previously."
   ]
  },
  {
   "cell_type": "markdown",
   "metadata": {},
   "source": [
    "## Conclusion\n",
    "\n",
    "This project showed that Decision Trees and Random Forests are powerful tools that can guide decisions to improve worker productivity. In this project we found that the most important factors of productivity in the garment industry are incentives, the Standard Minute Value, i.e. whether a task is simple and gets assigned little time but a high frequency, or a task is elaborate, and the number of workers.\n",
    "Generally, paying a minimum level of incentives will overall improve productivity. More productivity gains can be achieved by avoiding too low smv values, i.e. assigning more people to simple tasks that need a high frequency. Additionally, very elaborate tasks should be avoided and instead broken down into smaller steps that can be distributed.\n",
    "\n",
    "We could try to make our models more accurate by using GridSearch or similar techniques, but also after allowing more depth to the Decision Trees did not lead to other variables being assigned a higher importance. With an accuracy in the range of 0.8 to 0.85 we think that the current model makes adequately accurate predictions."
   ]
  },
  {
   "cell_type": "code",
   "execution_count": null,
   "metadata": {},
   "outputs": [],
   "source": []
  }
 ],
 "metadata": {
  "kernelspec": {
   "display_name": "Python 3 (ipykernel)",
   "language": "python",
   "name": "python3"
  },
  "language_info": {
   "codemirror_mode": {
    "name": "ipython",
    "version": 3
   },
   "file_extension": ".py",
   "mimetype": "text/x-python",
   "name": "python",
   "nbconvert_exporter": "python",
   "pygments_lexer": "ipython3",
   "version": "3.10.6"
  }
 },
 "nbformat": 4,
 "nbformat_minor": 4
}
