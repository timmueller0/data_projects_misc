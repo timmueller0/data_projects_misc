{
 "cells": [
  {
   "cell_type": "markdown",
   "metadata": {
    "collapsed": true
   },
   "source": [
    "# Clean and Analyze Employee Exit Surveys\n",
    "\n",
    "In this project, we'll work with exit surveys from employees of the [Department of Education, Training and Employment](https://en.wikipedia.org/wiki/Department_of_Education_and_Training_(Queensland)) (DETE) and the Technical and Further Education (TAFE) institute in Queensland, Australia. You can find the DETE exit survey data [here](https://data.gov.au/dataset/ds-qld-fe96ff30-d157-4a81-851d-215f2a0fe26d/details?q=exit%20survey). The original TAFE exit survey data is no longer available. We've made some slight modifications to the original datasets to make them easier to work with, including changing the encoding to `UTF-8` (the original ones are encoded using `cp1252`.)\n",
    "\n",
    "We want to answer the following questions:\n",
    "\n",
    "* Are employees who only worked for the institutes for a short period of time resigning due to some kind of dissatisfaction? What about employees who have been there longer?\n",
    "* Are younger employees resigning due to some kind of dissatisfaction? What about older employees?\n",
    "\n",
    "Both datasets include data to answer these questions, but they are not indetically coded and need to be cleaned in order to be compared."
   ]
  },
  {
   "cell_type": "markdown",
   "metadata": {},
   "source": [
    "## Reading in the data, loading the libraries and initial data exploration"
   ]
  },
  {
   "cell_type": "code",
   "execution_count": 1,
   "metadata": {},
   "outputs": [
    {
     "name": "stdout",
     "output_type": "stream",
     "text": [
      "<class 'pandas.core.frame.DataFrame'>\n",
      "RangeIndex: 822 entries, 0 to 821\n",
      "Data columns (total 56 columns):\n",
      " #   Column                               Non-Null Count  Dtype \n",
      "---  ------                               --------------  ----- \n",
      " 0   ID                                   822 non-null    int64 \n",
      " 1   SeparationType                       822 non-null    object\n",
      " 2   Cease Date                           822 non-null    object\n",
      " 3   DETE Start Date                      822 non-null    object\n",
      " 4   Role Start Date                      822 non-null    object\n",
      " 5   Position                             817 non-null    object\n",
      " 6   Classification                       455 non-null    object\n",
      " 7   Region                               822 non-null    object\n",
      " 8   Business Unit                        126 non-null    object\n",
      " 9   Employment Status                    817 non-null    object\n",
      " 10  Career move to public sector         822 non-null    bool  \n",
      " 11  Career move to private sector        822 non-null    bool  \n",
      " 12  Interpersonal conflicts              822 non-null    bool  \n",
      " 13  Job dissatisfaction                  822 non-null    bool  \n",
      " 14  Dissatisfaction with the department  822 non-null    bool  \n",
      " 15  Physical work environment            822 non-null    bool  \n",
      " 16  Lack of recognition                  822 non-null    bool  \n",
      " 17  Lack of job security                 822 non-null    bool  \n",
      " 18  Work location                        822 non-null    bool  \n",
      " 19  Employment conditions                822 non-null    bool  \n",
      " 20  Maternity/family                     822 non-null    bool  \n",
      " 21  Relocation                           822 non-null    bool  \n",
      " 22  Study/Travel                         822 non-null    bool  \n",
      " 23  Ill Health                           822 non-null    bool  \n",
      " 24  Traumatic incident                   822 non-null    bool  \n",
      " 25  Work life balance                    822 non-null    bool  \n",
      " 26  Workload                             822 non-null    bool  \n",
      " 27  None of the above                    822 non-null    bool  \n",
      " 28  Professional Development             808 non-null    object\n",
      " 29  Opportunities for promotion          735 non-null    object\n",
      " 30  Staff morale                         816 non-null    object\n",
      " 31  Workplace issue                      788 non-null    object\n",
      " 32  Physical environment                 817 non-null    object\n",
      " 33  Worklife balance                     815 non-null    object\n",
      " 34  Stress and pressure support          810 non-null    object\n",
      " 35  Performance of supervisor            813 non-null    object\n",
      " 36  Peer support                         812 non-null    object\n",
      " 37  Initiative                           813 non-null    object\n",
      " 38  Skills                               811 non-null    object\n",
      " 39  Coach                                767 non-null    object\n",
      " 40  Career Aspirations                   746 non-null    object\n",
      " 41  Feedback                             792 non-null    object\n",
      " 42  Further PD                           768 non-null    object\n",
      " 43  Communication                        814 non-null    object\n",
      " 44  My say                               812 non-null    object\n",
      " 45  Information                          816 non-null    object\n",
      " 46  Kept informed                        813 non-null    object\n",
      " 47  Wellness programs                    766 non-null    object\n",
      " 48  Health & Safety                      793 non-null    object\n",
      " 49  Gender                               798 non-null    object\n",
      " 50  Age                                  811 non-null    object\n",
      " 51  Aboriginal                           16 non-null     object\n",
      " 52  Torres Strait                        3 non-null      object\n",
      " 53  South Sea                            7 non-null      object\n",
      " 54  Disability                           23 non-null     object\n",
      " 55  NESB                                 32 non-null     object\n",
      "dtypes: bool(18), int64(1), object(37)\n",
      "memory usage: 258.6+ KB\n",
      "None\n",
      "\n",
      "\n",
      "   ID                    SeparationType Cease Date DETE Start Date  \\\n",
      "0   1             Ill Health Retirement    08/2012            1984   \n",
      "1   2  Voluntary Early Retirement (VER)    08/2012      Not Stated   \n",
      "2   3  Voluntary Early Retirement (VER)    05/2012            2011   \n",
      "3   4         Resignation-Other reasons    05/2012            2005   \n",
      "4   5                    Age Retirement    05/2012            1970   \n",
      "\n",
      "  Role Start Date                                      Position  \\\n",
      "0            2004                                Public Servant   \n",
      "1      Not Stated                                Public Servant   \n",
      "2            2011                               Schools Officer   \n",
      "3            2006                                       Teacher   \n",
      "4            1989  Head of Curriculum/Head of Special Education   \n",
      "\n",
      "  Classification              Region                      Business Unit  \\\n",
      "0        A01-A04      Central Office  Corporate Strategy and Peformance   \n",
      "1        AO5-AO7      Central Office  Corporate Strategy and Peformance   \n",
      "2            NaN      Central Office               Education Queensland   \n",
      "3        Primary  Central Queensland                                NaN   \n",
      "4            NaN          South East                                NaN   \n",
      "\n",
      "     Employment Status  ...  Kept informed  Wellness programs  \\\n",
      "0  Permanent Full-time  ...              N                  N   \n",
      "1  Permanent Full-time  ...              N                  N   \n",
      "2  Permanent Full-time  ...              N                  N   \n",
      "3  Permanent Full-time  ...              A                  N   \n",
      "4  Permanent Full-time  ...              N                  A   \n",
      "\n",
      "   Health & Safety  Gender          Age  Aboriginal  Torres Strait  South Sea  \\\n",
      "0                N    Male        56-60         NaN            NaN        NaN   \n",
      "1                N    Male        56-60         NaN            NaN        NaN   \n",
      "2                N    Male  61 or older         NaN            NaN        NaN   \n",
      "3                A  Female        36-40         NaN            NaN        NaN   \n",
      "4                M  Female  61 or older         NaN            NaN        NaN   \n",
      "\n",
      "   Disability  NESB  \n",
      "0         NaN   Yes  \n",
      "1         NaN   NaN  \n",
      "2         NaN   NaN  \n",
      "3         NaN   NaN  \n",
      "4         NaN   NaN  \n",
      "\n",
      "[5 rows x 56 columns]\n",
      "\n",
      "\n",
      "ID                                       0\n",
      "SeparationType                           0\n",
      "Cease Date                               0\n",
      "DETE Start Date                          0\n",
      "Role Start Date                          0\n",
      "Position                                 5\n",
      "Classification                         367\n",
      "Region                                   0\n",
      "Business Unit                          696\n",
      "Employment Status                        5\n",
      "Career move to public sector             0\n",
      "Career move to private sector            0\n",
      "Interpersonal conflicts                  0\n",
      "Job dissatisfaction                      0\n",
      "Dissatisfaction with the department      0\n",
      "Physical work environment                0\n",
      "Lack of recognition                      0\n",
      "Lack of job security                     0\n",
      "Work location                            0\n",
      "Employment conditions                    0\n",
      "Maternity/family                         0\n",
      "Relocation                               0\n",
      "Study/Travel                             0\n",
      "Ill Health                               0\n",
      "Traumatic incident                       0\n",
      "Work life balance                        0\n",
      "Workload                                 0\n",
      "None of the above                        0\n",
      "Professional Development                14\n",
      "Opportunities for promotion             87\n",
      "Staff morale                             6\n",
      "Workplace issue                         34\n",
      "Physical environment                     5\n",
      "Worklife balance                         7\n",
      "Stress and pressure support             12\n",
      "Performance of supervisor                9\n",
      "Peer support                            10\n",
      "Initiative                               9\n",
      "Skills                                  11\n",
      "Coach                                   55\n",
      "Career Aspirations                      76\n",
      "Feedback                                30\n",
      "Further PD                              54\n",
      "Communication                            8\n",
      "My say                                  10\n",
      "Information                              6\n",
      "Kept informed                            9\n",
      "Wellness programs                       56\n",
      "Health & Safety                         29\n",
      "Gender                                  24\n",
      "Age                                     11\n",
      "Aboriginal                             806\n",
      "Torres Strait                          819\n",
      "South Sea                              815\n",
      "Disability                             799\n",
      "NESB                                   790\n",
      "dtype: int64\n",
      "\n",
      "\n",
      "Primary              161\n",
      "Secondary            124\n",
      "A01-A04               66\n",
      "AO5-AO7               46\n",
      "Special Education     33\n",
      "AO8 and Above         14\n",
      "PO1-PO4                8\n",
      "Middle                 3\n",
      "Name: Classification, dtype: int64\n",
      "\n",
      "\n"
     ]
    }
   ],
   "source": [
    "import pandas as pd\n",
    "import numpy as np\n",
    "\n",
    "dete_survey = pd.read_csv('dete_survey.csv')\n",
    "tafe_survey = pd.read_csv('tafe_survey.csv')\n",
    "\n",
    "print(dete_survey.info())\n",
    "print('\\n')\n",
    "print(dete_survey.head())\n",
    "print('\\n')\n",
    "print(dete_survey.isnull().sum())\n",
    "print('\\n')\n",
    "print(dete_survey['Classification'].value_counts())\n",
    "print('\\n')"
   ]
  },
  {
   "cell_type": "markdown",
   "metadata": {},
   "source": [
    "For the `dete_survey` we observe that in total there are 822 observations, but a number of columns seem to have many missing values. We can identify variables like `Classification`, `Business Unit` and identifaction variables like `Aboriginal`or `Torres Strait`to have many (sometimes as many as 819 out of 822 cases) being missing. While the first two variables might represent cases where the respondents potentially were not willinign to give the respective information, or the information was not recorded for other reasons, the identification variables are probably counted as missing because they represent instances where a certain characteristic (i.e. being Aboriginal) is not given. They might be coded as 0/1 instead of missing. There are a number of other variables with missings, but a much smaller number. We might be able to drop those cases. Let's look at the `tafe_survey`."
   ]
  },
  {
   "cell_type": "code",
   "execution_count": 2,
   "metadata": {},
   "outputs": [
    {
     "name": "stdout",
     "output_type": "stream",
     "text": [
      "<class 'pandas.core.frame.DataFrame'>\n",
      "RangeIndex: 702 entries, 0 to 701\n",
      "Data columns (total 72 columns):\n",
      " #   Column                                                                                                                                                         Non-Null Count  Dtype  \n",
      "---  ------                                                                                                                                                         --------------  -----  \n",
      " 0   Record ID                                                                                                                                                      702 non-null    float64\n",
      " 1   Institute                                                                                                                                                      702 non-null    object \n",
      " 2   WorkArea                                                                                                                                                       702 non-null    object \n",
      " 3   CESSATION YEAR                                                                                                                                                 695 non-null    float64\n",
      " 4   Reason for ceasing employment                                                                                                                                  701 non-null    object \n",
      " 5   Contributing Factors. Career Move - Public Sector                                                                                                              437 non-null    object \n",
      " 6   Contributing Factors. Career Move - Private Sector                                                                                                             437 non-null    object \n",
      " 7   Contributing Factors. Career Move - Self-employment                                                                                                            437 non-null    object \n",
      " 8   Contributing Factors. Ill Health                                                                                                                               437 non-null    object \n",
      " 9   Contributing Factors. Maternity/Family                                                                                                                         437 non-null    object \n",
      " 10  Contributing Factors. Dissatisfaction                                                                                                                          437 non-null    object \n",
      " 11  Contributing Factors. Job Dissatisfaction                                                                                                                      437 non-null    object \n",
      " 12  Contributing Factors. Interpersonal Conflict                                                                                                                   437 non-null    object \n",
      " 13  Contributing Factors. Study                                                                                                                                    437 non-null    object \n",
      " 14  Contributing Factors. Travel                                                                                                                                   437 non-null    object \n",
      " 15  Contributing Factors. Other                                                                                                                                    437 non-null    object \n",
      " 16  Contributing Factors. NONE                                                                                                                                     437 non-null    object \n",
      " 17  Main Factor. Which of these was the main factor for leaving?                                                                                                   113 non-null    object \n",
      " 18  InstituteViews. Topic:1. I feel the senior leadership had a clear vision and direction                                                                         608 non-null    object \n",
      " 19  InstituteViews. Topic:2. I was given access to skills training to help me do my job better                                                                     613 non-null    object \n",
      " 20  InstituteViews. Topic:3. I was given adequate opportunities for personal development                                                                           610 non-null    object \n",
      " 21  InstituteViews. Topic:4. I was given adequate opportunities for promotion within %Institute]Q25LBL%                                                            608 non-null    object \n",
      " 22  InstituteViews. Topic:5. I felt the salary for the job was right for the responsibilities I had                                                                615 non-null    object \n",
      " 23  InstituteViews. Topic:6. The organisation recognised when staff did good work                                                                                  607 non-null    object \n",
      " 24  InstituteViews. Topic:7. Management was generally supportive of me                                                                                             614 non-null    object \n",
      " 25  InstituteViews. Topic:8. Management was generally supportive of my team                                                                                        608 non-null    object \n",
      " 26  InstituteViews. Topic:9. I was kept informed of the changes in the organisation which would affect me                                                          610 non-null    object \n",
      " 27  InstituteViews. Topic:10. Staff morale was positive within the Institute                                                                                       602 non-null    object \n",
      " 28  InstituteViews. Topic:11. If I had a workplace issue it was dealt with quickly                                                                                 601 non-null    object \n",
      " 29  InstituteViews. Topic:12. If I had a workplace issue it was dealt with efficiently                                                                             597 non-null    object \n",
      " 30  InstituteViews. Topic:13. If I had a workplace issue it was dealt with discreetly                                                                              601 non-null    object \n",
      " 31  WorkUnitViews. Topic:14. I was satisfied with the quality of the management and supervision within my work unit                                                609 non-null    object \n",
      " 32  WorkUnitViews. Topic:15. I worked well with my colleagues                                                                                                      605 non-null    object \n",
      " 33  WorkUnitViews. Topic:16. My job was challenging and interesting                                                                                                607 non-null    object \n",
      " 34  WorkUnitViews. Topic:17. I was encouraged to use my initiative in the course of my work                                                                        610 non-null    object \n",
      " 35  WorkUnitViews. Topic:18. I had sufficient contact with other people in my job                                                                                  613 non-null    object \n",
      " 36  WorkUnitViews. Topic:19. I was given adequate support and co-operation by my peers to enable me to do my job                                                   609 non-null    object \n",
      " 37  WorkUnitViews. Topic:20. I was able to use the full range of my skills in my job                                                                               609 non-null    object \n",
      " 38  WorkUnitViews. Topic:21. I was able to use the full range of my abilities in my job. ; Category:Level of Agreement; Question:YOUR VIEWS ABOUT YOUR WORK UNIT]  608 non-null    object \n",
      " 39  WorkUnitViews. Topic:22. I was able to use the full range of my knowledge in my job                                                                            608 non-null    object \n",
      " 40  WorkUnitViews. Topic:23. My job provided sufficient variety                                                                                                    611 non-null    object \n",
      " 41  WorkUnitViews. Topic:24. I was able to cope with the level of stress and pressure in my job                                                                    610 non-null    object \n",
      " 42  WorkUnitViews. Topic:25. My job allowed me to balance the demands of work and family to my satisfaction                                                        611 non-null    object \n",
      " 43  WorkUnitViews. Topic:26. My supervisor gave me adequate personal recognition and feedback on my performance                                                    606 non-null    object \n",
      " 44  WorkUnitViews. Topic:27. My working environment was satisfactory e.g. sufficient space, good lighting, suitable seating and working area                       610 non-null    object \n",
      " 45  WorkUnitViews. Topic:28. I was given the opportunity to mentor and coach others in order for me to pass on my skills and knowledge prior to my cessation date  609 non-null    object \n",
      " 46  WorkUnitViews. Topic:29. There was adequate communication between staff in my unit                                                                             603 non-null    object \n",
      " 47  WorkUnitViews. Topic:30. Staff morale was positive within my work unit                                                                                         606 non-null    object \n",
      " 48  Induction. Did you undertake Workplace Induction?                                                                                                              619 non-null    object \n",
      " 49  InductionInfo. Topic:Did you undertake a Corporate Induction?                                                                                                  432 non-null    object \n",
      " 50  InductionInfo. Topic:Did you undertake a Institute Induction?                                                                                                  483 non-null    object \n",
      " 51  InductionInfo. Topic: Did you undertake Team Induction?                                                                                                        440 non-null    object \n",
      " 52  InductionInfo. Face to Face Topic:Did you undertake a Corporate Induction; Category:How it was conducted?                                                      555 non-null    object \n",
      " 53  InductionInfo. On-line Topic:Did you undertake a Corporate Induction; Category:How it was conducted?                                                           555 non-null    object \n",
      " 54  InductionInfo. Induction Manual Topic:Did you undertake a Corporate Induction?                                                                                 555 non-null    object \n",
      " 55  InductionInfo. Face to Face Topic:Did you undertake a Institute Induction?                                                                                     530 non-null    object \n",
      " 56  InductionInfo. On-line Topic:Did you undertake a Institute Induction?                                                                                          555 non-null    object \n",
      " 57  InductionInfo. Induction Manual Topic:Did you undertake a Institute Induction?                                                                                 553 non-null    object \n",
      " 58  InductionInfo. Face to Face Topic: Did you undertake Team Induction; Category?                                                                                 555 non-null    object \n",
      " 59  InductionInfo. On-line Topic: Did you undertake Team Induction?process you undertook and how it was conducted.]                                                555 non-null    object \n",
      " 60  InductionInfo. Induction Manual Topic: Did you undertake Team Induction?                                                                                       555 non-null    object \n",
      " 61  Workplace. Topic:Did you and your Manager develop a Performance and Professional Development Plan (PPDP)?                                                      608 non-null    object \n",
      " 62  Workplace. Topic:Does your workplace promote a work culture free from all forms of unlawful discrimination?                                                    594 non-null    object \n",
      " 63  Workplace. Topic:Does your workplace promote and practice the principles of employment equity?                                                                 587 non-null    object \n",
      " 64  Workplace. Topic:Does your workplace value the diversity of its employees?                                                                                     586 non-null    object \n",
      " 65  Workplace. Topic:Would you recommend the Institute as an employer to others?                                                                                   581 non-null    object \n",
      " 66  Gender. What is your Gender?                                                                                                                                   596 non-null    object \n",
      " 67  CurrentAge. Current Age                                                                                                                                        596 non-null    object \n",
      " 68  Employment Type. Employment Type                                                                                                                               596 non-null    object \n",
      " 69  Classification. Classification                                                                                                                                 596 non-null    object \n",
      " 70  LengthofServiceOverall. Overall Length of Service at Institute (in years)                                                                                      596 non-null    object \n",
      " 71  LengthofServiceCurrent. Length of Service at current workplace (in years)                                                                                      596 non-null    object \n",
      "dtypes: float64(2), object(70)\n",
      "memory usage: 395.0+ KB\n",
      "None\n",
      "\n",
      "\n",
      "      Record ID                              Institute  \\\n",
      "0  6.341330e+17  Southern Queensland Institute of TAFE   \n",
      "1  6.341337e+17            Mount Isa Institute of TAFE   \n",
      "2  6.341388e+17            Mount Isa Institute of TAFE   \n",
      "3  6.341399e+17            Mount Isa Institute of TAFE   \n",
      "4  6.341466e+17  Southern Queensland Institute of TAFE   \n",
      "\n",
      "                   WorkArea  CESSATION YEAR Reason for ceasing employment  \\\n",
      "0  Non-Delivery (corporate)          2010.0              Contract Expired   \n",
      "1  Non-Delivery (corporate)          2010.0                    Retirement   \n",
      "2       Delivery (teaching)          2010.0                    Retirement   \n",
      "3  Non-Delivery (corporate)          2010.0                   Resignation   \n",
      "4       Delivery (teaching)          2010.0                   Resignation   \n",
      "\n",
      "  Contributing Factors. Career Move - Public Sector   \\\n",
      "0                                                NaN   \n",
      "1                                                  -   \n",
      "2                                                  -   \n",
      "3                                                  -   \n",
      "4                                                  -   \n",
      "\n",
      "  Contributing Factors. Career Move - Private Sector   \\\n",
      "0                                                NaN    \n",
      "1                                                  -    \n",
      "2                                                  -    \n",
      "3                                                  -    \n",
      "4                       Career Move - Private Sector    \n",
      "\n",
      "  Contributing Factors. Career Move - Self-employment  \\\n",
      "0                                                NaN    \n",
      "1                                                  -    \n",
      "2                                                  -    \n",
      "3                                                  -    \n",
      "4                                                  -    \n",
      "\n",
      "  Contributing Factors. Ill Health Contributing Factors. Maternity/Family  \\\n",
      "0                              NaN                                    NaN   \n",
      "1                                -                                      -   \n",
      "2                                -                                      -   \n",
      "3                                -                                      -   \n",
      "4                                -                                      -   \n",
      "\n",
      "   ...  \\\n",
      "0  ...   \n",
      "1  ...   \n",
      "2  ...   \n",
      "3  ...   \n",
      "4  ...   \n",
      "\n",
      "  Workplace. Topic:Does your workplace promote a work culture free from all forms of unlawful discrimination?  \\\n",
      "0                                                Yes                                                            \n",
      "1                                                Yes                                                            \n",
      "2                                                Yes                                                            \n",
      "3                                                Yes                                                            \n",
      "4                                                Yes                                                            \n",
      "\n",
      "  Workplace. Topic:Does your workplace promote and practice the principles of employment equity?  \\\n",
      "0                                                Yes                                               \n",
      "1                                                Yes                                               \n",
      "2                                                Yes                                               \n",
      "3                                                Yes                                               \n",
      "4                                                Yes                                               \n",
      "\n",
      "  Workplace. Topic:Does your workplace value the diversity of its employees?  \\\n",
      "0                                                Yes                           \n",
      "1                                                Yes                           \n",
      "2                                                Yes                           \n",
      "3                                                Yes                           \n",
      "4                                                Yes                           \n",
      "\n",
      "  Workplace. Topic:Would you recommend the Institute as an employer to others?  \\\n",
      "0                                                Yes                             \n",
      "1                                                Yes                             \n",
      "2                                                Yes                             \n",
      "3                                                Yes                             \n",
      "4                                                Yes                             \n",
      "\n",
      "  Gender. What is your Gender? CurrentAge. Current Age  \\\n",
      "0                       Female                  26  30   \n",
      "1                          NaN                     NaN   \n",
      "2                          NaN                     NaN   \n",
      "3                          NaN                     NaN   \n",
      "4                         Male                  41  45   \n",
      "\n",
      "  Employment Type. Employment Type Classification. Classification  \\\n",
      "0              Temporary Full-time            Administration (AO)   \n",
      "1                              NaN                            NaN   \n",
      "2                              NaN                            NaN   \n",
      "3                              NaN                            NaN   \n",
      "4              Permanent Full-time        Teacher (including LVT)   \n",
      "\n",
      "  LengthofServiceOverall. Overall Length of Service at Institute (in years)  \\\n",
      "0                                                1-2                          \n",
      "1                                                NaN                          \n",
      "2                                                NaN                          \n",
      "3                                                NaN                          \n",
      "4                                                3-4                          \n",
      "\n",
      "  LengthofServiceCurrent. Length of Service at current workplace (in years)  \n",
      "0                                                1-2                         \n",
      "1                                                NaN                         \n",
      "2                                                NaN                         \n",
      "3                                                NaN                         \n",
      "4                                                3-4                         \n",
      "\n",
      "[5 rows x 72 columns]\n",
      "\n",
      "\n",
      "Record ID                                                                      0\n",
      "Institute                                                                      0\n",
      "WorkArea                                                                       0\n",
      "CESSATION YEAR                                                                 7\n",
      "Reason for ceasing employment                                                  1\n",
      "                                                                            ... \n",
      "CurrentAge. Current Age                                                      106\n",
      "Employment Type. Employment Type                                             106\n",
      "Classification. Classification                                               106\n",
      "LengthofServiceOverall. Overall Length of Service at Institute (in years)    106\n",
      "LengthofServiceCurrent. Length of Service at current workplace (in years)    106\n",
      "Length: 72, dtype: int64\n",
      "\n",
      "\n",
      "\n",
      "\n"
     ]
    }
   ],
   "source": [
    "print(tafe_survey.info())\n",
    "print('\\n')\n",
    "print(tafe_survey.head())\n",
    "print('\\n')\n",
    "print(tafe_survey.isnull().sum())\n",
    "print('\\n')\n",
    "#print(tafe_survey['Classification'].value_counts())\n",
    "print('\\n')"
   ]
  },
  {
   "cell_type": "markdown",
   "metadata": {},
   "source": [
    "In the `tafe_survey` the question format, which was multiple choice for many questions, is contrubiting a lot to the count of missing values. Any time a tickbox was not ticked, we find a missing recorded. There are consistently missing values for 106 cases on age, emplyoment type and classification (and somem more variables). These migth baybe be empty rows? Potentially it could be worthwhile to explore these cases more. \n",
    "\n",
    "Overall it looks as if our main variables of interest do not containg too many missing values."
   ]
  },
  {
   "cell_type": "markdown",
   "metadata": {},
   "source": [
    "Additionally, we can infer that\n",
    "\n",
    "* The dete_survey dataframe contains 'Not Stated' values that indicate values are missing, but they aren't represented as NaN.\n",
    "* Both the dete_survey and tafe_survey dataframes contain many columns that we don't need to complete our analysis.\n",
    "* Each dataframe contains many of the same columns, but the column names are different.\n",
    "* There are multiple columns/answers that indicate an employee resigned because they were dissatisfied.\n",
    "\n",
    "To start, we'll handle the first two issues. We'll use the `pd.read_csv()` function to fix the missing values first. Then, we'll drop columns we know we don't need for our analysis.\n"
   ]
  },
  {
   "cell_type": "code",
   "execution_count": 3,
   "metadata": {},
   "outputs": [],
   "source": [
    "dete_survey = pd.read_csv('dete_survey.csv', na_values='Not Stated')\n",
    "dete_survey_updated = dete_survey.drop(dete_survey.columns[28:49], axis=1)\n",
    "\n",
    "tafe_survey_updated = tafe_survey.drop(tafe_survey.columns[17:66], axis=1)\n"
   ]
  },
  {
   "cell_type": "markdown",
   "metadata": {},
   "source": [
    "## Cleaning column names\n",
    "\n",
    "Next, let's turn our attention to the column names. Each dataframe contains many of the same columns, but the column names are different. We will rename the remaining columns in `dete_survey_updated` according to the following criteria:\n",
    "\n",
    "* Make all the capitalization lowercase.\n",
    "* Remove any trailing whitespace from the end of the strings.\n",
    "* Replace spaces with underscores ('_')."
   ]
  },
  {
   "cell_type": "code",
   "execution_count": 4,
   "metadata": {},
   "outputs": [
    {
     "name": "stdout",
     "output_type": "stream",
     "text": [
      "Index(['ID', 'SeparationType', 'Cease Date', 'DETE Start Date',\n",
      "       'Role Start Date', 'Position', 'Classification', 'Region',\n",
      "       'Business Unit', 'Employment Status', 'Career move to public sector',\n",
      "       'Career move to private sector', 'Interpersonal conflicts',\n",
      "       'Job dissatisfaction', 'Dissatisfaction with the department',\n",
      "       'Physical work environment', 'Lack of recognition',\n",
      "       'Lack of job security', 'Work location', 'Employment conditions',\n",
      "       'Maternity/family', 'Relocation', 'Study/Travel', 'Ill Health',\n",
      "       'Traumatic incident', 'Work life balance', 'Workload',\n",
      "       'None of the above', 'Gender', 'Age', 'Aboriginal', 'Torres Strait',\n",
      "       'South Sea', 'Disability', 'NESB'],\n",
      "      dtype='object')\n"
     ]
    }
   ],
   "source": [
    "print(dete_survey_updated.columns)"
   ]
  },
  {
   "cell_type": "code",
   "execution_count": 5,
   "metadata": {},
   "outputs": [
    {
     "name": "stdout",
     "output_type": "stream",
     "text": [
      "Index(['id', 'separationtype', 'cease_date', 'dete_start_date',\n",
      "       'role_start_date', 'position', 'classification', 'region',\n",
      "       'business_unit', 'employment_status', 'career_move_to_public_sector',\n",
      "       'career_move_to_private_sector', 'interpersonal_conflicts',\n",
      "       'job_dissatisfaction', 'dissatisfaction_with_the_department',\n",
      "       'physical_work_environment', 'lack_of_recognition',\n",
      "       'lack_of_job_security', 'work_location', 'employment_conditions',\n",
      "       'maternity_family', 'relocation', 'study_travel', 'ill_health',\n",
      "       'traumatic_incident', 'work_life_balance', 'workload',\n",
      "       'none_of_the_above', 'gender', 'age', 'aboriginal', 'torres_strait',\n",
      "       'south_sea', 'disability', 'nesb'],\n",
      "      dtype='object')\n"
     ]
    }
   ],
   "source": [
    "dete_survey_updated.columns = dete_survey_updated.columns.str.replace(' ', '_').str.replace('/', '_').str.strip().str.lower()\n",
    "print(dete_survey_updated.columns)"
   ]
  },
  {
   "cell_type": "markdown",
   "metadata": {},
   "source": [
    "We will also update the columns names in the `tafe_survey_updated` dataframe by renaming column names manually."
   ]
  },
  {
   "cell_type": "code",
   "execution_count": 6,
   "metadata": {},
   "outputs": [
    {
     "name": "stdout",
     "output_type": "stream",
     "text": [
      "Index(['id', 'Institute', 'WorkArea', 'cease_date', 'separationtype',\n",
      "       'Contributing Factors. Career Move - Public Sector ',\n",
      "       'Contributing Factors. Career Move - Private Sector ',\n",
      "       'Contributing Factors. Career Move - Self-employment',\n",
      "       'Contributing Factors. Ill Health',\n",
      "       'Contributing Factors. Maternity/Family',\n",
      "       'Contributing Factors. Dissatisfaction',\n",
      "       'Contributing Factors. Job Dissatisfaction',\n",
      "       'Contributing Factors. Interpersonal Conflict',\n",
      "       'Contributing Factors. Study', 'Contributing Factors. Travel',\n",
      "       'Contributing Factors. Other', 'Contributing Factors. NONE', 'gender',\n",
      "       'age', 'employment_status', 'position', 'institute_service',\n",
      "       'role_service'],\n",
      "      dtype='object')\n"
     ]
    }
   ],
   "source": [
    "mapping_dict = {'Record ID': 'id', 'CESSATION YEAR': 'cease_date', 'Reason for ceasing employment': 'separationtype', 'Gender. What is your Gender?': 'gender', 'CurrentAge. Current Age': 'age', 'Employment Type. Employment Type': 'employment_status', 'Classification. Classification': 'position', 'LengthofServiceOverall. Overall Length of Service at Institute (in years)': 'institute_service', 'LengthofServiceCurrent. Length of Service at current workplace (in years)': 'role_service'}\n",
    "tafe_survey_updated.rename(mapper=mapping_dict, axis=1, inplace=True)\n",
    "\n",
    "print(tafe_survey_updated.columns)"
   ]
  },
  {
   "cell_type": "markdown",
   "metadata": {},
   "source": [
    "The rest of the columns will be dealt with in a later step."
   ]
  },
  {
   "cell_type": "markdown",
   "metadata": {},
   "source": [
    "## Removing data that we don't need\n",
    "\n",
    "The research question is: Are employees who have only worked for the institutes for a short period of time resigning due to some kind of dissatisfaction? What about employees who have been at the job longer?\n",
    "\n",
    "If we look at the unique values in the `separationtype` columns in each dataframe, we'll see that each contains a couple of different separation types. For this project, we'll only analyze survey respondents who resigned, so their separation type contains the string 'Resignation'."
   ]
  },
  {
   "cell_type": "code",
   "execution_count": 7,
   "metadata": {},
   "outputs": [
    {
     "name": "stdout",
     "output_type": "stream",
     "text": [
      "Age Retirement                          285\n",
      "Resignation-Other reasons               150\n",
      "Resignation-Other employer               91\n",
      "Resignation-Move overseas/interstate     70\n",
      "Voluntary Early Retirement (VER)         67\n",
      "Ill Health Retirement                    61\n",
      "Other                                    49\n",
      "Contract Expired                         34\n",
      "Termination                              15\n",
      "Name: separationtype, dtype: int64\n",
      "\n",
      "\n",
      "Resignation                 340\n",
      "Contract Expired            127\n",
      "Retrenchment/ Redundancy    104\n",
      "Retirement                   82\n",
      "Transfer                     25\n",
      "Termination                  23\n",
      "Name: separationtype, dtype: int64\n"
     ]
    }
   ],
   "source": [
    "print(dete_survey_updated['separationtype'].value_counts())\n",
    "print('\\n')\n",
    "print(tafe_survey_updated['separationtype'].value_counts())"
   ]
  },
  {
   "cell_type": "code",
   "execution_count": 8,
   "metadata": {},
   "outputs": [],
   "source": [
    "# Create a boolean mask for dete_survey_update, only selecting resignations\n",
    "dete_resignations_mask = dete_survey_updated['separationtype'].str.contains(r\"Resignation\", na=False)\n",
    "\n",
    "# Use the mask to filter the dataframe\n",
    "dete_resignations = dete_survey_updated.loc[dete_resignations_mask]\n",
    "\n",
    "# Create a boolean mask for tafe_survey_update, only selecting resignations\n",
    "tafe_resignations_mask = tafe_survey_updated['separationtype'].str.contains(r\"Resignation\", na=False)\n",
    "\n",
    "# Use the mask to filter the dataframe\n",
    "tafe_resignations = tafe_survey_updated.loc[tafe_resignations_mask]"
   ]
  },
  {
   "cell_type": "markdown",
   "metadata": {},
   "source": [
    "## Verify the data\n",
    "\n",
    "In this step, we'll focus on verifying that the years in the cease_date and dete_start_date columns make sense. \n",
    "\n",
    "\n",
    "* Since the cease_date is the last year of the person's employment and the dete_start_date is the person's first year of employment, it wouldn't make sense to have years after the current date.\n",
    "* Given that most people in this field start working in their 20s, it's also unlikely that the dete_start_date was before the year 1940.\n",
    "\n",
    "We start by cleaning the cease and start date colums in both datasets."
   ]
  },
  {
   "cell_type": "code",
   "execution_count": 9,
   "metadata": {},
   "outputs": [
    {
     "name": "stdout",
     "output_type": "stream",
     "text": [
      "2012       126\n",
      "2013        74\n",
      "01/2014     22\n",
      "12/2013     17\n",
      "06/2013     14\n",
      "09/2013     11\n",
      "07/2013      9\n",
      "11/2013      9\n",
      "10/2013      6\n",
      "08/2013      4\n",
      "05/2012      2\n",
      "05/2013      2\n",
      "07/2006      1\n",
      "07/2012      1\n",
      "09/2010      1\n",
      "2010         1\n",
      "Name: cease_date, dtype: int64\n"
     ]
    }
   ],
   "source": [
    "print(dete_resignations['cease_date'].value_counts())"
   ]
  },
  {
   "cell_type": "code",
   "execution_count": 10,
   "metadata": {},
   "outputs": [
    {
     "name": "stdout",
     "output_type": "stream",
     "text": [
      "          0\n",
      "3    2012.0\n",
      "5    2012.0\n",
      "8    2012.0\n",
      "9    2012.0\n",
      "11   2012.0\n",
      "..      ...\n",
      "808  2013.0\n",
      "815  2014.0\n",
      "816  2014.0\n",
      "819  2014.0\n",
      "821  2013.0\n",
      "\n",
      "[311 rows x 1 columns]\n"
     ]
    }
   ],
   "source": [
    "pattern = r\"([1-2][0-9]{3})\"\n",
    "dete_years = dete_resignations['cease_date'].str.extract(pattern).astype(float)\n",
    "print(dete_years)"
   ]
  },
  {
   "cell_type": "code",
   "execution_count": 11,
   "metadata": {},
   "outputs": [
    {
     "name": "stderr",
     "output_type": "stream",
     "text": [
      "<ipython-input-11-a6df3e196234>:1: SettingWithCopyWarning: \n",
      "A value is trying to be set on a copy of a slice from a DataFrame.\n",
      "Try using .loc[row_indexer,col_indexer] = value instead\n",
      "\n",
      "See the caveats in the documentation: https://pandas.pydata.org/pandas-docs/stable/user_guide/indexing.html#returning-a-view-versus-a-copy\n",
      "  dete_resignations['cease_date'] = dete_years\n"
     ]
    }
   ],
   "source": [
    "dete_resignations['cease_date'] = dete_years"
   ]
  },
  {
   "cell_type": "code",
   "execution_count": 12,
   "metadata": {},
   "outputs": [
    {
     "name": "stdout",
     "output_type": "stream",
     "text": [
      "3      2012.0\n",
      "5      2012.0\n",
      "8      2012.0\n",
      "9      2012.0\n",
      "11     2012.0\n",
      "        ...  \n",
      "808    2013.0\n",
      "815    2014.0\n",
      "816    2014.0\n",
      "819    2014.0\n",
      "821    2013.0\n",
      "Name: cease_date, Length: 311, dtype: float64\n"
     ]
    }
   ],
   "source": [
    "print(dete_resignations['cease_date'])"
   ]
  },
  {
   "cell_type": "code",
   "execution_count": 13,
   "metadata": {},
   "outputs": [
    {
     "name": "stdout",
     "output_type": "stream",
     "text": [
      "2013.0    146\n",
      "2012.0    129\n",
      "2014.0     22\n",
      "2010.0      2\n",
      "2006.0      1\n",
      "Name: cease_date, dtype: int64\n"
     ]
    }
   ],
   "source": [
    "print(dete_resignations['cease_date'].value_counts())"
   ]
  },
  {
   "cell_type": "code",
   "execution_count": 14,
   "metadata": {},
   "outputs": [
    {
     "name": "stdout",
     "output_type": "stream",
     "text": [
      "2011.0    24\n",
      "2008.0    22\n",
      "2007.0    21\n",
      "2012.0    21\n",
      "2010.0    17\n",
      "2005.0    15\n",
      "2004.0    14\n",
      "2009.0    13\n",
      "2006.0    13\n",
      "2013.0    10\n",
      "2000.0     9\n",
      "1999.0     8\n",
      "1996.0     6\n",
      "2002.0     6\n",
      "1992.0     6\n",
      "1998.0     6\n",
      "2003.0     6\n",
      "1994.0     6\n",
      "1993.0     5\n",
      "1990.0     5\n",
      "1980.0     5\n",
      "1997.0     5\n",
      "1991.0     4\n",
      "1989.0     4\n",
      "1988.0     4\n",
      "1995.0     4\n",
      "2001.0     3\n",
      "1985.0     3\n",
      "1986.0     3\n",
      "1983.0     2\n",
      "1976.0     2\n",
      "1974.0     2\n",
      "1971.0     1\n",
      "1972.0     1\n",
      "1984.0     1\n",
      "1982.0     1\n",
      "1987.0     1\n",
      "1975.0     1\n",
      "1973.0     1\n",
      "1977.0     1\n",
      "1963.0     1\n",
      "Name: dete_start_date, dtype: int64\n"
     ]
    }
   ],
   "source": [
    "print(dete_resignations['dete_start_date'].value_counts())"
   ]
  },
  {
   "cell_type": "markdown",
   "metadata": {},
   "source": [
    "For the `dete_resignations` we can cofirm that there are no start dates later than the cease dates. We also do not have start dates going back as far as 1940. The earliest start date is 1963. What's the situation in the `tafe_resignations`data?"
   ]
  },
  {
   "cell_type": "code",
   "execution_count": 15,
   "metadata": {},
   "outputs": [
    {
     "name": "stdout",
     "output_type": "stream",
     "text": [
      "2011.0    116\n",
      "2012.0     94\n",
      "2010.0     68\n",
      "2013.0     55\n",
      "2009.0      2\n",
      "Name: cease_date, dtype: int64\n"
     ]
    }
   ],
   "source": [
    "print(tafe_resignations['cease_date'].value_counts())"
   ]
  },
  {
   "cell_type": "markdown",
   "metadata": {},
   "source": [
    "Both series look plausible to me. We have a broad range of `defe` start dates and only a small range of resignation dates (2006-2013). Likewise in `tafe` the range of resignation dates is only a range between 2009-2011. Generally, that seems to point towards fairly long tenures. But we might look at that in the next step."
   ]
  },
  {
   "cell_type": "markdown",
   "metadata": {},
   "source": [
    "## Create a length of service variable in `dete`\n",
    "\n",
    "We only have to create this column in the `dete`dataset, since a comparable column called `institute_service` already exists in `tafe`."
   ]
  },
  {
   "cell_type": "code",
   "execution_count": 16,
   "metadata": {},
   "outputs": [],
   "source": [
    "dete_resignations = dete_resignations.copy()\n",
    "dete_resignations['institute_service'] = dete_resignations['cease_date'] - dete_resignations['dete_start_date']"
   ]
  },
  {
   "cell_type": "markdown",
   "metadata": {},
   "source": [
    "Let's quickly get some summary statistics."
   ]
  },
  {
   "cell_type": "code",
   "execution_count": 17,
   "metadata": {},
   "outputs": [
    {
     "name": "stdout",
     "output_type": "stream",
     "text": [
      "count    273.000000\n",
      "mean      10.457875\n",
      "std        9.931709\n",
      "min        0.000000\n",
      "25%        3.000000\n",
      "50%        7.000000\n",
      "75%       16.000000\n",
      "max       49.000000\n",
      "Name: institute_service, dtype: float64\n"
     ]
    }
   ],
   "source": [
    "print(dete_resignations['institute_service'].describe())"
   ]
  },
  {
   "cell_type": "code",
   "execution_count": 18,
   "metadata": {},
   "outputs": [
    {
     "name": "stdout",
     "output_type": "stream",
     "text": [
      "Less than 1 year      73\n",
      "1-2                   64\n",
      "3-4                   63\n",
      "5-6                   33\n",
      "11-20                 26\n",
      "7-10                  21\n",
      "More than 20 years    10\n",
      "Name: institute_service, dtype: int64\n"
     ]
    }
   ],
   "source": [
    "print(tafe_resignations['institute_service'].value_counts())"
   ]
  },
  {
   "cell_type": "markdown",
   "metadata": {},
   "source": [
    "A rought first comparison of the distributions of `institute_service` in both dataframes seems to hint at slightly shorter tenure at `defe` in comparison to `tafe`. But we need to look at this more rigorously."
   ]
  },
  {
   "cell_type": "markdown",
   "metadata": {},
   "source": [
    "## Identifying dissatisfied employees in the data\n",
    "\n",
    "Next, we'll identify any employees who resigned because they were dissatisfied. We have the following information at our disposal:\n",
    "\n",
    "1. `tafe_survey_updated`:\n",
    "* `Contributing Factors. Dissatisfaction`\n",
    "* `Contributing Factors. Job Dissatisfaction`\n",
    "2. `dete_survey_updated`:\n",
    "* `job_dissatisfaction`\n",
    "* `dissatisfaction_with_the_department`\n",
    "* `physical_work_environment`\n",
    "* `lack_of_recognition`\n",
    "* `lack_of_job_security`\n",
    "* `work_location`\n",
    "* `employment_conditions`\n",
    "* `work_life_balance`\n",
    "* `workload`\n",
    "\n",
    "If the employee indicated any of the factors above caused them to resign, we'll mark them as `dissatisfied` in a new column.\n",
    "We start by converting the `tafe`dissatisfaction indicators into boolean values."
   ]
  },
  {
   "cell_type": "code",
   "execution_count": 19,
   "metadata": {},
   "outputs": [
    {
     "name": "stdout",
     "output_type": "stream",
     "text": [
      "-                                         277\n",
      "Contributing Factors. Dissatisfaction      55\n",
      "Name: Contributing Factors. Dissatisfaction, dtype: int64\n"
     ]
    }
   ],
   "source": [
    "print(tafe_resignations['Contributing Factors. Dissatisfaction'].value_counts())"
   ]
  },
  {
   "cell_type": "code",
   "execution_count": 20,
   "metadata": {},
   "outputs": [],
   "source": [
    "import numpy as np\n",
    "\n",
    "# define a mapping dictionary\n",
    "#tafe_mapper = {'-': False, 'Contributing Factors. Dissatisfaction': True, np.nan: np.nan}\n",
    "\n",
    "# apply to dissatisfaction variables\n",
    "#tafe_resignations.loc[:, 'Contributing Factors. Dissatisfaction'] = tafe_resignations['Contributing Factors. Dissatisfaction'].map(tafe_mapper)\n",
    "#tafe_resignations.loc[:, 'Contributing Factors. Job Dissatisfaction'] = tafe_resignations['Contributing Factors. Job Dissatisfaction'].map(tafe_mapper)"
   ]
  },
  {
   "cell_type": "markdown",
   "metadata": {},
   "source": [
    "If any of the columns listed above contain a `True` value, we'll add a `True` value to a new column named `dissatisfied`. What we did in the previous step with a mapping dictionary can actually be more efficiently achieved by a function."
   ]
  },
  {
   "cell_type": "code",
   "execution_count": 21,
   "metadata": {},
   "outputs": [],
   "source": [
    "def update_vals(val):\n",
    "    if pd.isnull(val):\n",
    "        return np.nan\n",
    "    if val == '-':\n",
    "        return False\n",
    "    else:\n",
    "        return True"
   ]
  },
  {
   "cell_type": "code",
   "execution_count": 22,
   "metadata": {},
   "outputs": [
    {
     "name": "stderr",
     "output_type": "stream",
     "text": [
      "<ipython-input-22-04b6f5546664>:2: SettingWithCopyWarning: \n",
      "A value is trying to be set on a copy of a slice from a DataFrame.\n",
      "Try using .loc[row_indexer,col_indexer] = value instead\n",
      "\n",
      "See the caveats in the documentation: https://pandas.pydata.org/pandas-docs/stable/user_guide/indexing.html#returning-a-view-versus-a-copy\n",
      "  tafe_resignations['dissatisfied'] = tafe_resignations[['Contributing Factors. Dissatisfaction', 'Contributing Factors. Job Dissatisfaction']].applymap(update_vals).any(1, skipna=False)\n"
     ]
    },
    {
     "data": {
      "text/plain": [
       "False    241\n",
       "True      91\n",
       "NaN        8\n",
       "Name: dissatisfied, dtype: int64"
      ]
     },
     "execution_count": 22,
     "metadata": {},
     "output_type": "execute_result"
    }
   ],
   "source": [
    "# apply to all relevant columns\n",
    "tafe_resignations['dissatisfied'] = tafe_resignations[['Contributing Factors. Dissatisfaction', 'Contributing Factors. Job Dissatisfaction']].applymap(update_vals).any(1, skipna=False)\n",
    "tafe_resignations_up = tafe_resignations.copy()\n",
    "\n",
    "# Check the unique values after the updates\n",
    "tafe_resignations_up['dissatisfied'].value_counts(dropna=False)"
   ]
  },
  {
   "cell_type": "code",
   "execution_count": 23,
   "metadata": {},
   "outputs": [
    {
     "data": {
      "text/plain": [
       "False    162\n",
       "True     149\n",
       "Name: dissatisfied, dtype: int64"
      ]
     },
     "execution_count": 23,
     "metadata": {},
     "output_type": "execute_result"
    }
   ],
   "source": [
    "# Update the values in columns related to dissatisfaction to be either True, False, or NaN\n",
    "dete_resignations['dissatisfied'] = dete_resignations[['job_dissatisfaction',\n",
    "       'dissatisfaction_with_the_department', 'physical_work_environment',\n",
    "       'lack_of_recognition', 'lack_of_job_security', 'work_location',\n",
    "       'employment_conditions', 'work_life_balance',\n",
    "       'workload']].any(1, skipna=False)\n",
    "dete_resignations_up = dete_resignations.copy()\n",
    "dete_resignations_up['dissatisfied'].value_counts(dropna=False)"
   ]
  },
  {
   "cell_type": "markdown",
   "metadata": {},
   "source": [
    "## Combining the Data"
   ]
  },
  {
   "cell_type": "markdown",
   "metadata": {},
   "source": [
    "We are now ready to combine both datasets."
   ]
  },
  {
   "cell_type": "code",
   "execution_count": 24,
   "metadata": {},
   "outputs": [],
   "source": [
    "dete_resignations_up['institute'] = 'DETE'\n",
    "tafe_resignations_up['institute'] = 'TAFE'\n",
    "combined = pd.concat([dete_resignations_up, tafe_resignations_up], ignore_index=True)"
   ]
  },
  {
   "cell_type": "code",
   "execution_count": 25,
   "metadata": {},
   "outputs": [],
   "source": [
    "# drop columns with less than 500 non-null values\n",
    "combined_updated = combined.dropna(thresh = 500, axis =1).copy()"
   ]
  },
  {
   "cell_type": "markdown",
   "metadata": {},
   "source": [
    "We combined both dataframes and only retain columns with at least 500 non-missing values."
   ]
  },
  {
   "cell_type": "markdown",
   "metadata": {},
   "source": [
    "## Clean the service column"
   ]
  },
  {
   "cell_type": "code",
   "execution_count": 26,
   "metadata": {},
   "outputs": [
    {
     "name": "stdout",
     "output_type": "stream",
     "text": [
      "NaN                   88\n",
      "Less than 1 year      73\n",
      "1-2                   64\n",
      "3-4                   63\n",
      "5-6                   33\n",
      "11-20                 26\n",
      "5.0                   23\n",
      "1.0                   22\n",
      "7-10                  21\n",
      "0.0                   20\n",
      "3.0                   20\n",
      "6.0                   17\n",
      "4.0                   16\n",
      "2.0                   14\n",
      "9.0                   14\n",
      "7.0                   13\n",
      "More than 20 years    10\n",
      "13.0                   8\n",
      "8.0                    8\n",
      "15.0                   7\n",
      "20.0                   7\n",
      "14.0                   6\n",
      "12.0                   6\n",
      "17.0                   6\n",
      "22.0                   6\n",
      "10.0                   6\n",
      "16.0                   5\n",
      "18.0                   5\n",
      "11.0                   4\n",
      "23.0                   4\n",
      "24.0                   4\n",
      "19.0                   3\n",
      "32.0                   3\n",
      "39.0                   3\n",
      "21.0                   3\n",
      "28.0                   2\n",
      "30.0                   2\n",
      "26.0                   2\n",
      "36.0                   2\n",
      "25.0                   2\n",
      "29.0                   1\n",
      "31.0                   1\n",
      "27.0                   1\n",
      "34.0                   1\n",
      "35.0                   1\n",
      "38.0                   1\n",
      "41.0                   1\n",
      "42.0                   1\n",
      "49.0                   1\n",
      "33.0                   1\n",
      "Name: institute_service, dtype: int64\n"
     ]
    }
   ],
   "source": [
    "print(combined_updated['institute_service'].value_counts(dropna=False))"
   ]
  },
  {
   "cell_type": "markdown",
   "metadata": {},
   "source": [
    "Cleaning this column is a challenge because we have interval coded and binned data at the same time. We will convert all values to categories, according to the following definitions:\n",
    "\n",
    "\n",
    "* New: Less than 3 years at a company\n",
    "* Experienced: 3-6 years at a company\n",
    "* Established: 7-10 years at a company\n",
    "* Veteran: 11 or more years at a company\n"
   ]
  },
  {
   "cell_type": "code",
   "execution_count": 27,
   "metadata": {},
   "outputs": [],
   "source": [
    "combined_updated['institute_service'] = combined_updated['institute_service'].astype(str)"
   ]
  },
  {
   "cell_type": "code",
   "execution_count": 28,
   "metadata": {},
   "outputs": [],
   "source": [
    "# \"Less than 1 year\" and \"More than 20 years\" will be converted by hand\n",
    "# \"Less than 1 year\" --> 0; \"More than 20 years\" --> 20\n",
    "\n",
    "combined_updated['institute_service'] = combined_updated['institute_service'].str.replace('Less than 1 year', '0').str.replace('More than 20 years', '20')"
   ]
  },
  {
   "cell_type": "code",
   "execution_count": 29,
   "metadata": {},
   "outputs": [
    {
     "name": "stdout",
     "output_type": "stream",
     "text": [
      "nan      88\n",
      "0        73\n",
      "1-2      64\n",
      "3-4      63\n",
      "5-6      33\n",
      "11-20    26\n",
      "5.0      23\n",
      "1.0      22\n",
      "7-10     21\n",
      "0.0      20\n",
      "3.0      20\n",
      "6.0      17\n",
      "4.0      16\n",
      "9.0      14\n",
      "2.0      14\n",
      "7.0      13\n",
      "20       10\n",
      "8.0       8\n",
      "13.0      8\n",
      "15.0      7\n",
      "20.0      7\n",
      "17.0      6\n",
      "10.0      6\n",
      "22.0      6\n",
      "14.0      6\n",
      "12.0      6\n",
      "16.0      5\n",
      "18.0      5\n",
      "23.0      4\n",
      "24.0      4\n",
      "11.0      4\n",
      "19.0      3\n",
      "32.0      3\n",
      "39.0      3\n",
      "21.0      3\n",
      "36.0      2\n",
      "30.0      2\n",
      "28.0      2\n",
      "25.0      2\n",
      "26.0      2\n",
      "49.0      1\n",
      "29.0      1\n",
      "33.0      1\n",
      "31.0      1\n",
      "34.0      1\n",
      "38.0      1\n",
      "27.0      1\n",
      "35.0      1\n",
      "42.0      1\n",
      "41.0      1\n",
      "Name: institute_service, dtype: int64\n"
     ]
    }
   ],
   "source": [
    "print(combined_updated['institute_service'].value_counts(dropna=False))"
   ]
  },
  {
   "cell_type": "code",
   "execution_count": 30,
   "metadata": {},
   "outputs": [
    {
     "name": "stdout",
     "output_type": "stream",
     "text": [
      "0        93\n",
      "nan      88\n",
      "1-2      64\n",
      "3-4      63\n",
      "5-6      33\n",
      "11-20    26\n",
      "5        23\n",
      "1        22\n",
      "7-10     21\n",
      "3        20\n",
      "6        17\n",
      "20       17\n",
      "4        16\n",
      "2        14\n",
      "9        14\n",
      "7        13\n",
      "8         8\n",
      "13        8\n",
      "15        7\n",
      "22        6\n",
      "17        6\n",
      "10        6\n",
      "14        6\n",
      "12        6\n",
      "18        5\n",
      "16        5\n",
      "11        4\n",
      "23        4\n",
      "24        4\n",
      "21        3\n",
      "32        3\n",
      "39        3\n",
      "19        3\n",
      "30        2\n",
      "28        2\n",
      "36        2\n",
      "25        2\n",
      "26        2\n",
      "38        1\n",
      "27        1\n",
      "35        1\n",
      "49        1\n",
      "41        1\n",
      "31        1\n",
      "42        1\n",
      "33        1\n",
      "34        1\n",
      "29        1\n",
      "Name: institute_service, dtype: int64\n"
     ]
    }
   ],
   "source": [
    "# mask for those containing a decimal point '.'\n",
    "decimal= combined_updated['institute_service'].str.contains('.', na=False)\n",
    "\n",
    "# split only those with decimal points and keep the first entry\n",
    "combined_updated.loc[decimal, 'institute_service'] = combined_updated.loc[decimal, 'institute_service'].str.split('.').str[0]\n",
    "\n",
    "print(combined_updated['institute_service'].value_counts(dropna=False))"
   ]
  },
  {
   "cell_type": "code",
   "execution_count": 31,
   "metadata": {},
   "outputs": [
    {
     "name": "stdout",
     "output_type": "stream",
     "text": [
      "0.0     93\n",
      "NaN     88\n",
      "1.5     64\n",
      "3.5     63\n",
      "5.5     33\n",
      "15.5    26\n",
      "5.0     23\n",
      "1.0     22\n",
      "8.5     21\n",
      "3.0     20\n",
      "20.0    17\n",
      "6.0     17\n",
      "4.0     16\n",
      "9.0     14\n",
      "2.0     14\n",
      "7.0     13\n",
      "13.0     8\n",
      "8.0      8\n",
      "15.0     7\n",
      "10.0     6\n",
      "12.0     6\n",
      "17.0     6\n",
      "22.0     6\n",
      "14.0     6\n",
      "16.0     5\n",
      "18.0     5\n",
      "11.0     4\n",
      "24.0     4\n",
      "23.0     4\n",
      "19.0     3\n",
      "21.0     3\n",
      "39.0     3\n",
      "32.0     3\n",
      "26.0     2\n",
      "30.0     2\n",
      "36.0     2\n",
      "28.0     2\n",
      "25.0     2\n",
      "29.0     1\n",
      "42.0     1\n",
      "35.0     1\n",
      "27.0     1\n",
      "41.0     1\n",
      "38.0     1\n",
      "49.0     1\n",
      "34.0     1\n",
      "33.0     1\n",
      "31.0     1\n",
      "Name: institute_service, dtype: int64\n"
     ]
    }
   ],
   "source": [
    "# create a mask for the hyphenated entries\n",
    "hyphen= combined_updated['institute_service'].str.contains('-', na=False)\n",
    "\n",
    "# Assign the mean value of the categorical entries; i.e. 1.5 for \"1-2\"\n",
    "combined_updated.loc[hyphen, 'institute_service'] = (\n",
    "    combined_updated.loc[hyphen, 'institute_service'].str.split('-').str[0].astype(float) +\n",
    "    combined_updated.loc[hyphen, 'institute_service'].str.split('-').str[1].astype(float)\n",
    ") / 2\n",
    "\n",
    "# convert \"nan\" to NaN\n",
    "combined_updated['institute_service'] = combined_updated['institute_service'].replace('nan', np.nan)\n",
    "\n",
    "#convert complete column to float\n",
    "combined_updated['institute_service'] = combined_updated['institute_service'].astype(float)\n",
    "\n",
    "print(combined_updated['institute_service'].value_counts(dropna=False))"
   ]
  },
  {
   "cell_type": "markdown",
   "metadata": {},
   "source": [
    "Now we can recode everything into the categories mentioned above."
   ]
  },
  {
   "cell_type": "code",
   "execution_count": 32,
   "metadata": {},
   "outputs": [
    {
     "name": "stdout",
     "output_type": "stream",
     "text": [
      "New: Less than 3 years at a company       193\n",
      "Experienced: 3-6 years at a company       172\n",
      "Veteran: 11 or more years at a company    136\n",
      "NaN                                        88\n",
      "Established: 7-10 years at a company       62\n",
      "Name: service_cat, dtype: int64\n"
     ]
    }
   ],
   "source": [
    "# define a function to recode the numerical values into categories\n",
    "def recode_service(val):\n",
    "    if pd.isnull(val):\n",
    "        return np.nan\n",
    "    elif (val >= 0) & (val < 3):\n",
    "        return \"New: Less than 3 years at a company\"\n",
    "    elif (val >= 3) & (val <=6):\n",
    "        return \"Experienced: 3-6 years at a company\"\n",
    "    elif (val >= 7) & (val <= 10):\n",
    "        return \"Established: 7-10 years at a company\"\n",
    "    elif (val > 10):\n",
    "        return \"Veteran: 11 or more years at a company\"\n",
    "\n",
    "# apply the function to the institute_service column\n",
    "combined_updated['service_cat'] = combined_updated['institute_service'].apply(recode_service)\n",
    "\n",
    "print(combined_updated['service_cat'].value_counts(dropna=False))"
   ]
  },
  {
   "cell_type": "code",
   "execution_count": 33,
   "metadata": {},
   "outputs": [
    {
     "name": "stdout",
     "output_type": "stream",
     "text": [
      "New: Less than 3 years at a company       0.296467\n",
      "Experienced: 3-6 years at a company       0.264209\n",
      "Veteran: 11 or more years at a company    0.208909\n",
      "NaN                                       0.135177\n",
      "Established: 7-10 years at a company      0.095238\n",
      "Name: service_cat, dtype: float64\n"
     ]
    }
   ],
   "source": [
    "print(combined_updated['service_cat'].value_counts(dropna=False, normalize = True))"
   ]
  },
  {
   "cell_type": "markdown",
   "metadata": {},
   "source": [
    "After successfully recoding all the information in the `institute_service`column, we can print the recoded categories. The results show that among resignees, ca. 30 % are new employees (less than 3 years of service). A bit more than a quarter (26 %) are experienced employees with 3-6 years of service. Around 10 % are established employees (7-10 years of service), and the remaining 21 % areveteran employees with 11 or more years at the company. 14 % of the data here is missing."
   ]
  },
  {
   "cell_type": "markdown",
   "metadata": {},
   "source": [
    "## An initial analysis\n",
    "\n",
    "WWe are finally at a stage where we can analyze the dissatisfaction data together with the years of service data for the employees. We will fill in the missing values in the `dissatisfied`column first. For this, we will replace the missings with the values occuring most frequently in this column. After that, we will plot the results."
   ]
  },
  {
   "cell_type": "code",
   "execution_count": 34,
   "metadata": {},
   "outputs": [
    {
     "name": "stdout",
     "output_type": "stream",
     "text": [
      "False    403\n",
      "True     240\n",
      "NaN        8\n",
      "Name: dissatisfied, dtype: int64\n"
     ]
    }
   ],
   "source": [
    "print(combined_updated['dissatisfied'].value_counts(dropna=False))"
   ]
  },
  {
   "cell_type": "markdown",
   "metadata": {},
   "source": [
    "Based on this statistic, we fill the missing values with `False`."
   ]
  },
  {
   "cell_type": "code",
   "execution_count": 36,
   "metadata": {},
   "outputs": [
    {
     "name": "stdout",
     "output_type": "stream",
     "text": [
      "False    411\n",
      "True     240\n",
      "Name: dissatisfied, dtype: int64\n"
     ]
    }
   ],
   "source": [
    "combined_updated['dissatisfied'] = combined_updated['dissatisfied'].fillna(value=False)\n",
    "print(combined_updated['dissatisfied'].value_counts(dropna=False))"
   ]
  },
  {
   "cell_type": "code",
   "execution_count": 51,
   "metadata": {},
   "outputs": [
    {
     "data": {
      "image/png": "[encoded data removed]",
      "text/plain": [
       "<Figure size 600x400 with 1 Axes>"
      ]
     },
     "metadata": {},
     "output_type": "display_data"
    }
   ],
   "source": [
    "# make a pivot table and a plot\n",
    "import matplotlib.pyplot as plt\n",
    "import matplotlib.style as style\n",
    "%matplotlib inline\n",
    "\n",
    "# Fill NaNs in service_cat with the label \"Unknown\"\n",
    "combined_updated['service_cat'] = combined_updated['service_cat'].fillna('Unknown')\n",
    "\n",
    "# Define the custom order for the categories in service_cat\n",
    "category_order = [\n",
    "    'Unknown',\n",
    "    'New: Less than 3 years at a company',\n",
    "    'Experienced: 3-6 years at a company',\n",
    "    'Established: 7-10 years at a company',\n",
    "    'Veteran: 11 or more years at a company'\n",
    "]\n",
    "\n",
    "# Convert the 'service_cat' column to a categorical type with the custom order\n",
    "combined_updated['service_cat'] = pd.Categorical(combined_updated['service_cat'], categories=category_order, ordered=True)\n",
    "\n",
    "# make a pivot table\n",
    "pv_dissat = combined_updated.pivot_table(index='service_cat', values='dissatisfied', aggfunc='mean')\n",
    "\n",
    "# Sort the pivot table by the custom order\n",
    "pv_dissat = pv_dissat.reindex(category_order)\n",
    "\n",
    "# Plot the bar chart\n",
    "ax = pv_dissat.plot(kind='bar', rot=30)\n",
    "\n",
    "# Ensure all labels are displayed correctly\n",
    "ax.set_xticklabels(category_order)\n",
    "ax.set_xticklabels(category_order, rotation=30, ha='right')\n",
    "\n",
    "plt.show()"
   ]
  },
  {
   "cell_type": "markdown",
   "metadata": {},
   "source": [
    "Looking at our plot, we can make a number of interesting observations. First of all, the respondents in the \"Unknown\" category of service at the institiute has a similar satisfaction level than the employees with less than 3 years of experience. While we cannot know for sure, it's not implausible that the unknowns are actually also new employees. We then see that dissatisfaction levels among resignees roughly increase with tenure at the institute. Experienced emplyees report dissatisfaction to 35 %, the established employees to 50 %, and the veteran employees also around 48 %. The dissatisfaction among the established and veteran employees might be related to changes in management or the way that the institute operates. They potentially have a harder time to adapt, which leads to dissatisfaction and eventually their resignment.\n",
    "But the level of dissatisfaction among the new joiners is also fairly considerable (with 30%). In this group, we might hypothesise that they could have had different expectations when they signed up for the job, and these expectations were just not fulfilled, making them leave within the first 3 years.\n",
    "\n",
    "## Conclusion\n",
    "\n",
    "We analysed dissatisfaction levels among employees of DETE and TAFE, conditional upon their years of working at the institute. Our findings show that new as well as established employees that have resigned show a fair amount of dissatisfaction. 30 % among new employees who resigned reported dissatisfaction. This could be due to lack of fit between the expectations and the role. Among established and veteran employees, those haveing worked there between 7 and 10 years or even more than 10 years, the dissatisfaction levels reach as high as 50 %. This could be an indication of dissatisfaction in the wake of management changes or changes in the way that the institutes operate, which lead to dissatisfaction and resignation among these employees."
   ]
  },
  {
   "cell_type": "code",
   "execution_count": null,
   "metadata": {},
   "outputs": [],
   "source": []
  }
 ],
 "metadata": {
  "kernelspec": {
   "display_name": "Python 3",
   "language": "python",
   "name": "python3"
  },
  "language_info": {
   "codemirror_mode": {
    "name": "ipython",
    "version": 3
   },
   "file_extension": ".py",
   "mimetype": "text/x-python",
   "name": "python",
   "nbconvert_exporter": "python",
   "pygments_lexer": "ipython3",
   "version": "3.8.2"
  }
 },
 "nbformat": 4,
 "nbformat_minor": 2
}
