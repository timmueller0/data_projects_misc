{
 "cells": [
  {
   "cell_type": "markdown",
   "metadata": {
    "collapsed": true
   },
   "source": [
    "# Analyzing Stock Prices\n",
    "\n",
    "In this project, we'll work with stock market data downloaded from [Yahoo Finance](https://finance.yahoo.com/) using the [yahoo_finance](https://pypi.python.org/pypi/yahoo-finance) Python package. This data consists of the daily stock prices from `2007-1-1` to `2017-04-17` for several hundred stock symbols traded on the [NASDAQ](http://www.nasdaq.com/) stock exchange, stored in the prices folder. We used the `download_data.py` script in the same folder as the Jupyter notebook to download all of the stock price data. Each file in the prices folder has a specific stock symbol for its name, and each contains the following information:\n",
    "\n",
    "- `date` — the data's date\n",
    "- `close` — the date's closing price\n",
    "- `open` — the date's opening price\n",
    "- `high` — the date's highest stock price during trading\n",
    "- `low` — the date's lowest stock price during trading\n",
    "- `volume` — the date's number of shares traded\n",
    "\n",
    "In each stock symbol file the prices are sorted in ascending order by day. Stock trading doesn't happen on certain days, like weekends and holidays, so there are gaps between days — we only have data for days trading occurs. \n",
    "\n",
    "We will read in and store all of the data using a dictionary with the stock symbols (name of the file without the .csv extension) as the values and the value associated with each key as a DataFrame storing the data from the CSV file."
   ]
  },
  {
   "cell_type": "code",
   "execution_count": 1,
   "metadata": {},
   "outputs": [],
   "source": [
    "import pandas as pd\n",
    "import os"
   ]
  },
  {
   "cell_type": "code",
   "execution_count": 2,
   "metadata": {},
   "outputs": [
    {
     "name": "stdout",
     "output_type": "stream",
     "text": [
      "            date       close        open        high         low     volume\n",
      "0     2007-01-03   83.800002   86.289999   86.579999   81.899999  309579900\n",
      "1     2007-01-04   85.659998   84.050001   85.949998   83.820003  211815100\n",
      "2     2007-01-05   85.049997   85.770000   86.199997   84.400002  208685400\n",
      "3     2007-01-08   85.470000   85.959998   86.529998   85.280003  199276700\n",
      "4     2007-01-09   92.570003   86.450003   92.979999   85.150000  837324600\n",
      "...          ...         ...         ...         ...         ...        ...\n",
      "2585  2017-04-10  143.169998  143.600006  143.880005  142.899994   18473000\n",
      "2586  2017-04-11  141.630005  142.940002  143.350006  140.059998   30275300\n",
      "2587  2017-04-12  141.800003  141.600006  142.149994  141.009995   20238900\n",
      "2588  2017-04-13  141.050003  141.910004  142.380005  141.050003   17652900\n",
      "2589  2017-04-17  141.830002  141.479996  141.880005  140.869995   16424000\n",
      "\n",
      "[2590 rows x 6 columns]\n"
     ]
    }
   ],
   "source": [
    "prices = {}\n",
    "for fn in os.listdir(\"prices\"):\n",
    "    filename = fn.split('.')[0]  # getting the filename without the extension\n",
    "    file = pd.read_csv(os.path.join(\"prices\", fn))  # read in each file in prices as a df\n",
    "    prices[filename] = file  # store the df in the prices dictionary\n",
    "    \n",
    "print(prices['aapl'])"
   ]
  },
  {
   "cell_type": "markdown",
   "metadata": {},
   "source": [
    "## Minimum and Maximum Average Closing Prices\n",
    "\n",
    "Now that we've read in the data, we can use it to compute aggregates. For example, we can find the following:\n",
    "\n",
    "- The average closing price of each stock\n",
    "- The minimum average closing price over all stocks\n",
    "- The maximum average closing price over all stocks\n",
    "\n",
    "We can leverage the `DataFrame.mean()` function to do this. We will create a dictionary with stock symbols as keys and average closing prices as values and then find the stocks with minimum and maximum average closing prices."
   ]
  },
  {
   "cell_type": "code",
   "execution_count": 3,
   "metadata": {},
   "outputs": [],
   "source": [
    "# Dictionary with stock symbol keys and average closing prices as value\n",
    "avg_closing_prices = {}\n",
    "for stock, data in prices.items():\n",
    "    avg_closing_prices[stock] = data['close'].mean()"
   ]
  },
  {
   "cell_type": "code",
   "execution_count": 4,
   "metadata": {},
   "outputs": [
    {
     "name": "stdout",
     "output_type": "stream",
     "text": [
      "Stock min avg closing price:  blfs 0.8122763011583011\n",
      "Stock max avg closing price:  amzn 275.13407757104255\n"
     ]
    }
   ],
   "source": [
    "# Stock with the minimum average closing price\n",
    "min_avg_stock = min(avg_closing_prices, key=avg_closing_prices.get)  # return key having min value\n",
    "min_avg_price = avg_closing_prices[min_avg_stock]  # get the value of the key\n",
    "print(\"Stock min avg closing price: \", min_avg_stock, min_avg_price)  # print both\n",
    "\n",
    "# Stock with the maximum average closing price\n",
    "max_avg_stock = max(avg_closing_prices, key=avg_closing_prices.get)  # return key having min value\n",
    "max_avg_price = avg_closing_prices[max_avg_stock]  # get the value of the key\n",
    "print(\"Stock max avg closing price: \", max_avg_stock, max_avg_price)  # print both"
   ]
  },
  {
   "cell_type": "markdown",
   "metadata": {},
   "source": [
    "## Grouping Trades per Day\n",
    "\n",
    "To answer the following questions, it will be easier to organize the trades by date. To do so, we'll calculate a dictionary where the keys are the dates and the values are a list of all trades from all stock symbols that occurred on that day.\n",
    "\n",
    "For each day, we'll want a list of pairs `(volume, stock_symbol)` of all trades that occurred on that day."
   ]
  },
  {
   "cell_type": "code",
   "execution_count": 5,
   "metadata": {},
   "outputs": [],
   "source": [
    "# Dictionary with date as keys and (volume, stock symbol) as values\n",
    "trades_per_day = {}  # initialize empty dictionary\n",
    "for stock, data in prices.items():  # iterate through the prices dictionary\n",
    "    for index, row in data.iterrows():  # iterate through the rows of the data (each stock)\n",
    "        if row['date'] not in trades_per_day:  # if the date is not in the dictionary\n",
    "            trades_per_day[row['date']] = []  # add the date as a key with an empty list as value\n",
    "        trades_per_day[row['date']].append((row['volume'], stock))  # append the volume and stock symbol to the list"
   ]
  },
  {
   "cell_type": "code",
   "execution_count": 6,
   "metadata": {},
   "outputs": [
    {
     "name": "stdout",
     "output_type": "stream",
     "text": [
      "[(12000, 'dgica'), (52700, 'bdge'), (32200, 'cvco'), (2637100, 'blkb'), (142300, 'bbox'), (135600, 'ffbc'), (23200, 'fbiz'), (33200, 'ffic'), (372800, 'bdsi'), (4281400, 'amgn'), (3165200, 'expe'), (760200, 'expd'), (164500, 'cur'), (51600, 'clct'), (2262800, 'alny'), (4500, 'evol'), (84200, 'ahgp'), (3300, 'dfbg'), (420100, 'afsi'), (268700, 'chy'), (810000, 'bmrn'), (33900, 'agys'), (2300, 'adrd'), (376300, 'drrx'), (1959500, 'crus'), (105300, 'brew'), (700, 'fbms'), (0, 'emcf'), (6800, 'bsqr'), (293100, 'csfl'), (1795400, 'car'), (14329400, 'cmcsa'), (63400, 'capr'), (161400, 'cmtl'), (176100, 'elos'), (354500, 'cplp'), (4800, 'eltk'), (104300, 'agii'), (31000, 'coke'), (39800, 'egan'), (28200, 'cpss'), (346800, 'adtn'), (714500, 'ffiv'), (16900, 'cspi'), (101600, 'bwen'), (319200, 'cgnx'), (1682300, 'cdns'), (12400, 'egt'), (2077600, 'cray'), (26300, 'arcw'), (195400, 'bncn'), (248900, 'admp'), (261800, 'cnsl'), (144200, 'abax'), (29700, 'aris'), (175300, 'cyrn'), (90700, 'asys'), (12600, 'bosc'), (881500, 'achn'), (34200, 'ahpi'), (10463900, 'ebay'), (121400, 'apog'), (289600, 'camp'), (5263800, 'acor'), (615800, 'ewbc'), (3600, 'artw'), (78200, 'cvgi'), (1400, 'czwi'), (422000, 'cprt'), (1300, 'cfnb'), (93500, 'astc'), (107200, 'csii'), (4500, 'daio'), (300500, 'amri'), (0, 'ctib'), (174100, 'flws'), (51400, 'ccbg'), (600, 'cizn'), (300, 'dwaq'), (51300, 'flxs'), (86400, 'cnob'), (3793100, 'clsn'), (73300, 'arql'), (59100, 'attu'), (143600, 'cybe'), (14800, 'cpsh'), (468700, 'fmbi'), (76100, 'awre'), (1808400, 'adsk'), (353500, 'ccmp'), (70200, 'dgii'), (1688200, 'acad'), (28700, 'arow'), (3193000, 'ea'), (15752200, 'atvi'), (19300, 'cass'), (241600, 'ecpg'), (200, 'cmct'), (86900, 'cytx'), (67600, 'cznc'), (93000, 'atec'), (924900, 'bont'), (19400, 'cdti'), (10900, 'crds'), (5700, 'adru'), (196600, 'fizz'), (2000, 'aey'), (59300, 'ctrn'), (0, 'dnbf'), (3400, 'chmg'), (60100, 'call'), (16300, 'boch'), (14000, 'ancx'), (11300, 'cfcb'), (271300, 'acgl'), (80300, 'atro'), (457800, 'ffin'), (435200, 'ango'), (42300, 'dwsn'), (657700, 'eght'), (3235400, 'ctrp'), (133100, 'dakt'), (1279100, 'depo'), (12727700, 'ctsh'), (246200, 'cpsi'), (81700, 'cnxn'), (831300, 'bldp'), (18500, 'belfb'), (39800, 'esca'), (4700, 'botj'), (1064400, 'bwld'), (2000, 'dgas'), (165700, 'bobe'), (591000, 'brks'), (19800, 'ccne'), (739100, 'cytr'), (4827900, 'cy'), (132100, 'cown'), (2696500, 'cern'), (100, 'eqfn'), (11300, 'aemd'), (107100, 'fele'), (281100, 'cpst'), (105700, 'expo'), (2254400, 'axas'), (207500, 'crtn'), (269700, 'efii'), (12900, 'alco'), (61500, 'cutr'), (1691600, 'amkr'), (2159200, 'cenx'), (1057500, 'bcrx'), (3971800, 'ctxs'), (27500, 'caas'), (665000, 'cers'), (1094600, 'cake'), (1381900, 'amrn'), (37300, 'bwinb'), (33400, 'asrv'), (3200, 'atri'), (500, 'adra'), (66200, 'emms'), (62500, 'avdl'), (75900, 'falc'), (14800, 'bpopn'), (31100, 'fisi'), (400, 'bwina'), (94200, 'fll'), (480100, 'apri'), (9900, 'dlhc'), (30300, 'boom'), (175800, 'esnd'), (97300, 'diod'), (5700, 'cvv'), (18300, 'dsgx'), (1600, 'arkr'), (88300, 'cohu'), (15600, 'cgnt'), (413100, 'casy'), (186200, 'ceva'), (589200, 'camt'), (291300, 'bjri'), (1818900, 'dish'), (106800, 'buse'), (4517400, 'dltr'), (28200, 'cvcy'), (1606100, 'exas'), (123300, 'abcb'), (20900, 'crmt'), (133400, 'algt'), (4315500, 'flex'), (1195000, 'fast'), (1800, 'cyan'), (321700, 'epay'), (99300, 'amwd'), (151900, 'cvti'), (2165500, 'alxn'), (418500, 'calm'), (12100, 'cnit'), (96300, 'afam'), (18200, 'educ'), (23100, 'dysl'), (488200, 'csgs'), (146800, 'ccoi'), (35700, 'cpla'), (47700, 'dmrc'), (3500, 'cntf'), (173900, 'evep'), (4500, 'cuba'), (108800, 'cthr'), (36700, 'cwco'), (86900, 'anip'), (260100, 'actg'), (5300, 'cpah'), (92000, 'ctic'), (2621000, 'bgcp'), (81600, 'efsc'), (245500, 'cacc'), (704100, 'bofi'), (39300, 'chfn'), (2500, 'cban'), (1123900, 'colm'), (3408600, 'celg'), (2468400, 'amzn'), (752800, 'entg'), (3700, 'ffhl'), (407600, 'acet'), (90300, 'aegn'), (4700, 'dvcr'), (231100, 'bcor'), (1419500, 'arrs'), (6000, 'dhil'), (46700, 'crws'), (5000, 'cemi'), (10600, 'cui'), (143300, 'aplp'), (41800, 'cunb'), (11300, 'chnr'), (380100, 'egbn'), (228800, 'casc'), (30800, 'ctbi'), (40600, 'avir'), (14500, 'fdef'), (9700, 'asrvp'), (400800, 'clmt'), (34100, 'atni'), (1398400, 'bios'), (541500, 'denn'), (4700, 'cvly'), (0, 'discb'), (746100, 'cinf'), (39800, 'fcnca'), (7800, 'dtrm'), (127300, 'ebix'), (116500, 'acls'), (121100, 'bokf'), (51300, 'bde'), (5198600, 'bbby'), (500, 'casm'), (6200, 'cbli'), (16500, 'fhco'), (0, 'banfp'), (93200, 'dzsi'), (100, 'belfa'), (0, 'czfc'), (332700, 'caty'), (0, 'cyccp'), (95700, 'aezs'), (4070600, 'akam'), (14700, 'elon'), (210100, 'csgp'), (21600, 'ebtc'), (92300, 'clbs'), (20200, 'cnty'), (148000, 'aimc'), (88000, 'dxpe'), (471100, 'eqix'), (40800, 'amot'), (232700, 'cris'), (7089900, 'aal'), (320000, 'aeis'), (626700, 'dox'), (90400, 'csbr'), (122600, 'cresy'), (89400, 'bcli'), (233600, 'cvbf'), (650300, 'aciw'), (205100, 'arlp'), (104800, 'asur'), (77200, 'cbak'), (2422500, 'ca'), (1051500, 'csiq'), (2400, 'esbk'), (100500, 'edap'), (3010100, 'amtd'), (1500, 'cart'), (18700, 'civb'), (75200, 'acta'), (82400, 'ecol'), (2552900, 'aehr'), (693900, 'artx'), (1525400, 'cme'), (711100, 'cffn'), (18706900, 'csco'), (1724800, 'chrw'), (1000, 'apwc'), (740600, 'arwr'), (182700, 'cmco'), (8300, 'bnso'), (65300, 'club'), (17000, 'bmra'), (37200, 'eslt'), (5700, 'eei'), (111100, 'amed'), (49200, 'abtl'), (20300, 'clro'), (27300, 'ffkt'), (3200, 'cffi'), (22100, 'essa'), (6515500, 'amat'), (970800, 'azpn'), (53500, 'arii'), (458400, 'alqa'), (1900, 'aubn'), (25400, 'exac'), (66600, 'bcpc'), (4500, 'adre'), (324000, 'arcb'), (5200, 'bybk'), (10986900, 'drys'), (66800, 'esxb'), (627000, 'achc'), (8200, 'edgw'), (112400, 'aaon'), (400, 'fbss'), (160100, 'abeo'), (75400, 'cash'), (28349900, 'aapl'), (0, 'airt'), (141300, 'aaww'), (3800, 'else'), (528000, 'bgfv'), (17800, 'dxyn'), (188700, 'cmpr'), (26900, 'cgo'), (414700, 'cbrl'), (1549000, 'arcc'), (98500, 'cfbk'), (4200, 'bcbp'), (88200, 'exfo'), (157700, 'brkl'), (15200, 'fccy'), (373100, 'core'), (8092300, 'exel'), (124000, 'allt'), (670500, 'algn'), (133400, 'exls'), (129200, 'dorm'), (322600, 'chfc'), (357100, 'audc'), (4587500, 'dcth'), (756000, 'elgx'), (1327800, 'ainv'), (76900, 'bkmu'), (34300, 'artna'), (38900, 'asfi'), (170600, 'ceco'), (19500, 'ctws'), (353700, 'cvlt'), (315000, 'baby'), (142100, 'atrc'), (140600, 'cetv'), (20900, 'banf'), (16400, 'esgr'), (5816500, 'brcd'), (1742800, 'bidu'), (15300, 'chscp'), (143300, 'cvgw'), (820400, 'asml'), (0, 'bvsn'), (62100, 'byfc'), (90600, 'cent'), (12900, 'cbio'), (103000, 'egle'), (52100, 'biol'), (92100, 'atax'), (287400, 'acxm'), (3100, 'cyrx'), (6100, 'chci'), (440400, 'adxs'), (92600, 'aste'), (3198700, 'etfc'), (146500, 'cbmx'), (6700, 'cnbka'), (71100, 'csbk'), (25600, 'bfin'), (43200, 'avhi'), (50100, 'chke'), (493800, 'dvax'), (20900, 'cool'), (4900, 'bmrc'), (27600, 'basi'), (75100, 'alog'), (37600, 'cidm'), (8200, 'dswl'), (111800, 'cprx'), (143500, 'amsc'), (6308600, 'endp'), (6800, 'alot'), (8600, 'bksc'), (1000, 'cbfv'), (1133300, 'crox'), (191900, 'cwst'), (2976100, 'asna'), (708200, 'abco'), (74300, 'axgn'), (963200, 'eeft'), (236200, 'cece'), (33700, 'apdn'), (38300, 'fbnc'), (271700, 'cbsh'), (128700, 'dcom'), (28300, 'dave'), (324400, 'csq'), (1399100, 'biib'), (798100, 'extr'), (158200, 'bebe'), (73400, 'amsf'), (1859100, 'akrx'), (386800, 'cytk'), (0, 'dgicb'), (1688900, 'adbe'), (92400, 'anik'), (87500, 'alsk'), (1976700, 'finl'), (86900, 'ardm'), (94600, 'farm'), (2436600, 'disca'), (11000, 'dest'), (84200, 'bmtc'), (190500, 'ccrn'), (1831900, 'eric'), (246800, 'conn'), (346200, 'ezpw'), (405400, 'bpop'), (18400, 'crme'), (2338500, 'clrb'), (9800, 'cycc'), (640200, 'cort'), (1894400, 'fisv'), (4800, 'blfs'), (56200, 'cfnl'), (1373800, 'chkp'), (95100, 'faro'), (0, 'aame'), (2817900, 'bbry'), (19800, 'eml'), (40000, 'evlv'), (1016300, 'amag'), (365100, 'apps'), (6000, 'amnb'), (600, 'emitf'), (4900, 'atlo'), (470600, 'emkr'), (1733300, 'cldx'), (1664600, 'crnt'), (73900, 'dxtr'), (105900, 'cgen'), (159800, 'avav'), (778100, 'dxcm'), (10819300, 'arry'), (243700, 'axdx'), (600, 'cdor'), (39300, 'chdn'), (623700, 'aaxn'), (31100, 'amswa'), (18400, 'cigi'), (73400, 'clfd'), (243600, 'arlz'), (29900, 'bset'), (423600, 'chi'), (431300, 'cohr'), (2999600, 'cree'), (67200, 'ehth'), (19900, 'ccur'), (2100, 'acfc'), (2200, 'djco'), (13300, 'bbgi'), (919500, 'cald'), (24800, 'emci'), (101200, 'cacb'), (2192300, 'adi'), (24000, 'crai'), (2606900, 'cost'), (866000, 'agen'), (18900, 'ctg'), (6108300, 'csx'), (182300, 'cnmd'), (28500, 'dmlp'), (48700, 'dspg'), (29900, 'arci'), (520400, 'aray'), (5300, 'brid'), (14500, 'bsf'), (12600, 'bstc'), (19300, 'casi'), (363800, 'flir'), (123700, 'centa'), (1200, 'fcap'), (1712800, 'crzo'), (20200, 'cac'), (74000, 'chco'), (345600, 'atrs'), (37400, 'drad'), (108600, 'cdzi'), (3000, 'cswc'), (3737000, 'esrx'), (1269300, 'arna'), (0, 'clwt'), (131800, 'ande'), (69100, 'cobz'), (6800, 'creg'), (1276400, 'bldr'), (1000, 'feim'), (9900, 'evbs'), (133500, 'atsg'), (1200, 'cwbc'), (72435600, 'amd'), (179100, 'cmls'), (223700, 'airm'), (298700, 'dram'), (88100, 'esio'), (810700, 'brkr'), (0, 'atlc'), (3300, 'carv'), (156500, 'avnw'), (41300, 'crvl'), (1802200, 'aobc'), (372800, 'abmd'), (11500, 'amrb'), (296200, 'becn'), (47700, 'bsrr'), (3200, 'acnb'), (6000, 'fcco'), (10400, 'abio'), (510200, 'alks'), (3380800, 'adp'), (184200, 'axti'), (246900, 'dwch'), (474100, 'ctas'), (28900, 'anat'), (27700, 'bbh'), (10000, 'aiq'), (275800, 'colb'), (21700, 'bbsi'), (108400, 'banr'), (325400, 'anss'), (700, 'dynt'), (655900, 'eng'), (19500, 'flic')]\n"
     ]
    }
   ],
   "source": [
    "print(trades_per_day['2017-02-09'])"
   ]
  },
  {
   "cell_type": "markdown",
   "metadata": {},
   "source": [
    "## Finding the Most Traded Stock Each Day\n",
    "\n",
    "Now that we've computed some aggregates, we can find the most-traded stock each day. For that, we'll calculate a dictionary where the keys are the days and the values are a tuple `(trade_vol, stock_symbol)`. The `stock_symbol` represents the most-traded stock symbol on that day, and `trade_vol` represents the trade volume (stored in the `volume` column).\n",
    "\n",
    "Finding the most-traded stock can help us find trends in the broader market and see which companies are \"hot\" at which times."
   ]
  },
  {
   "cell_type": "code",
   "execution_count": 7,
   "metadata": {},
   "outputs": [],
   "source": [
    "# Dictionary with date as keys and (volume, stock symbol (max volume on that day)) as values\n",
    "most_traded_per_day = {}  # initialize empty dictionary\n",
    "for date, trades in trades_per_day.items():  # iterate through the trades_per_day dictionary\n",
    "    most_traded_per_day[date] = max(trades, key=lambda x: x[0])[1]  # get the stock symbol with the max volume for each day from tuples"
   ]
  },
  {
   "cell_type": "code",
   "execution_count": 8,
   "metadata": {},
   "outputs": [
    {
     "data": {
      "text/plain": [
       "[('2007-01-03', 'aapl'),\n",
       " ('2007-01-04', 'aapl'),\n",
       " ('2007-01-05', 'aapl'),\n",
       " ('2007-01-08', 'aapl'),\n",
       " ('2007-01-09', 'aapl')]"
      ]
     },
     "execution_count": 8,
     "metadata": {},
     "output_type": "execute_result"
    }
   ],
   "source": [
    "list(most_traded_per_day.items())[:5]  # print first 5 items"
   ]
  },
  {
   "cell_type": "code",
   "execution_count": 10,
   "metadata": {},
   "outputs": [
    {
     "name": "stdout",
     "output_type": "stream",
     "text": [
      "amd\n",
      "Most traded stock on 2017-02-09: amd with volume 72435600\n"
     ]
    }
   ],
   "source": [
    "print(most_traded_per_day['2017-02-09'])  # print the most traded stock on 2017-02-09\n",
    "\n",
    "# Finding the volume of that stock on that day\n",
    "volume_on_date = prices[most_traded_per_day['2017-02-09']][prices[most_traded_per_day['2017-02-09']]['date'] == '2017-02-09']['volume'].values[0]\n",
    "print(f\"Most traded stock on 2017-02-09: {most_traded_per_day['2017-02-09']} with volume {volume_on_date}\")"
   ]
  },
  {
   "cell_type": "markdown",
   "metadata": {},
   "source": [
    "## Searching for High Volume Days\n",
    "\n",
    "Let's search for all transactions on days with unusually high volume. In order to do this, we'll need to do the following:\n",
    "\n",
    "- Compute total volume of trading for each day\n",
    "- Sort and find the 10 highest volume days overall\n",
    "\n",
    "We will create a dictionary where the keys are the dates and the values are the total volume of that day (over all stocks)."
   ]
  },
  {
   "cell_type": "code",
   "execution_count": 11,
   "metadata": {},
   "outputs": [],
   "source": [
    "# Dictionary with date as keys and total volume (all stocks) as values\n",
    "total_volume_per_day = {}  # initialize empty dictionary\n",
    "for date, trades in trades_per_day.items():  # iterate through the trades_per_day dictionary\n",
    "    total_volume_per_day[date] = sum([trade[0] for trade in trades])  # sum the volume of all stocks for each"
   ]
  },
  {
   "cell_type": "code",
   "execution_count": 12,
   "metadata": {},
   "outputs": [
    {
     "name": "stdout",
     "output_type": "stream",
     "text": [
      "['2008-01-23', '2008-10-10', '2007-07-26', '2008-10-08', '2008-01-22', '2008-02-07', '2008-09-29', '2007-11-08', '2008-01-16', '2008-01-24']\n"
     ]
    }
   ],
   "source": [
    "# Print 10 highest volume days\n",
    "highest_volume_days = sorted(total_volume_per_day, key=total_volume_per_day.get, reverse=True)[:10]\n",
    "print(highest_volume_days)"
   ]
  },
  {
   "cell_type": "markdown",
   "metadata": {},
   "source": [
    "## Finding Profitable Stocks\n",
    "\n",
    "Let's see which stocks would have been the most profitable to buy. We can do this by doing the following:\n",
    "\n",
    "- Subtracting the initial close price (first row) from the final close price (last row), then computing a percentage relative to the initial price. This tells us how much our initial investment would have grown or reduced.\n",
    "- Sorting all of the percentages.\n",
    "- Finding the 10 stocks that grew the most in the time period."
   ]
  },
  {
   "cell_type": "code",
   "execution_count": 13,
   "metadata": {},
   "outputs": [],
   "source": [
    "# Calculate the profit for each stock in percent over total time period\n",
    "profit_per_stock = {}\n",
    "for stock, data in prices.items():\n",
    "    opening_price = data.iloc[0]['open']\n",
    "    closing_price = data.iloc[-1]['close']\n",
    "    profit_per_stock[stock] = (closing_price - opening_price) / opening_price * 100"
   ]
  },
  {
   "cell_type": "code",
   "execution_count": 16,
   "metadata": {},
   "outputs": [
    {
     "name": "stdout",
     "output_type": "stream",
     "text": [
      "Stock: admp, Profit: 7483.84%\n",
      "Stock: adxs, Profit: 4461.11%\n",
      "Stock: arcw, Profit: 3898.60%\n",
      "Stock: blfs, Profit: 2799.96%\n",
      "Stock: amzn, Profit: 2231.93%\n",
      "Stock: anip, Profit: 1681.90%\n",
      "Stock: apdn, Profit: 1549.67%\n",
      "Stock: cui, Profit: 1525.16%\n",
      "Stock: axgn, Profit: 1502.74%\n",
      "Stock: bcli, Profit: 1449.92%\n"
     ]
    }
   ],
   "source": [
    "# Identify the top 10 most profitable stocks\n",
    "most_profitable = sorted(profit_per_stock, key=profit_per_stock.get, reverse=True)[:10]\n",
    "\n",
    "# Print the profit for each of the top 10 most profitable stocks\n",
    "for stock in most_profitable:\n",
    "    print(f\"Stock: {stock}, Profit: {profit_per_stock[stock]:.2f}%\")"
   ]
  }
 ],
 "metadata": {
  "kernelspec": {
   "display_name": "Python 3",
   "language": "python",
   "name": "python3"
  },
  "language_info": {
   "codemirror_mode": {
    "name": "ipython",
    "version": 3
   },
   "file_extension": ".py",
   "mimetype": "text/x-python",
   "name": "python",
   "nbconvert_exporter": "python",
   "pygments_lexer": "ipython3",
   "version": "3.8.2"
  }
 },
 "nbformat": 4,
 "nbformat_minor": 1
}
